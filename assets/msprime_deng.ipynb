{
 "cells": [
  {
   "cell_type": "code",
   "execution_count": 1,
   "id": "9ff68359",
   "metadata": {},
   "outputs": [
    {
     "name": "stdout",
     "output_type": "stream",
     "text": [
      "Collecting package metadata (current_repodata.json): done\n",
      "Solving environment: done\n",
      "\n",
      "# All requested packages already installed.\n",
      "\n"
     ]
    }
   ],
   "source": [
    "!conda install -c conda-forge msprime"
   ]
  },
  {
   "cell_type": "code",
   "execution_count": 103,
   "id": "e600f70d",
   "metadata": {},
   "outputs": [],
   "source": [
    "import msprime\n",
    "from IPython.display import SVG, display\n",
    "import matplotlib.pyplot as plt"
   ]
  },
  {
   "cell_type": "markdown",
   "id": "b1af5492",
   "metadata": {},
   "source": [
    "# Single site coalescent simulation"
   ]
  },
  {
   "cell_type": "markdown",
   "id": "12dd906b",
   "metadata": {},
   "source": [
    "## Ancestry simulation"
   ]
  },
  {
   "cell_type": "code",
   "execution_count": 17,
   "id": "f5d45705",
   "metadata": {},
   "outputs": [],
   "source": [
    "t = msprime.sim_ancestry(samples=2, population_size=100, sequence_length = 1e4, random_seed=1234)"
   ]
  },
  {
   "cell_type": "code",
   "execution_count": 18,
   "id": "8a6d9116",
   "metadata": {},
   "outputs": [
    {
     "data": {
      "image/svg+xml": [
       "<svg xmlns=\"http://www.w3.org/2000/svg\" xmlns:ev=\"http://www.w3.org/2001/xml-events\" xmlns:xlink=\"http://www.w3.org/1999/xlink\" baseProfile=\"full\" height=\"200\" version=\"1.1\" width=\"200\"><defs><style type=\"text/css\"><![CDATA[.background path {fill: #808080; fill-opacity: 0}.background path:nth-child(odd) {fill-opacity: .1}.axes {font-size: 14px}.x-axis .tick .lab {font-weight: bold; dominant-baseline: hanging}.axes, .tree {font-size: 14px; text-anchor: middle}.axes line, .edge {stroke: black; fill: none}.y-axis .grid {stroke: #FAFAFA}.node > .sym {fill: black; stroke: none}.site > .sym {stroke: black}.mut text {fill: red; font-style: italic}.mut.extra text {fill: hotpink}.mut line {fill: none; stroke: none}.mut .sym {fill: none; stroke: red}.mut.extra .sym {stroke: hotpink}.node .mut .sym {stroke-width: 1.5px}.tree text, .tree-sequence text {dominant-baseline: central}.plotbox .lab.lft {text-anchor: end}.plotbox .lab.rgt {text-anchor: start}]]></style></defs><g class=\"tree-sequence\"><g class=\"background\"><path d=\"M56.8,0 l123.2,0 l0,138.2 l0,25 l0,5 l-123.2,0 l0,-5 l0,-25 l0,-138.2z\"/></g><g class=\"axes\"><g class=\"x-axis\"><g transform=\"translate(118.4,200)\"><text class=\"lab\" text-anchor=\"middle\" transform=\"translate(0 -11)\">Genome position</text></g><line x1=\"56.8\" x2=\"180\" y1=\"163.2\" y2=\"163.2\"/><g class=\"ticks\"><g class=\"tick\" transform=\"translate(56.8 163.2)\"><line x1=\"0\" x2=\"0\" y1=\"0\" y2=\"5\"/><g transform=\"translate(0,6)\"><text class=\"lab\">0</text></g></g><g class=\"tick\" transform=\"translate(180 163.2)\"><line x1=\"0\" x2=\"0\" y1=\"0\" y2=\"5\"/><g transform=\"translate(0,6)\"><text class=\"lab\">10000</text></g></g></g></g><g class=\"y-axis\"><g transform=\"translate(0,65.7)\"><text class=\"lab\" text-anchor=\"middle\" transform=\"translate(11) rotate(-90)\">Time</text></g><line x1=\"56.8\" x2=\"56.8\" y1=\"121.4\" y2=\"10\"/><g class=\"ticks\"><g class=\"tick\" transform=\"translate(56.8 121.4)\"><line x1=\"0\" x2=\"-5\" y1=\"0\" y2=\"0\"/><g transform=\"translate(-6,0)\"><text class=\"lab\" text-anchor=\"end\">0.00</text></g></g><g class=\"tick\" transform=\"translate(56.8 119.835)\"><line x1=\"0\" x2=\"-5\" y1=\"0\" y2=\"0\"/><g transform=\"translate(-6,0)\"><text class=\"lab\" text-anchor=\"end\">7.09</text></g></g><g class=\"tick\" transform=\"translate(56.8 94.7646)\"><line x1=\"0\" x2=\"-5\" y1=\"0\" y2=\"0\"/><g transform=\"translate(-6,0)\"><text class=\"lab\" text-anchor=\"end\">120.61</text></g></g><g class=\"tick\" transform=\"translate(56.8 26.8)\"><line x1=\"0\" x2=\"-5\" y1=\"0\" y2=\"0\"/><g transform=\"translate(-6,0)\"><text class=\"lab\" text-anchor=\"end\">428.37</text></g></g></g></g></g><g class=\"plotbox trees\"><g class=\"tree t0\" transform=\"translate(56.8 0)\"><g class=\"plotbox\"><g class=\"c2 node n6 p0 root\" transform=\"translate(61.6 26.8)\"><g class=\"a6 c2 node n4 p0\" transform=\"translate(20.8 93.035)\"><g class=\"a4 i0 leaf node n1 p0 sample\" transform=\"translate(-10.4 1.565)\"><path class=\"edge\" d=\"M 0 0 V -1.565 H 10.4\"/><rect class=\"sym\" height=\"6\" width=\"6\" x=\"-3\" y=\"-3\"/><text class=\"lab\" transform=\"translate(0 11)\">1</text></g><g class=\"a4 i1 leaf node n2 p0 sample\" transform=\"translate(10.4 1.565)\"><path class=\"edge\" d=\"M 0 0 V -1.565 H -10.4\"/><rect class=\"sym\" height=\"6\" width=\"6\" x=\"-3\" y=\"-3\"/><text class=\"lab\" transform=\"translate(0 11)\">2</text></g><path class=\"edge\" d=\"M 0 0 V -93.035 H -20.8\"/><circle class=\"sym\" cx=\"0\" cy=\"0\" r=\"3\"/><text class=\"lab rgt\" transform=\"translate(3 -7.0)\">4</text></g><g class=\"a6 c2 node n5 p0\" transform=\"translate(-20.8 67.9646)\"><g class=\"a5 i0 leaf node n0 p0 sample\" transform=\"translate(-10.4 26.6354)\"><path class=\"edge\" d=\"M 0 0 V -26.6354 H 10.4\"/><rect class=\"sym\" height=\"6\" width=\"6\" x=\"-3\" y=\"-3\"/><text class=\"lab\" transform=\"translate(0 11)\">0</text></g><g class=\"a5 i1 leaf node n3 p0 sample\" transform=\"translate(10.4 26.6354)\"><path class=\"edge\" d=\"M 0 0 V -26.6354 H -10.4\"/><rect class=\"sym\" height=\"6\" width=\"6\" x=\"-3\" y=\"-3\"/><text class=\"lab\" transform=\"translate(0 11)\">3</text></g><path class=\"edge\" d=\"M 0 0 V -67.9646 H 20.8\"/><circle class=\"sym\" cx=\"0\" cy=\"0\" r=\"3\"/><text class=\"lab lft\" transform=\"translate(-3 -7.0)\">5</text></g><circle class=\"sym\" cx=\"0\" cy=\"0\" r=\"3\"/><text class=\"lab\" transform=\"translate(0 -11)\">6</text></g></g></g></g></g></svg>"
      ],
      "text/plain": [
       "<IPython.core.display.SVG object>"
      ]
     },
     "execution_count": 18,
     "metadata": {},
     "output_type": "execute_result"
    }
   ],
   "source": [
    "SVG(t.draw_svg(y_axis=True))"
   ]
  },
  {
   "cell_type": "markdown",
   "id": "474b9ba4",
   "metadata": {},
   "source": [
    "## Get information from tree"
   ]
  },
  {
   "cell_type": "code",
   "execution_count": 75,
   "id": "f30aa3c1",
   "metadata": {},
   "outputs": [],
   "source": [
    "tree = t.first()"
   ]
  },
  {
   "cell_type": "code",
   "execution_count": 76,
   "id": "4a0ba525",
   "metadata": {},
   "outputs": [
    {
     "data": {
      "image/svg+xml": [
       "<svg xmlns=\"http://www.w3.org/2000/svg\" xmlns:ev=\"http://www.w3.org/2001/xml-events\" xmlns:xlink=\"http://www.w3.org/1999/xlink\" baseProfile=\"full\" height=\"200\" version=\"1.1\" width=\"200\"><defs><style type=\"text/css\"><![CDATA[.background path {fill: #808080; fill-opacity: 0}.background path:nth-child(odd) {fill-opacity: .1}.axes {font-size: 14px}.x-axis .tick .lab {font-weight: bold; dominant-baseline: hanging}.axes, .tree {font-size: 14px; text-anchor: middle}.axes line, .edge {stroke: black; fill: none}.y-axis .grid {stroke: #FAFAFA}.node > .sym {fill: black; stroke: none}.site > .sym {stroke: black}.mut text {fill: red; font-style: italic}.mut.extra text {fill: hotpink}.mut line {fill: none; stroke: none}.mut .sym {fill: none; stroke: red}.mut.extra .sym {stroke: hotpink}.node .mut .sym {stroke-width: 1.5px}.tree text, .tree-sequence text {dominant-baseline: central}.plotbox .lab.lft {text-anchor: end}.plotbox .lab.rgt {text-anchor: start}]]></style></defs><g class=\"tree-sequence\"><g class=\"background\"><path d=\"M56.8,0 l123.2,0 l0,138.2 l0,25 l0,5 l-123.2,0 l0,-5 l0,-25 l0,-138.2z\"/></g><g class=\"axes\"><g class=\"x-axis\"><g transform=\"translate(118.4,200)\"><text class=\"lab\" text-anchor=\"middle\" transform=\"translate(0 -11)\">Genome position</text></g><line x1=\"56.8\" x2=\"180\" y1=\"163.2\" y2=\"163.2\"/><g class=\"ticks\"><g class=\"tick\" transform=\"translate(56.8 163.2)\"><line x1=\"0\" x2=\"0\" y1=\"0\" y2=\"5\"/><g transform=\"translate(0,6)\"><text class=\"lab\">0</text></g></g><g class=\"tick\" transform=\"translate(180 163.2)\"><line x1=\"0\" x2=\"0\" y1=\"0\" y2=\"5\"/><g transform=\"translate(0,6)\"><text class=\"lab\">10000</text></g></g></g></g><g class=\"y-axis\"><g transform=\"translate(0,65.7)\"><text class=\"lab\" text-anchor=\"middle\" transform=\"translate(11) rotate(-90)\">Time</text></g><line x1=\"56.8\" x2=\"56.8\" y1=\"121.4\" y2=\"10\"/><g class=\"ticks\"><g class=\"tick\" transform=\"translate(56.8 121.4)\"><line x1=\"0\" x2=\"-5\" y1=\"0\" y2=\"0\"/><g transform=\"translate(-6,0)\"><text class=\"lab\" text-anchor=\"end\">0.00</text></g></g><g class=\"tick\" transform=\"translate(56.8 119.835)\"><line x1=\"0\" x2=\"-5\" y1=\"0\" y2=\"0\"/><g transform=\"translate(-6,0)\"><text class=\"lab\" text-anchor=\"end\">7.09</text></g></g><g class=\"tick\" transform=\"translate(56.8 94.7646)\"><line x1=\"0\" x2=\"-5\" y1=\"0\" y2=\"0\"/><g transform=\"translate(-6,0)\"><text class=\"lab\" text-anchor=\"end\">120.61</text></g></g><g class=\"tick\" transform=\"translate(56.8 26.8)\"><line x1=\"0\" x2=\"-5\" y1=\"0\" y2=\"0\"/><g transform=\"translate(-6,0)\"><text class=\"lab\" text-anchor=\"end\">428.37</text></g></g></g></g></g><g class=\"plotbox trees\"><g class=\"tree t0\" transform=\"translate(56.8 0)\"><g class=\"plotbox\"><g class=\"c2 node n6 p0 root\" transform=\"translate(61.6 26.8)\"><g class=\"a6 c2 node n4 p0\" transform=\"translate(20.8 93.035)\"><g class=\"a4 i0 leaf node n1 p0 sample\" transform=\"translate(-10.4 1.565)\"><path class=\"edge\" d=\"M 0 0 V -1.565 H 10.4\"/><rect class=\"sym\" height=\"6\" width=\"6\" x=\"-3\" y=\"-3\"/><text class=\"lab\" transform=\"translate(0 11)\">1</text></g><g class=\"a4 i1 leaf node n2 p0 sample\" transform=\"translate(10.4 1.565)\"><path class=\"edge\" d=\"M 0 0 V -1.565 H -10.4\"/><rect class=\"sym\" height=\"6\" width=\"6\" x=\"-3\" y=\"-3\"/><text class=\"lab\" transform=\"translate(0 11)\">2</text></g><path class=\"edge\" d=\"M 0 0 V -93.035 H -20.8\"/><circle class=\"sym\" cx=\"0\" cy=\"0\" r=\"3\"/><text class=\"lab rgt\" transform=\"translate(3 -7.0)\">4</text></g><g class=\"a6 c2 node n5 p0\" transform=\"translate(-20.8 67.9646)\"><g class=\"a5 i0 leaf node n0 p0 sample\" transform=\"translate(-10.4 26.6354)\"><path class=\"edge\" d=\"M 0 0 V -26.6354 H 10.4\"/><rect class=\"sym\" height=\"6\" width=\"6\" x=\"-3\" y=\"-3\"/><text class=\"lab\" transform=\"translate(0 11)\">0</text></g><g class=\"a5 i1 leaf node n3 p0 sample\" transform=\"translate(10.4 26.6354)\"><path class=\"edge\" d=\"M 0 0 V -26.6354 H -10.4\"/><rect class=\"sym\" height=\"6\" width=\"6\" x=\"-3\" y=\"-3\"/><text class=\"lab\" transform=\"translate(0 11)\">3</text></g><path class=\"edge\" d=\"M 0 0 V -67.9646 H 20.8\"/><circle class=\"sym\" cx=\"0\" cy=\"0\" r=\"3\"/><text class=\"lab lft\" transform=\"translate(-3 -7.0)\">5</text></g><circle class=\"sym\" cx=\"0\" cy=\"0\" r=\"3\"/><text class=\"lab\" transform=\"translate(0 -11)\">6</text></g></g></g></g></g></svg>"
      ],
      "text/plain": [
       "<IPython.core.display.SVG object>"
      ]
     },
     "execution_count": 76,
     "metadata": {},
     "output_type": "execute_result"
    }
   ],
   "source": [
    "SVG(t.draw_svg(y_axis=True))"
   ]
  },
  {
   "cell_type": "code",
   "execution_count": 77,
   "id": "663bf5c9",
   "metadata": {},
   "outputs": [
    {
     "data": {
      "text/plain": [
       "6"
      ]
     },
     "execution_count": 77,
     "metadata": {},
     "output_type": "execute_result"
    }
   ],
   "source": [
    "tree.root"
   ]
  },
  {
   "cell_type": "code",
   "execution_count": 78,
   "id": "0e1ff05d",
   "metadata": {},
   "outputs": [
    {
     "data": {
      "text/plain": [
       "4"
      ]
     },
     "execution_count": 78,
     "metadata": {},
     "output_type": "execute_result"
    }
   ],
   "source": [
    "tree.sample_size"
   ]
  },
  {
   "cell_type": "code",
   "execution_count": 79,
   "id": "6512f1dd",
   "metadata": {},
   "outputs": [
    {
     "data": {
      "text/plain": [
       "120.61070914045273"
      ]
     },
     "execution_count": 79,
     "metadata": {},
     "output_type": "execute_result"
    }
   ],
   "source": [
    "tree.time(5)"
   ]
  },
  {
   "cell_type": "code",
   "execution_count": 80,
   "id": "410ede19",
   "metadata": {},
   "outputs": [
    {
     "data": {
      "text/plain": [
       "6"
      ]
     },
     "execution_count": 80,
     "metadata": {},
     "output_type": "execute_result"
    }
   ],
   "source": [
    "tree.parent(5)"
   ]
  },
  {
   "cell_type": "code",
   "execution_count": 83,
   "id": "66d12f02",
   "metadata": {},
   "outputs": [
    {
     "data": {
      "text/plain": [
       "-1"
      ]
     },
     "execution_count": 83,
     "metadata": {},
     "output_type": "execute_result"
    }
   ],
   "source": [
    "tree.parent(6)"
   ]
  },
  {
   "cell_type": "code",
   "execution_count": 81,
   "id": "10a372e0",
   "metadata": {},
   "outputs": [
    {
     "data": {
      "text/plain": [
       "(0, 3)"
      ]
     },
     "execution_count": 81,
     "metadata": {},
     "output_type": "execute_result"
    }
   ],
   "source": [
    "tree.children(5)"
   ]
  },
  {
   "cell_type": "code",
   "execution_count": 82,
   "id": "772502bc",
   "metadata": {},
   "outputs": [
    {
     "data": {
      "text/plain": [
       "()"
      ]
     },
     "execution_count": 82,
     "metadata": {},
     "output_type": "execute_result"
    }
   ],
   "source": [
    "tree.children(3)"
   ]
  },
  {
   "cell_type": "markdown",
   "id": "363ae2be",
   "metadata": {},
   "source": [
    "# Mutation simulation"
   ]
  },
  {
   "cell_type": "code",
   "execution_count": 19,
   "id": "15251a73",
   "metadata": {},
   "outputs": [],
   "source": [
    "mt = msprime.sim_mutations(t, rate=2e-6, random_seed=5678)"
   ]
  },
  {
   "cell_type": "code",
   "execution_count": 20,
   "id": "3ba5c8b1",
   "metadata": {},
   "outputs": [
    {
     "data": {
      "image/svg+xml": [
       "<svg xmlns=\"http://www.w3.org/2000/svg\" xmlns:ev=\"http://www.w3.org/2001/xml-events\" xmlns:xlink=\"http://www.w3.org/1999/xlink\" baseProfile=\"full\" height=\"200\" version=\"1.1\" width=\"200\"><defs><style type=\"text/css\"><![CDATA[.background path {fill: #808080; fill-opacity: 0}.background path:nth-child(odd) {fill-opacity: .1}.axes {font-size: 14px}.x-axis .tick .lab {font-weight: bold; dominant-baseline: hanging}.axes, .tree {font-size: 14px; text-anchor: middle}.axes line, .edge {stroke: black; fill: none}.y-axis .grid {stroke: #FAFAFA}.node > .sym {fill: black; stroke: none}.site > .sym {stroke: black}.mut text {fill: red; font-style: italic}.mut.extra text {fill: hotpink}.mut line {fill: none; stroke: none}.mut .sym {fill: none; stroke: red}.mut.extra .sym {stroke: hotpink}.node .mut .sym {stroke-width: 1.5px}.tree text, .tree-sequence text {dominant-baseline: central}.plotbox .lab.lft {text-anchor: end}.plotbox .lab.rgt {text-anchor: start}]]></style></defs><g class=\"tree-sequence\"><g class=\"background\"><path d=\"M56.8,0 l123.2,0 l0,138.2 l0,25 l0,5 l-123.2,0 l0,-5 l0,-25 l0,-138.2z\"/></g><g class=\"axes\"><g class=\"x-axis\"><g transform=\"translate(118.4,200)\"><text class=\"lab\" text-anchor=\"middle\" transform=\"translate(0 -11)\">Genome position</text></g><line x1=\"56.8\" x2=\"180\" y1=\"163.2\" y2=\"163.2\"/><g class=\"ticks\"><g class=\"tick\" transform=\"translate(56.8 163.2)\"><line x1=\"0\" x2=\"0\" y1=\"0\" y2=\"5\"/><g transform=\"translate(0,6)\"><text class=\"lab\">0</text></g></g><g class=\"tick\" transform=\"translate(180 163.2)\"><line x1=\"0\" x2=\"0\" y1=\"0\" y2=\"5\"/><g transform=\"translate(0,6)\"><text class=\"lab\">10000</text></g></g></g><g class=\"site s0\" transform=\"translate(59.4118 163.2)\"><line class=\"sym\" x1=\"0\" x2=\"0\" y1=\"0\" y2=\"-10\"/><g class=\"mut m0\"><polyline class=\"sym\" points=\"2.5,-6.5 0,-1.5 -2.5,-6.5\"/></g></g><g class=\"site s1\" transform=\"translate(63.9702 163.2)\"><line class=\"sym\" x1=\"0\" x2=\"0\" y1=\"0\" y2=\"-10\"/><g class=\"mut m1\"><polyline class=\"sym\" points=\"2.5,-6.5 0,-1.5 -2.5,-6.5\"/></g></g><g class=\"site s2\" transform=\"translate(75.6003 163.2)\"><line class=\"sym\" x1=\"0\" x2=\"0\" y1=\"0\" y2=\"-10\"/><g class=\"mut m2\"><polyline class=\"sym\" points=\"2.5,-6.5 0,-1.5 -2.5,-6.5\"/></g></g><g class=\"site s3\" transform=\"translate(76.8077 163.2)\"><line class=\"sym\" x1=\"0\" x2=\"0\" y1=\"0\" y2=\"-10\"/><g class=\"mut m3\"><polyline class=\"sym\" points=\"2.5,-6.5 0,-1.5 -2.5,-6.5\"/></g></g><g class=\"site s4\" transform=\"translate(91.4808 163.2)\"><line class=\"sym\" x1=\"0\" x2=\"0\" y1=\"0\" y2=\"-10\"/><g class=\"mut m4\"><polyline class=\"sym\" points=\"2.5,-6.5 0,-1.5 -2.5,-6.5\"/></g></g><g class=\"site s5\" transform=\"translate(106.733 163.2)\"><line class=\"sym\" x1=\"0\" x2=\"0\" y1=\"0\" y2=\"-10\"/><g class=\"mut m5\"><polyline class=\"sym\" points=\"2.5,-6.5 0,-1.5 -2.5,-6.5\"/></g></g><g class=\"site s6\" transform=\"translate(108.384 163.2)\"><line class=\"sym\" x1=\"0\" x2=\"0\" y1=\"0\" y2=\"-10\"/><g class=\"mut m6\"><polyline class=\"sym\" points=\"2.5,-6.5 0,-1.5 -2.5,-6.5\"/></g></g><g class=\"site s7\" transform=\"translate(111.587 163.2)\"><line class=\"sym\" x1=\"0\" x2=\"0\" y1=\"0\" y2=\"-10\"/><g class=\"mut m7\"><polyline class=\"sym\" points=\"2.5,-6.5 0,-1.5 -2.5,-6.5\"/></g></g><g class=\"site s8\" transform=\"translate(112.708 163.2)\"><line class=\"sym\" x1=\"0\" x2=\"0\" y1=\"0\" y2=\"-10\"/><g class=\"mut m8\"><polyline class=\"sym\" points=\"2.5,-6.5 0,-1.5 -2.5,-6.5\"/></g></g><g class=\"site s9\" transform=\"translate(115.887 163.2)\"><line class=\"sym\" x1=\"0\" x2=\"0\" y1=\"0\" y2=\"-10\"/><g class=\"mut m9\"><polyline class=\"sym\" points=\"2.5,-6.5 0,-1.5 -2.5,-6.5\"/></g></g><g class=\"site s10\" transform=\"translate(151.257 163.2)\"><line class=\"sym\" x1=\"0\" x2=\"0\" y1=\"0\" y2=\"-10\"/><g class=\"mut m10\"><polyline class=\"sym\" points=\"2.5,-6.5 0,-1.5 -2.5,-6.5\"/></g></g><g class=\"site s11\" transform=\"translate(157.738 163.2)\"><line class=\"sym\" x1=\"0\" x2=\"0\" y1=\"0\" y2=\"-10\"/><g class=\"mut m11\"><polyline class=\"sym\" points=\"2.5,-6.5 0,-1.5 -2.5,-6.5\"/></g></g><g class=\"site s12\" transform=\"translate(160.448 163.2)\"><line class=\"sym\" x1=\"0\" x2=\"0\" y1=\"0\" y2=\"-10\"/><g class=\"mut m12\"><polyline class=\"sym\" points=\"2.5,-6.5 0,-1.5 -2.5,-6.5\"/></g></g><g class=\"site s13\" transform=\"translate(164.23 163.2)\"><line class=\"sym\" x1=\"0\" x2=\"0\" y1=\"0\" y2=\"-10\"/><g class=\"mut m13\"><polyline class=\"sym\" points=\"2.5,-6.5 0,-1.5 -2.5,-6.5\"/></g></g><g class=\"site s14\" transform=\"translate(167.988 163.2)\"><line class=\"sym\" x1=\"0\" x2=\"0\" y1=\"0\" y2=\"-10\"/><g class=\"mut m14\"><polyline class=\"sym\" points=\"2.5,-6.5 0,-1.5 -2.5,-6.5\"/></g></g><g class=\"site s15\" transform=\"translate(174.579 163.2)\"><line class=\"sym\" x1=\"0\" x2=\"0\" y1=\"0\" y2=\"-10\"/><g class=\"mut m15\"><polyline class=\"sym\" points=\"2.5,-6.5 0,-1.5 -2.5,-6.5\"/></g></g><g class=\"site s16\" transform=\"translate(176.156 163.2)\"><line class=\"sym\" x1=\"0\" x2=\"0\" y1=\"0\" y2=\"-10\"/><g class=\"mut m16\"><polyline class=\"sym\" points=\"2.5,-6.5 0,-1.5 -2.5,-6.5\"/></g></g></g><g class=\"y-axis\"><g transform=\"translate(0,65.7)\"><text class=\"lab\" text-anchor=\"middle\" transform=\"translate(11) rotate(-90)\">Time</text></g><line x1=\"56.8\" x2=\"56.8\" y1=\"121.4\" y2=\"10\"/><g class=\"ticks\"><g class=\"tick\" transform=\"translate(56.8 121.4)\"><line x1=\"0\" x2=\"-5\" y1=\"0\" y2=\"0\"/><g transform=\"translate(-6,0)\"><text class=\"lab\" text-anchor=\"end\">0.00</text></g></g><g class=\"tick\" transform=\"translate(56.8 119.835)\"><line x1=\"0\" x2=\"-5\" y1=\"0\" y2=\"0\"/><g transform=\"translate(-6,0)\"><text class=\"lab\" text-anchor=\"end\">7.09</text></g></g><g class=\"tick\" transform=\"translate(56.8 94.7646)\"><line x1=\"0\" x2=\"-5\" y1=\"0\" y2=\"0\"/><g transform=\"translate(-6,0)\"><text class=\"lab\" text-anchor=\"end\">120.61</text></g></g><g class=\"tick\" transform=\"translate(56.8 26.8)\"><line x1=\"0\" x2=\"-5\" y1=\"0\" y2=\"0\"/><g transform=\"translate(-6,0)\"><text class=\"lab\" text-anchor=\"end\">428.37</text></g></g></g></g></g><g class=\"plotbox trees\"><g class=\"tree t0\" transform=\"translate(56.8 0)\"><g class=\"plotbox\"><g class=\"c2 node n6 p0 root\" transform=\"translate(61.6 26.8)\"><g class=\"a6 c2 m10 m16 m2 m4 m9 node n4 p0 s10 s16 s2 s4 s9\" transform=\"translate(20.8 93.035)\"><g class=\"a4 i0 leaf node n1 p0 sample\" transform=\"translate(-10.4 1.565)\"><path class=\"edge\" d=\"M 0 0 V -1.565 H 10.4\"/><rect class=\"sym\" height=\"6\" width=\"6\" x=\"-3\" y=\"-3\"/><text class=\"lab\" transform=\"translate(0 11)\">1</text></g><g class=\"a4 i1 leaf node n2 p0 sample\" transform=\"translate(10.4 1.565)\"><path class=\"edge\" d=\"M 0 0 V -1.565 H -10.4\"/><rect class=\"sym\" height=\"6\" width=\"6\" x=\"-3\" y=\"-3\"/><text class=\"lab\" transform=\"translate(0 11)\">2</text></g><path class=\"edge\" d=\"M 0 0 V -93.035 H -20.8\"/><g class=\"mut m2 s2\" transform=\"translate(0 -71.4826)\"><line x1=\"0\" x2=\"0\" y1=\"0\" y2=\"71.4826\"/><path class=\"sym\" d=\"M -3,-3 l 6,6 M -3,3 l 6,-6\"/><text class=\"lab rgt\" transform=\"translate(5 0)\">2</text></g><g class=\"mut m4 s4\" transform=\"translate(0 -68.5174)\"><line x1=\"0\" x2=\"0\" y1=\"0\" y2=\"68.5174\"/><path class=\"sym\" d=\"M -3,-3 l 6,6 M -3,3 l 6,-6\"/><text class=\"lab rgt\" transform=\"translate(5 0)\">4</text></g><g class=\"mut m9 s9\" transform=\"translate(0 -59.31)\"><line x1=\"0\" x2=\"0\" y1=\"0\" y2=\"59.31\"/><path class=\"sym\" d=\"M -3,-3 l 6,6 M -3,3 l 6,-6\"/><text class=\"lab rgt\" transform=\"translate(5 0)\">9</text></g><g class=\"mut m10 s10\" transform=\"translate(0 -18.2273)\"><line x1=\"0\" x2=\"0\" y1=\"0\" y2=\"18.2273\"/><path class=\"sym\" d=\"M -3,-3 l 6,6 M -3,3 l 6,-6\"/><text class=\"lab rgt\" transform=\"translate(5 0)\">10</text></g><g class=\"mut m16 s16\" transform=\"translate(0 -8.17107)\"><line x1=\"0\" x2=\"0\" y1=\"0\" y2=\"8.17107\"/><path class=\"sym\" d=\"M -3,-3 l 6,6 M -3,3 l 6,-6\"/><text class=\"lab rgt\" transform=\"translate(5 0)\">16</text></g><circle class=\"sym\" cx=\"0\" cy=\"0\" r=\"3\"/><text class=\"lab rgt\" transform=\"translate(3 -7.0)\">4</text></g><g class=\"a6 c2 m0 m1 m11 m13 m15 m3 m5 m6 m8 node n5 p0 s0 s1 s11 s13 s15 s3 s5 s6 s8\" transform=\"translate(-20.8 67.9646)\"><g class=\"a5 i0 leaf node n0 p0 sample\" transform=\"translate(-10.4 26.6354)\"><path class=\"edge\" d=\"M 0 0 V -26.6354 H 10.4\"/><rect class=\"sym\" height=\"6\" width=\"6\" x=\"-3\" y=\"-3\"/><text class=\"lab\" transform=\"translate(0 11)\">0</text></g><g class=\"a5 i1 leaf m12 m14 m7 node n3 p0 s12 s14 s7 sample\" transform=\"translate(10.4 26.6354)\"><path class=\"edge\" d=\"M 0 0 V -26.6354 H -10.4\"/><g class=\"mut m7 s7\" transform=\"translate(0 -15.934)\"><line x1=\"0\" x2=\"0\" y1=\"0\" y2=\"15.934\"/><path class=\"sym\" d=\"M -3,-3 l 6,6 M -3,3 l 6,-6\"/><text class=\"lab rgt\" transform=\"translate(5 0)\">7</text></g><g class=\"mut m12 s12\" transform=\"translate(0 -11.4696)\"><line x1=\"0\" x2=\"0\" y1=\"0\" y2=\"11.4696\"/><path class=\"sym\" d=\"M -3,-3 l 6,6 M -3,3 l 6,-6\"/><text class=\"lab rgt\" transform=\"translate(5 0)\">12</text></g><g class=\"mut m14 s14\" transform=\"translate(0 -4.758)\"><line x1=\"0\" x2=\"0\" y1=\"0\" y2=\"4.758\"/><path class=\"sym\" d=\"M -3,-3 l 6,6 M -3,3 l 6,-6\"/><text class=\"lab rgt\" transform=\"translate(5 0)\">14</text></g><rect class=\"sym\" height=\"6\" width=\"6\" x=\"-3\" y=\"-3\"/><text class=\"lab\" transform=\"translate(0 11)\">3</text></g><path class=\"edge\" d=\"M 0 0 V -67.9646 H 20.8\"/><g class=\"mut m15 s15\" transform=\"translate(0 -66.8487)\"><line x1=\"0\" x2=\"0\" y1=\"0\" y2=\"66.8487\"/><path class=\"sym\" d=\"M -3,-3 l 6,6 M -3,3 l 6,-6\"/><text class=\"lab lft\" transform=\"translate(-5 0)\">15</text></g><g class=\"mut m11 s11\" transform=\"translate(0 -65.5219)\"><line x1=\"0\" x2=\"0\" y1=\"0\" y2=\"65.5219\"/><path class=\"sym\" d=\"M -3,-3 l 6,6 M -3,3 l 6,-6\"/><text class=\"lab lft\" transform=\"translate(-5 0)\">11</text></g><g class=\"mut m5 s5\" transform=\"translate(0 -60.7997)\"><line x1=\"0\" x2=\"0\" y1=\"0\" y2=\"60.7997\"/><path class=\"sym\" d=\"M -3,-3 l 6,6 M -3,3 l 6,-6\"/><text class=\"lab lft\" transform=\"translate(-5 0)\">5</text></g><g class=\"mut m6 s6\" transform=\"translate(0 -52.0632)\"><line x1=\"0\" x2=\"0\" y1=\"0\" y2=\"52.0632\"/><path class=\"sym\" d=\"M -3,-3 l 6,6 M -3,3 l 6,-6\"/><text class=\"lab lft\" transform=\"translate(-5 0)\">6</text></g><g class=\"mut m8 s8\" transform=\"translate(0 -42.8619)\"><line x1=\"0\" x2=\"0\" y1=\"0\" y2=\"42.8619\"/><path class=\"sym\" d=\"M -3,-3 l 6,6 M -3,3 l 6,-6\"/><text class=\"lab lft\" transform=\"translate(-5 0)\">8</text></g><g class=\"mut m1 s1\" transform=\"translate(0 -33.7481)\"><line x1=\"0\" x2=\"0\" y1=\"0\" y2=\"33.7481\"/><path class=\"sym\" d=\"M -3,-3 l 6,6 M -3,3 l 6,-6\"/><text class=\"lab lft\" transform=\"translate(-5 0)\">1</text></g><g class=\"mut m3 s3\" transform=\"translate(0 -20.999)\"><line x1=\"0\" x2=\"0\" y1=\"0\" y2=\"20.999\"/><path class=\"sym\" d=\"M -3,-3 l 6,6 M -3,3 l 6,-6\"/><text class=\"lab lft\" transform=\"translate(-5 0)\">3</text></g><g class=\"mut m0 s0\" transform=\"translate(0 -9.30191)\"><line x1=\"0\" x2=\"0\" y1=\"0\" y2=\"9.30191\"/><path class=\"sym\" d=\"M -3,-3 l 6,6 M -3,3 l 6,-6\"/><text class=\"lab lft\" transform=\"translate(-5 0)\">0</text></g><g class=\"mut m13 s13\" transform=\"translate(0 -1.26381)\"><line x1=\"0\" x2=\"0\" y1=\"0\" y2=\"1.26381\"/><path class=\"sym\" d=\"M -3,-3 l 6,6 M -3,3 l 6,-6\"/><text class=\"lab lft\" transform=\"translate(-5 0)\">13</text></g><circle class=\"sym\" cx=\"0\" cy=\"0\" r=\"3\"/><text class=\"lab lft\" transform=\"translate(-3 -7.0)\">5</text></g><circle class=\"sym\" cx=\"0\" cy=\"0\" r=\"3\"/><text class=\"lab\" transform=\"translate(0 -11)\">6</text></g></g></g></g></g></svg>"
      ],
      "text/plain": [
       "<IPython.core.display.SVG object>"
      ]
     },
     "execution_count": 20,
     "metadata": {},
     "output_type": "execute_result"
    }
   ],
   "source": [
    "SVG(mt.draw_svg(y_axis=True))"
   ]
  },
  {
   "cell_type": "markdown",
   "id": "a132e83f",
   "metadata": {},
   "source": [
    "## Tree simplification"
   ]
  },
  {
   "cell_type": "code",
   "execution_count": 21,
   "id": "d415573a",
   "metadata": {},
   "outputs": [
    {
     "data": {
      "image/svg+xml": [
       "<svg xmlns=\"http://www.w3.org/2000/svg\" xmlns:ev=\"http://www.w3.org/2001/xml-events\" xmlns:xlink=\"http://www.w3.org/1999/xlink\" baseProfile=\"full\" height=\"200\" version=\"1.1\" width=\"200\"><defs><style type=\"text/css\"><![CDATA[.background path {fill: #808080; fill-opacity: 0}.background path:nth-child(odd) {fill-opacity: .1}.axes {font-size: 14px}.x-axis .tick .lab {font-weight: bold; dominant-baseline: hanging}.axes, .tree {font-size: 14px; text-anchor: middle}.axes line, .edge {stroke: black; fill: none}.y-axis .grid {stroke: #FAFAFA}.node > .sym {fill: black; stroke: none}.site > .sym {stroke: black}.mut text {fill: red; font-style: italic}.mut.extra text {fill: hotpink}.mut line {fill: none; stroke: none}.mut .sym {fill: none; stroke: red}.mut.extra .sym {stroke: hotpink}.node .mut .sym {stroke-width: 1.5px}.tree text, .tree-sequence text {dominant-baseline: central}.plotbox .lab.lft {text-anchor: end}.plotbox .lab.rgt {text-anchor: start}]]></style></defs><g class=\"tree-sequence\"><g class=\"background\"><path d=\"M56.8,0 l123.2,0 l0,138.2 l0,25 l0,5 l-123.2,0 l0,-5 l0,-25 l0,-138.2z\"/></g><g class=\"axes\"><g class=\"x-axis\"><g transform=\"translate(118.4,200)\"><text class=\"lab\" text-anchor=\"middle\" transform=\"translate(0 -11)\">Genome position</text></g><line x1=\"56.8\" x2=\"180\" y1=\"163.2\" y2=\"163.2\"/><g class=\"ticks\"><g class=\"tick\" transform=\"translate(56.8 163.2)\"><line x1=\"0\" x2=\"0\" y1=\"0\" y2=\"5\"/><g transform=\"translate(0,6)\"><text class=\"lab\">0</text></g></g><g class=\"tick\" transform=\"translate(180 163.2)\"><line x1=\"0\" x2=\"0\" y1=\"0\" y2=\"5\"/><g transform=\"translate(0,6)\"><text class=\"lab\">10000</text></g></g></g><g class=\"site s0\" transform=\"translate(59.4118 163.2)\"><line class=\"sym\" x1=\"0\" x2=\"0\" y1=\"0\" y2=\"-10\"/><g class=\"mut m0\"><polyline class=\"sym\" points=\"2.5,-6.5 0,-1.5 -2.5,-6.5\"/></g></g><g class=\"site s1\" transform=\"translate(63.9702 163.2)\"><line class=\"sym\" x1=\"0\" x2=\"0\" y1=\"0\" y2=\"-10\"/><g class=\"mut m1\"><polyline class=\"sym\" points=\"2.5,-6.5 0,-1.5 -2.5,-6.5\"/></g></g><g class=\"site s2\" transform=\"translate(75.6003 163.2)\"><line class=\"sym\" x1=\"0\" x2=\"0\" y1=\"0\" y2=\"-10\"/><g class=\"mut m2\"><polyline class=\"sym\" points=\"2.5,-6.5 0,-1.5 -2.5,-6.5\"/></g></g><g class=\"site s3\" transform=\"translate(76.8077 163.2)\"><line class=\"sym\" x1=\"0\" x2=\"0\" y1=\"0\" y2=\"-10\"/><g class=\"mut m3\"><polyline class=\"sym\" points=\"2.5,-6.5 0,-1.5 -2.5,-6.5\"/></g></g><g class=\"site s4\" transform=\"translate(91.4808 163.2)\"><line class=\"sym\" x1=\"0\" x2=\"0\" y1=\"0\" y2=\"-10\"/><g class=\"mut m4\"><polyline class=\"sym\" points=\"2.5,-6.5 0,-1.5 -2.5,-6.5\"/></g></g><g class=\"site s5\" transform=\"translate(106.733 163.2)\"><line class=\"sym\" x1=\"0\" x2=\"0\" y1=\"0\" y2=\"-10\"/><g class=\"mut m5\"><polyline class=\"sym\" points=\"2.5,-6.5 0,-1.5 -2.5,-6.5\"/></g></g><g class=\"site s6\" transform=\"translate(108.384 163.2)\"><line class=\"sym\" x1=\"0\" x2=\"0\" y1=\"0\" y2=\"-10\"/><g class=\"mut m6\"><polyline class=\"sym\" points=\"2.5,-6.5 0,-1.5 -2.5,-6.5\"/></g></g><g class=\"site s7\" transform=\"translate(111.587 163.2)\"><line class=\"sym\" x1=\"0\" x2=\"0\" y1=\"0\" y2=\"-10\"/><g class=\"mut m7\"><polyline class=\"sym\" points=\"2.5,-6.5 0,-1.5 -2.5,-6.5\"/></g></g><g class=\"site s8\" transform=\"translate(112.708 163.2)\"><line class=\"sym\" x1=\"0\" x2=\"0\" y1=\"0\" y2=\"-10\"/><g class=\"mut m8\"><polyline class=\"sym\" points=\"2.5,-6.5 0,-1.5 -2.5,-6.5\"/></g></g><g class=\"site s9\" transform=\"translate(115.887 163.2)\"><line class=\"sym\" x1=\"0\" x2=\"0\" y1=\"0\" y2=\"-10\"/><g class=\"mut m9\"><polyline class=\"sym\" points=\"2.5,-6.5 0,-1.5 -2.5,-6.5\"/></g></g><g class=\"site s10\" transform=\"translate(151.257 163.2)\"><line class=\"sym\" x1=\"0\" x2=\"0\" y1=\"0\" y2=\"-10\"/><g class=\"mut m10\"><polyline class=\"sym\" points=\"2.5,-6.5 0,-1.5 -2.5,-6.5\"/></g></g><g class=\"site s11\" transform=\"translate(157.738 163.2)\"><line class=\"sym\" x1=\"0\" x2=\"0\" y1=\"0\" y2=\"-10\"/><g class=\"mut m11\"><polyline class=\"sym\" points=\"2.5,-6.5 0,-1.5 -2.5,-6.5\"/></g></g><g class=\"site s12\" transform=\"translate(160.448 163.2)\"><line class=\"sym\" x1=\"0\" x2=\"0\" y1=\"0\" y2=\"-10\"/><g class=\"mut m12\"><polyline class=\"sym\" points=\"2.5,-6.5 0,-1.5 -2.5,-6.5\"/></g></g><g class=\"site s13\" transform=\"translate(164.23 163.2)\"><line class=\"sym\" x1=\"0\" x2=\"0\" y1=\"0\" y2=\"-10\"/><g class=\"mut m13\"><polyline class=\"sym\" points=\"2.5,-6.5 0,-1.5 -2.5,-6.5\"/></g></g><g class=\"site s14\" transform=\"translate(167.988 163.2)\"><line class=\"sym\" x1=\"0\" x2=\"0\" y1=\"0\" y2=\"-10\"/><g class=\"mut m14\"><polyline class=\"sym\" points=\"2.5,-6.5 0,-1.5 -2.5,-6.5\"/></g></g><g class=\"site s15\" transform=\"translate(174.579 163.2)\"><line class=\"sym\" x1=\"0\" x2=\"0\" y1=\"0\" y2=\"-10\"/><g class=\"mut m15\"><polyline class=\"sym\" points=\"2.5,-6.5 0,-1.5 -2.5,-6.5\"/></g></g><g class=\"site s16\" transform=\"translate(176.156 163.2)\"><line class=\"sym\" x1=\"0\" x2=\"0\" y1=\"0\" y2=\"-10\"/><g class=\"mut m16\"><polyline class=\"sym\" points=\"2.5,-6.5 0,-1.5 -2.5,-6.5\"/></g></g></g><g class=\"y-axis\"><g transform=\"translate(0,65.7)\"><text class=\"lab\" text-anchor=\"middle\" transform=\"translate(11) rotate(-90)\">Time</text></g><line x1=\"56.8\" x2=\"56.8\" y1=\"121.4\" y2=\"10\"/><g class=\"ticks\"><g class=\"tick\" transform=\"translate(56.8 121.4)\"><line x1=\"0\" x2=\"-5\" y1=\"0\" y2=\"0\"/><g transform=\"translate(-6,0)\"><text class=\"lab\" text-anchor=\"end\">0.00</text></g></g><g class=\"tick\" transform=\"translate(56.8 119.835)\"><line x1=\"0\" x2=\"-5\" y1=\"0\" y2=\"0\"/><g transform=\"translate(-6,0)\"><text class=\"lab\" text-anchor=\"end\">7.09</text></g></g><g class=\"tick\" transform=\"translate(56.8 94.7646)\"><line x1=\"0\" x2=\"-5\" y1=\"0\" y2=\"0\"/><g transform=\"translate(-6,0)\"><text class=\"lab\" text-anchor=\"end\">120.61</text></g></g><g class=\"tick\" transform=\"translate(56.8 26.8)\"><line x1=\"0\" x2=\"-5\" y1=\"0\" y2=\"0\"/><g transform=\"translate(-6,0)\"><text class=\"lab\" text-anchor=\"end\">428.37</text></g></g></g></g></g><g class=\"plotbox trees\"><g class=\"tree t0\" transform=\"translate(56.8 0)\"><g class=\"plotbox\"><g class=\"c2 node n6 p0 root\" transform=\"translate(61.6 26.8)\"><g class=\"a6 c2 m10 m16 m2 m4 m9 node n4 p0 s10 s16 s2 s4 s9\" transform=\"translate(20.8 93.035)\"><g class=\"a4 i0 leaf node n1 p0 sample\" transform=\"translate(-10.4 1.565)\"><path class=\"edge\" d=\"M 0 0 V -1.565 H 10.4\"/><rect class=\"sym\" height=\"6\" width=\"6\" x=\"-3\" y=\"-3\"/><text class=\"lab\" transform=\"translate(0 11)\">1</text></g><g class=\"a4 i1 leaf node n2 p0 sample\" transform=\"translate(10.4 1.565)\"><path class=\"edge\" d=\"M 0 0 V -1.565 H -10.4\"/><rect class=\"sym\" height=\"6\" width=\"6\" x=\"-3\" y=\"-3\"/><text class=\"lab\" transform=\"translate(0 11)\">2</text></g><path class=\"edge\" d=\"M 0 0 V -93.035 H -20.8\"/><g class=\"mut m2 s2\" transform=\"translate(0 -71.4826)\"><line x1=\"0\" x2=\"0\" y1=\"0\" y2=\"71.4826\"/><path class=\"sym\" d=\"M -3,-3 l 6,6 M -3,3 l 6,-6\"/><text class=\"lab rgt\" transform=\"translate(5 0)\">2</text></g><g class=\"mut m4 s4\" transform=\"translate(0 -68.5174)\"><line x1=\"0\" x2=\"0\" y1=\"0\" y2=\"68.5174\"/><path class=\"sym\" d=\"M -3,-3 l 6,6 M -3,3 l 6,-6\"/><text class=\"lab rgt\" transform=\"translate(5 0)\">4</text></g><g class=\"mut m9 s9\" transform=\"translate(0 -59.31)\"><line x1=\"0\" x2=\"0\" y1=\"0\" y2=\"59.31\"/><path class=\"sym\" d=\"M -3,-3 l 6,6 M -3,3 l 6,-6\"/><text class=\"lab rgt\" transform=\"translate(5 0)\">9</text></g><g class=\"mut m10 s10\" transform=\"translate(0 -18.2273)\"><line x1=\"0\" x2=\"0\" y1=\"0\" y2=\"18.2273\"/><path class=\"sym\" d=\"M -3,-3 l 6,6 M -3,3 l 6,-6\"/><text class=\"lab rgt\" transform=\"translate(5 0)\">10</text></g><g class=\"mut m16 s16\" transform=\"translate(0 -8.17107)\"><line x1=\"0\" x2=\"0\" y1=\"0\" y2=\"8.17107\"/><path class=\"sym\" d=\"M -3,-3 l 6,6 M -3,3 l 6,-6\"/><text class=\"lab rgt\" transform=\"translate(5 0)\">16</text></g><circle class=\"sym\" cx=\"0\" cy=\"0\" r=\"3\"/><text class=\"lab rgt\" transform=\"translate(3 -7.0)\">4</text></g><g class=\"a6 c2 m0 m1 m11 m13 m15 m3 m5 m6 m8 node n5 p0 s0 s1 s11 s13 s15 s3 s5 s6 s8\" transform=\"translate(-20.8 67.9646)\"><g class=\"a5 i0 leaf node n0 p0 sample\" transform=\"translate(-10.4 26.6354)\"><path class=\"edge\" d=\"M 0 0 V -26.6354 H 10.4\"/><rect class=\"sym\" height=\"6\" width=\"6\" x=\"-3\" y=\"-3\"/><text class=\"lab\" transform=\"translate(0 11)\">0</text></g><g class=\"a5 i1 leaf m12 m14 m7 node n3 p0 s12 s14 s7 sample\" transform=\"translate(10.4 26.6354)\"><path class=\"edge\" d=\"M 0 0 V -26.6354 H -10.4\"/><g class=\"mut m7 s7\" transform=\"translate(0 -15.934)\"><line x1=\"0\" x2=\"0\" y1=\"0\" y2=\"15.934\"/><path class=\"sym\" d=\"M -3,-3 l 6,6 M -3,3 l 6,-6\"/><text class=\"lab rgt\" transform=\"translate(5 0)\">7</text></g><g class=\"mut m12 s12\" transform=\"translate(0 -11.4696)\"><line x1=\"0\" x2=\"0\" y1=\"0\" y2=\"11.4696\"/><path class=\"sym\" d=\"M -3,-3 l 6,6 M -3,3 l 6,-6\"/><text class=\"lab rgt\" transform=\"translate(5 0)\">12</text></g><g class=\"mut m14 s14\" transform=\"translate(0 -4.758)\"><line x1=\"0\" x2=\"0\" y1=\"0\" y2=\"4.758\"/><path class=\"sym\" d=\"M -3,-3 l 6,6 M -3,3 l 6,-6\"/><text class=\"lab rgt\" transform=\"translate(5 0)\">14</text></g><rect class=\"sym\" height=\"6\" width=\"6\" x=\"-3\" y=\"-3\"/><text class=\"lab\" transform=\"translate(0 11)\">3</text></g><path class=\"edge\" d=\"M 0 0 V -67.9646 H 20.8\"/><g class=\"mut m15 s15\" transform=\"translate(0 -66.8487)\"><line x1=\"0\" x2=\"0\" y1=\"0\" y2=\"66.8487\"/><path class=\"sym\" d=\"M -3,-3 l 6,6 M -3,3 l 6,-6\"/><text class=\"lab lft\" transform=\"translate(-5 0)\">15</text></g><g class=\"mut m11 s11\" transform=\"translate(0 -65.5219)\"><line x1=\"0\" x2=\"0\" y1=\"0\" y2=\"65.5219\"/><path class=\"sym\" d=\"M -3,-3 l 6,6 M -3,3 l 6,-6\"/><text class=\"lab lft\" transform=\"translate(-5 0)\">11</text></g><g class=\"mut m5 s5\" transform=\"translate(0 -60.7997)\"><line x1=\"0\" x2=\"0\" y1=\"0\" y2=\"60.7997\"/><path class=\"sym\" d=\"M -3,-3 l 6,6 M -3,3 l 6,-6\"/><text class=\"lab lft\" transform=\"translate(-5 0)\">5</text></g><g class=\"mut m6 s6\" transform=\"translate(0 -52.0632)\"><line x1=\"0\" x2=\"0\" y1=\"0\" y2=\"52.0632\"/><path class=\"sym\" d=\"M -3,-3 l 6,6 M -3,3 l 6,-6\"/><text class=\"lab lft\" transform=\"translate(-5 0)\">6</text></g><g class=\"mut m8 s8\" transform=\"translate(0 -42.8619)\"><line x1=\"0\" x2=\"0\" y1=\"0\" y2=\"42.8619\"/><path class=\"sym\" d=\"M -3,-3 l 6,6 M -3,3 l 6,-6\"/><text class=\"lab lft\" transform=\"translate(-5 0)\">8</text></g><g class=\"mut m1 s1\" transform=\"translate(0 -33.7481)\"><line x1=\"0\" x2=\"0\" y1=\"0\" y2=\"33.7481\"/><path class=\"sym\" d=\"M -3,-3 l 6,6 M -3,3 l 6,-6\"/><text class=\"lab lft\" transform=\"translate(-5 0)\">1</text></g><g class=\"mut m3 s3\" transform=\"translate(0 -20.999)\"><line x1=\"0\" x2=\"0\" y1=\"0\" y2=\"20.999\"/><path class=\"sym\" d=\"M -3,-3 l 6,6 M -3,3 l 6,-6\"/><text class=\"lab lft\" transform=\"translate(-5 0)\">3</text></g><g class=\"mut m0 s0\" transform=\"translate(0 -9.30191)\"><line x1=\"0\" x2=\"0\" y1=\"0\" y2=\"9.30191\"/><path class=\"sym\" d=\"M -3,-3 l 6,6 M -3,3 l 6,-6\"/><text class=\"lab lft\" transform=\"translate(-5 0)\">0</text></g><g class=\"mut m13 s13\" transform=\"translate(0 -1.26381)\"><line x1=\"0\" x2=\"0\" y1=\"0\" y2=\"1.26381\"/><path class=\"sym\" d=\"M -3,-3 l 6,6 M -3,3 l 6,-6\"/><text class=\"lab lft\" transform=\"translate(-5 0)\">13</text></g><circle class=\"sym\" cx=\"0\" cy=\"0\" r=\"3\"/><text class=\"lab lft\" transform=\"translate(-3 -7.0)\">5</text></g><circle class=\"sym\" cx=\"0\" cy=\"0\" r=\"3\"/><text class=\"lab\" transform=\"translate(0 -11)\">6</text></g></g></g></g></g></svg>"
      ],
      "text/plain": [
       "<IPython.core.display.SVG object>"
      ]
     },
     "execution_count": 21,
     "metadata": {},
     "output_type": "execute_result"
    }
   ],
   "source": [
    "SVG(mt.draw_svg(y_axis=True))"
   ]
  },
  {
   "cell_type": "code",
   "execution_count": 22,
   "id": "52762691",
   "metadata": {},
   "outputs": [],
   "source": [
    "simplified_mt = mt.simplify(samples=[0, 1])"
   ]
  },
  {
   "cell_type": "code",
   "execution_count": 23,
   "id": "ce0fe795",
   "metadata": {},
   "outputs": [
    {
     "data": {
      "image/svg+xml": [
       "<svg xmlns=\"http://www.w3.org/2000/svg\" xmlns:ev=\"http://www.w3.org/2001/xml-events\" xmlns:xlink=\"http://www.w3.org/1999/xlink\" baseProfile=\"full\" height=\"200\" version=\"1.1\" width=\"200\"><defs><style type=\"text/css\"><![CDATA[.background path {fill: #808080; fill-opacity: 0}.background path:nth-child(odd) {fill-opacity: .1}.axes {font-size: 14px}.x-axis .tick .lab {font-weight: bold; dominant-baseline: hanging}.axes, .tree {font-size: 14px; text-anchor: middle}.axes line, .edge {stroke: black; fill: none}.y-axis .grid {stroke: #FAFAFA}.node > .sym {fill: black; stroke: none}.site > .sym {stroke: black}.mut text {fill: red; font-style: italic}.mut.extra text {fill: hotpink}.mut line {fill: none; stroke: none}.mut .sym {fill: none; stroke: red}.mut.extra .sym {stroke: hotpink}.node .mut .sym {stroke-width: 1.5px}.tree text, .tree-sequence text {dominant-baseline: central}.plotbox .lab.lft {text-anchor: end}.plotbox .lab.rgt {text-anchor: start}]]></style></defs><g class=\"tree-sequence\"><g class=\"background\"><path d=\"M56.8,0 l123.2,0 l0,138.2 l0,25 l0,5 l-123.2,0 l0,-5 l0,-25 l0,-138.2z\"/></g><g class=\"axes\"><g class=\"x-axis\"><g transform=\"translate(118.4,200)\"><text class=\"lab\" text-anchor=\"middle\" transform=\"translate(0 -11)\">Genome position</text></g><line x1=\"56.8\" x2=\"180\" y1=\"163.2\" y2=\"163.2\"/><g class=\"ticks\"><g class=\"tick\" transform=\"translate(56.8 163.2)\"><line x1=\"0\" x2=\"0\" y1=\"0\" y2=\"5\"/><g transform=\"translate(0,6)\"><text class=\"lab\">0</text></g></g><g class=\"tick\" transform=\"translate(180 163.2)\"><line x1=\"0\" x2=\"0\" y1=\"0\" y2=\"5\"/><g transform=\"translate(0,6)\"><text class=\"lab\">10000</text></g></g></g><g class=\"site s0\" transform=\"translate(59.4118 163.2)\"><line class=\"sym\" x1=\"0\" x2=\"0\" y1=\"0\" y2=\"-10\"/><g class=\"mut m0\"><polyline class=\"sym\" points=\"2.5,-6.5 0,-1.5 -2.5,-6.5\"/></g></g><g class=\"site s1\" transform=\"translate(63.9702 163.2)\"><line class=\"sym\" x1=\"0\" x2=\"0\" y1=\"0\" y2=\"-10\"/><g class=\"mut m1\"><polyline class=\"sym\" points=\"2.5,-6.5 0,-1.5 -2.5,-6.5\"/></g></g><g class=\"site s2\" transform=\"translate(75.6003 163.2)\"><line class=\"sym\" x1=\"0\" x2=\"0\" y1=\"0\" y2=\"-10\"/><g class=\"mut m2\"><polyline class=\"sym\" points=\"2.5,-6.5 0,-1.5 -2.5,-6.5\"/></g></g><g class=\"site s3\" transform=\"translate(76.8077 163.2)\"><line class=\"sym\" x1=\"0\" x2=\"0\" y1=\"0\" y2=\"-10\"/><g class=\"mut m3\"><polyline class=\"sym\" points=\"2.5,-6.5 0,-1.5 -2.5,-6.5\"/></g></g><g class=\"site s4\" transform=\"translate(91.4808 163.2)\"><line class=\"sym\" x1=\"0\" x2=\"0\" y1=\"0\" y2=\"-10\"/><g class=\"mut m4\"><polyline class=\"sym\" points=\"2.5,-6.5 0,-1.5 -2.5,-6.5\"/></g></g><g class=\"site s5\" transform=\"translate(106.733 163.2)\"><line class=\"sym\" x1=\"0\" x2=\"0\" y1=\"0\" y2=\"-10\"/><g class=\"mut m5\"><polyline class=\"sym\" points=\"2.5,-6.5 0,-1.5 -2.5,-6.5\"/></g></g><g class=\"site s6\" transform=\"translate(108.384 163.2)\"><line class=\"sym\" x1=\"0\" x2=\"0\" y1=\"0\" y2=\"-10\"/><g class=\"mut m6\"><polyline class=\"sym\" points=\"2.5,-6.5 0,-1.5 -2.5,-6.5\"/></g></g><g class=\"site s7\" transform=\"translate(112.708 163.2)\"><line class=\"sym\" x1=\"0\" x2=\"0\" y1=\"0\" y2=\"-10\"/><g class=\"mut m7\"><polyline class=\"sym\" points=\"2.5,-6.5 0,-1.5 -2.5,-6.5\"/></g></g><g class=\"site s8\" transform=\"translate(115.887 163.2)\"><line class=\"sym\" x1=\"0\" x2=\"0\" y1=\"0\" y2=\"-10\"/><g class=\"mut m8\"><polyline class=\"sym\" points=\"2.5,-6.5 0,-1.5 -2.5,-6.5\"/></g></g><g class=\"site s9\" transform=\"translate(151.257 163.2)\"><line class=\"sym\" x1=\"0\" x2=\"0\" y1=\"0\" y2=\"-10\"/><g class=\"mut m9\"><polyline class=\"sym\" points=\"2.5,-6.5 0,-1.5 -2.5,-6.5\"/></g></g><g class=\"site s10\" transform=\"translate(157.738 163.2)\"><line class=\"sym\" x1=\"0\" x2=\"0\" y1=\"0\" y2=\"-10\"/><g class=\"mut m10\"><polyline class=\"sym\" points=\"2.5,-6.5 0,-1.5 -2.5,-6.5\"/></g></g><g class=\"site s11\" transform=\"translate(164.23 163.2)\"><line class=\"sym\" x1=\"0\" x2=\"0\" y1=\"0\" y2=\"-10\"/><g class=\"mut m11\"><polyline class=\"sym\" points=\"2.5,-6.5 0,-1.5 -2.5,-6.5\"/></g></g><g class=\"site s12\" transform=\"translate(174.579 163.2)\"><line class=\"sym\" x1=\"0\" x2=\"0\" y1=\"0\" y2=\"-10\"/><g class=\"mut m12\"><polyline class=\"sym\" points=\"2.5,-6.5 0,-1.5 -2.5,-6.5\"/></g></g><g class=\"site s13\" transform=\"translate(176.156 163.2)\"><line class=\"sym\" x1=\"0\" x2=\"0\" y1=\"0\" y2=\"-10\"/><g class=\"mut m13\"><polyline class=\"sym\" points=\"2.5,-6.5 0,-1.5 -2.5,-6.5\"/></g></g></g><g class=\"y-axis\"><g transform=\"translate(0,65.7)\"><text class=\"lab\" text-anchor=\"middle\" transform=\"translate(11) rotate(-90)\">Time</text></g><line x1=\"56.8\" x2=\"56.8\" y1=\"121.4\" y2=\"10\"/><g class=\"ticks\"><g class=\"tick\" transform=\"translate(56.8 121.4)\"><line x1=\"0\" x2=\"-5\" y1=\"0\" y2=\"0\"/><g transform=\"translate(-6,0)\"><text class=\"lab\" text-anchor=\"end\">0.00</text></g></g><g class=\"tick\" transform=\"translate(56.8 26.8)\"><line x1=\"0\" x2=\"-5\" y1=\"0\" y2=\"0\"/><g transform=\"translate(-6,0)\"><text class=\"lab\" text-anchor=\"end\">428.37</text></g></g></g></g></g><g class=\"plotbox trees\"><g class=\"tree t0\" transform=\"translate(56.8 0)\"><g class=\"plotbox\"><g class=\"c2 node n2 p0 root\" transform=\"translate(61.6 26.8)\"><g class=\"a2 i0 leaf m0 m1 m10 m11 m12 m3 m5 m6 m7 node n0 p0 s0 s1 s10 s11 s12 s3 s5 s6 s7 sample\" transform=\"translate(-20.8 94.6)\"><path class=\"edge\" d=\"M 0 0 V -94.6 H 20.8\"/><g class=\"mut m12 s12\" transform=\"translate(0 -93.4842)\"><line x1=\"0\" x2=\"0\" y1=\"0\" y2=\"93.4842\"/><path class=\"sym\" d=\"M -3,-3 l 6,6 M -3,3 l 6,-6\"/><text class=\"lab lft\" transform=\"translate(-5 0)\">12</text></g><g class=\"mut m10 s10\" transform=\"translate(0 -92.1573)\"><line x1=\"0\" x2=\"0\" y1=\"0\" y2=\"92.1573\"/><path class=\"sym\" d=\"M -3,-3 l 6,6 M -3,3 l 6,-6\"/><text class=\"lab lft\" transform=\"translate(-5 0)\">10</text></g><g class=\"mut m5 s5\" transform=\"translate(0 -87.4351)\"><line x1=\"0\" x2=\"0\" y1=\"0\" y2=\"87.4351\"/><path class=\"sym\" d=\"M -3,-3 l 6,6 M -3,3 l 6,-6\"/><text class=\"lab lft\" transform=\"translate(-5 0)\">5</text></g><g class=\"mut m6 s6\" transform=\"translate(0 -78.6987)\"><line x1=\"0\" x2=\"0\" y1=\"0\" y2=\"78.6987\"/><path class=\"sym\" d=\"M -3,-3 l 6,6 M -3,3 l 6,-6\"/><text class=\"lab lft\" transform=\"translate(-5 0)\">6</text></g><g class=\"mut m7 s7\" transform=\"translate(0 -69.4974)\"><line x1=\"0\" x2=\"0\" y1=\"0\" y2=\"69.4974\"/><path class=\"sym\" d=\"M -3,-3 l 6,6 M -3,3 l 6,-6\"/><text class=\"lab lft\" transform=\"translate(-5 0)\">7</text></g><g class=\"mut m1 s1\" transform=\"translate(0 -60.3835)\"><line x1=\"0\" x2=\"0\" y1=\"0\" y2=\"60.3835\"/><path class=\"sym\" d=\"M -3,-3 l 6,6 M -3,3 l 6,-6\"/><text class=\"lab lft\" transform=\"translate(-5 0)\">1</text></g><g class=\"mut m3 s3\" transform=\"translate(0 -47.6344)\"><line x1=\"0\" x2=\"0\" y1=\"0\" y2=\"47.6344\"/><path class=\"sym\" d=\"M -3,-3 l 6,6 M -3,3 l 6,-6\"/><text class=\"lab lft\" transform=\"translate(-5 0)\">3</text></g><g class=\"mut m0 s0\" transform=\"translate(0 -35.9374)\"><line x1=\"0\" x2=\"0\" y1=\"0\" y2=\"35.9374\"/><path class=\"sym\" d=\"M -3,-3 l 6,6 M -3,3 l 6,-6\"/><text class=\"lab lft\" transform=\"translate(-5 0)\">0</text></g><g class=\"mut m11 s11\" transform=\"translate(0 -27.8993)\"><line x1=\"0\" x2=\"0\" y1=\"0\" y2=\"27.8993\"/><path class=\"sym\" d=\"M -3,-3 l 6,6 M -3,3 l 6,-6\"/><text class=\"lab lft\" transform=\"translate(-5 0)\">11</text></g><rect class=\"sym\" height=\"6\" width=\"6\" x=\"-3\" y=\"-3\"/><text class=\"lab\" transform=\"translate(0 11)\">0</text></g><g class=\"a2 i0 leaf m13 m2 m4 m8 m9 node n1 p0 s13 s2 s4 s8 s9 sample\" transform=\"translate(20.8 94.6)\"><path class=\"edge\" d=\"M 0 0 V -94.6 H -20.8\"/><g class=\"mut m2 s2\" transform=\"translate(0 -73.0476)\"><line x1=\"0\" x2=\"0\" y1=\"0\" y2=\"73.0476\"/><path class=\"sym\" d=\"M -3,-3 l 6,6 M -3,3 l 6,-6\"/><text class=\"lab rgt\" transform=\"translate(5 0)\">2</text></g><g class=\"mut m4 s4\" transform=\"translate(0 -70.0824)\"><line x1=\"0\" x2=\"0\" y1=\"0\" y2=\"70.0824\"/><path class=\"sym\" d=\"M -3,-3 l 6,6 M -3,3 l 6,-6\"/><text class=\"lab rgt\" transform=\"translate(5 0)\">4</text></g><g class=\"mut m8 s8\" transform=\"translate(0 -60.875)\"><line x1=\"0\" x2=\"0\" y1=\"0\" y2=\"60.875\"/><path class=\"sym\" d=\"M -3,-3 l 6,6 M -3,3 l 6,-6\"/><text class=\"lab rgt\" transform=\"translate(5 0)\">8</text></g><g class=\"mut m9 s9\" transform=\"translate(0 -19.7923)\"><line x1=\"0\" x2=\"0\" y1=\"0\" y2=\"19.7923\"/><path class=\"sym\" d=\"M -3,-3 l 6,6 M -3,3 l 6,-6\"/><text class=\"lab rgt\" transform=\"translate(5 0)\">9</text></g><g class=\"mut m13 s13\" transform=\"translate(0 -9.73607)\"><line x1=\"0\" x2=\"0\" y1=\"0\" y2=\"9.73607\"/><path class=\"sym\" d=\"M -3,-3 l 6,6 M -3,3 l 6,-6\"/><text class=\"lab rgt\" transform=\"translate(5 0)\">13</text></g><rect class=\"sym\" height=\"6\" width=\"6\" x=\"-3\" y=\"-3\"/><text class=\"lab\" transform=\"translate(0 11)\">1</text></g><circle class=\"sym\" cx=\"0\" cy=\"0\" r=\"3\"/><text class=\"lab\" transform=\"translate(0 -11)\">2</text></g></g></g></g></g></svg>"
      ],
      "text/plain": [
       "<IPython.core.display.SVG object>"
      ]
     },
     "execution_count": 23,
     "metadata": {},
     "output_type": "execute_result"
    }
   ],
   "source": [
    "SVG(simplified_mt.draw_svg(y_axis=True))"
   ]
  },
  {
   "cell_type": "markdown",
   "id": "5f79d0be",
   "metadata": {},
   "source": [
    "## mutation information"
   ]
  },
  {
   "cell_type": "code",
   "execution_count": 24,
   "id": "cb8016ee",
   "metadata": {},
   "outputs": [
    {
     "data": {
      "text/plain": [
       "array([[1, 0, 0, 1],\n",
       "       [1, 0, 0, 1],\n",
       "       [0, 1, 1, 0],\n",
       "       [1, 0, 0, 1],\n",
       "       [0, 1, 1, 0],\n",
       "       [1, 0, 0, 1],\n",
       "       [1, 0, 0, 1],\n",
       "       [0, 0, 0, 1],\n",
       "       [1, 0, 0, 1],\n",
       "       [0, 1, 1, 0],\n",
       "       [0, 1, 1, 0],\n",
       "       [1, 0, 0, 1],\n",
       "       [0, 0, 0, 1],\n",
       "       [1, 0, 0, 1],\n",
       "       [0, 0, 0, 1],\n",
       "       [1, 0, 0, 1],\n",
       "       [0, 1, 1, 0]], dtype=int8)"
      ]
     },
     "execution_count": 24,
     "metadata": {},
     "output_type": "execute_result"
    }
   ],
   "source": [
    "mt.genotype_matrix()"
   ]
  },
  {
   "cell_type": "code",
   "execution_count": 25,
   "id": "dabc452e",
   "metadata": {
    "scrolled": true
   },
   "outputs": [
    {
     "name": "stdout",
     "output_type": "stream",
     "text": [
      "Variant(site=Site(id=0, position=212.0, ancestral_state='G', mutations=[Mutation(id=0, site=0, node=5, derived_state='T', parent=-1, metadata=b'', time=162.73164164891477)], metadata=b''), alleles=('G', 'T'), genotypes=array([1, 0, 0, 1], dtype=int8))\n",
      "Variant(site=Site(id=1, position=582.0, ancestral_state='A', mutations=[Mutation(id=1, site=1, node=5, derived_state='G', parent=-1, metadata=b'', time=273.4289356037654)], metadata=b''), alleles=('A', 'G'), genotypes=array([1, 0, 0, 1], dtype=int8))\n",
      "Variant(site=Site(id=2, position=1526.0, ancestral_state='C', mutations=[Mutation(id=2, site=2, node=4, derived_state='A', parent=-1, metadata=b'', time=330.7743973658487)], metadata=b''), alleles=('C', 'A'), genotypes=array([0, 1, 1, 0], dtype=int8))\n",
      "Variant(site=Site(id=3, position=1624.0, ancestral_state='C', mutations=[Mutation(id=3, site=3, node=5, derived_state='G', parent=-1, metadata=b'', time=215.69834625510288)], metadata=b''), alleles=('C', 'G'), genotypes=array([1, 0, 0, 1], dtype=int8))\n",
      "Variant(site=Site(id=4, position=2815.0, ancestral_state='A', mutations=[Mutation(id=4, site=4, node=4, derived_state='C', parent=-1, metadata=b'', time=317.3471232076626)], metadata=b''), alleles=('A', 'C'), genotypes=array([0, 1, 1, 0], dtype=int8))\n",
      "Variant(site=Site(id=5, position=4053.0, ancestral_state='A', mutations=[Mutation(id=5, site=5, node=5, derived_state='T', parent=-1, metadata=b'', time=395.92398096637646)], metadata=b''), alleles=('A', 'T'), genotypes=array([1, 0, 0, 1], dtype=int8))\n",
      "Variant(site=Site(id=6, position=4187.0, ancestral_state='C', mutations=[Mutation(id=6, site=6, node=5, derived_state='G', parent=-1, metadata=b'', time=356.3635251689442)], metadata=b''), alleles=('C', 'G'), genotypes=array([1, 0, 0, 1], dtype=int8))\n",
      "Variant(site=Site(id=7, position=4447.0, ancestral_state='T', mutations=[Mutation(id=7, site=7, node=3, derived_state='A', parent=-1, metadata=b'', time=72.15234218743394)], metadata=b''), alleles=('T', 'A'), genotypes=array([0, 0, 0, 1], dtype=int8))\n",
      "Variant(site=Site(id=8, position=4538.0, ancestral_state='C', mutations=[Mutation(id=8, site=8, node=5, derived_state='A', parent=-1, metadata=b'', time=314.69819193176147)], metadata=b''), alleles=('C', 'A'), genotypes=array([1, 0, 0, 1], dtype=int8))\n",
      "Variant(site=Site(id=9, position=4796.0, ancestral_state='C', mutations=[Mutation(id=9, site=9, node=4, derived_state='G', parent=-1, metadata=b'', time=275.6542439484776)], metadata=b''), alleles=('C', 'G'), genotypes=array([0, 1, 1, 0], dtype=int8))\n",
      "Variant(site=Site(id=10, position=7667.0, ancestral_state='A', mutations=[Mutation(id=10, site=10, node=4, derived_state='C', parent=-1, metadata=b'', time=89.62351434550857)], metadata=b''), alleles=('A', 'C'), genotypes=array([0, 1, 1, 0], dtype=int8))\n",
      "Variant(site=Site(id=11, position=8193.0, ancestral_state='G', mutations=[Mutation(id=11, site=11, node=5, derived_state='C', parent=-1, metadata=b'', time=417.3071787381794)], metadata=b''), alleles=('G', 'C'), genotypes=array([1, 0, 0, 1], dtype=int8))\n",
      "Variant(site=Site(id=12, position=8413.0, ancestral_state='C', mutations=[Mutation(id=12, site=12, node=3, derived_state='G', parent=-1, metadata=b'', time=51.93671895636832)], metadata=b''), alleles=('C', 'G'), genotypes=array([0, 0, 0, 1], dtype=int8))\n",
      "Variant(site=Site(id=13, position=8720.0, ancestral_state='G', mutations=[Mutation(id=13, site=13, node=5, derived_state='C', parent=-1, metadata=b'', time=126.33347761384506)], metadata=b''), alleles=('G', 'C'), genotypes=array([1, 0, 0, 1], dtype=int8))\n",
      "Variant(site=Site(id=14, position=9025.0, ancestral_state='A', mutations=[Mutation(id=14, site=14, node=3, derived_state='T', parent=-1, metadata=b'', time=21.54517968015363)], metadata=b''), alleles=('A', 'T'), genotypes=array([0, 0, 0, 1], dtype=int8))\n",
      "Variant(site=Site(id=15, position=9560.0, ancestral_state='C', mutations=[Mutation(id=15, site=15, node=5, derived_state='A', parent=-1, metadata=b'', time=423.31534386644086)], metadata=b''), alleles=('C', 'A'), genotypes=array([1, 0, 0, 1], dtype=int8))\n",
      "Variant(site=Site(id=16, position=9688.0, ancestral_state='G', mutations=[Mutation(id=16, site=16, node=4, derived_state='C', parent=-1, metadata=b'', time=44.08689039854816)], metadata=b''), alleles=('G', 'C'), genotypes=array([0, 1, 1, 0], dtype=int8))\n"
     ]
    }
   ],
   "source": [
    "for v in mt.variants():\n",
    "    print(v)"
   ]
  },
  {
   "cell_type": "code",
   "execution_count": null,
   "id": "62b00616",
   "metadata": {},
   "outputs": [],
   "source": [
    "mt.write_vcf(output = \"mt.vcf\")"
   ]
  },
  {
   "cell_type": "code",
   "execution_count": null,
   "id": "15a156e9",
   "metadata": {},
   "outputs": [],
   "source": [
    "mt.write_fasta(output = \"mt.fa\")"
   ]
  },
  {
   "cell_type": "markdown",
   "id": "02e9cbb4",
   "metadata": {},
   "source": [
    "# Coalescent with recombination"
   ]
  },
  {
   "cell_type": "code",
   "execution_count": 27,
   "id": "1f8f81a5",
   "metadata": {},
   "outputs": [],
   "source": [
    "ts = msprime.sim_ancestry(samples=2, population_size=100, sequence_length = 1e4, recombination_rate=1e-6, random_seed = 1234)"
   ]
  },
  {
   "cell_type": "code",
   "execution_count": 28,
   "id": "515d064c",
   "metadata": {},
   "outputs": [
    {
     "data": {
      "image/svg+xml": [
       "<svg xmlns=\"http://www.w3.org/2000/svg\" xmlns:ev=\"http://www.w3.org/2001/xml-events\" xmlns:xlink=\"http://www.w3.org/1999/xlink\" baseProfile=\"full\" height=\"200\" version=\"1.1\" width=\"800\"><defs><style type=\"text/css\"><![CDATA[.background path {fill: #808080; fill-opacity: 0}.background path:nth-child(odd) {fill-opacity: .1}.axes {font-size: 14px}.x-axis .tick .lab {font-weight: bold; dominant-baseline: hanging}.axes, .tree {font-size: 14px; text-anchor: middle}.axes line, .edge {stroke: black; fill: none}.y-axis .grid {stroke: #FAFAFA}.node > .sym {fill: black; stroke: none}.site > .sym {stroke: black}.mut text {fill: red; font-style: italic}.mut.extra text {fill: hotpink}.mut line {fill: none; stroke: none}.mut .sym {fill: none; stroke: red}.mut.extra .sym {stroke: hotpink}.node .mut .sym {stroke-width: 1.5px}.tree text, .tree-sequence text {dominant-baseline: central}.plotbox .lab.lft {text-anchor: end}.plotbox .lab.rgt {text-anchor: start}]]></style></defs><g class=\"tree-sequence\"><g class=\"background\"><path d=\"M20,0 l190,0 l0,138.2 l101.004,25 l0,5 l-291.004,0 l0,-5 l0,-25 l0,-138.2z\"/><path d=\"M210,0 l190,0 l0,138.2 l-8.816,25 l0,5 l-80.18,0 l0,-5 l-101.004,-25 l0,-138.2z\"/><path d=\"M400,0 l190,0 l0,138.2 l-181.868,25 l0,5 l-16.948,0 l0,-5 l8.816,-25 l0,-138.2z\"/><path d=\"M590,0 l190,0 l0,138.2 l0,25 l0,5 l-371.868,0 l0,-5 l181.868,-25 l0,-138.2z\"/></g><g class=\"axes\"><g class=\"x-axis\"><g transform=\"translate(400,200)\"><text class=\"lab\" text-anchor=\"middle\" transform=\"translate(0 -11)\">Genome position</text></g><line x1=\"20\" x2=\"780\" y1=\"163.2\" y2=\"163.2\"/><g class=\"ticks\"><g class=\"tick\" transform=\"translate(20 163.2)\"><line x1=\"0\" x2=\"0\" y1=\"0\" y2=\"5\"/><g transform=\"translate(0,6)\"><text class=\"lab\">0</text></g></g><g class=\"tick\" transform=\"translate(311.004 163.2)\"><line x1=\"0\" x2=\"0\" y1=\"0\" y2=\"5\"/><g transform=\"translate(0,6)\"><text class=\"lab\">3829</text></g></g><g class=\"tick\" transform=\"translate(391.184 163.2)\"><line x1=\"0\" x2=\"0\" y1=\"0\" y2=\"5\"/><g transform=\"translate(0,6)\"><text class=\"lab\">4884</text></g></g><g class=\"tick\" transform=\"translate(408.132 163.2)\"><line x1=\"0\" x2=\"0\" y1=\"0\" y2=\"5\"/><g transform=\"translate(0,6)\"><text class=\"lab\">5107</text></g></g><g class=\"tick\" transform=\"translate(780 163.2)\"><line x1=\"0\" x2=\"0\" y1=\"0\" y2=\"5\"/><g transform=\"translate(0,6)\"><text class=\"lab\">10000</text></g></g></g></g></g><g class=\"plotbox trees\"><g class=\"tree t0\" transform=\"translate(20 0)\"><g class=\"plotbox\"><g class=\"c2 node n7 p0 root\" transform=\"translate(95 70.552)\"><g class=\"a7 c2 node n4 p0\" transform=\"translate(-37.5 44.0091)\"><g class=\"a4 i0 leaf node n0 p0 sample\" transform=\"translate(-18.75 6.83891)\"><path class=\"edge\" d=\"M 0 0 V -6.83891 H 18.75\"/><rect class=\"sym\" height=\"6\" width=\"6\" x=\"-3\" y=\"-3\"/><text class=\"lab\" transform=\"translate(0 11)\">0</text></g><g class=\"a4 i0 leaf node n1 p0 sample\" transform=\"translate(18.75 6.83891)\"><path class=\"edge\" d=\"M 0 0 V -6.83891 H -18.75\"/><rect class=\"sym\" height=\"6\" width=\"6\" x=\"-3\" y=\"-3\"/><text class=\"lab\" transform=\"translate(0 11)\">1</text></g><path class=\"edge\" d=\"M 0 0 V -44.0091 H 37.5\"/><circle class=\"sym\" cx=\"0\" cy=\"0\" r=\"3\"/><text class=\"lab lft\" transform=\"translate(-3 -7.0)\">4</text></g><g class=\"a7 c2 node n6 p0\" transform=\"translate(37.5 4.66762)\"><g class=\"a6 i1 leaf node n2 p0 sample\" transform=\"translate(-18.75 46.1804)\"><path class=\"edge\" d=\"M 0 0 V -46.1804 H 18.75\"/><rect class=\"sym\" height=\"6\" width=\"6\" x=\"-3\" y=\"-3\"/><text class=\"lab\" transform=\"translate(0 11)\">2</text></g><g class=\"a6 i1 leaf node n3 p0 sample\" transform=\"translate(18.75 46.1804)\"><path class=\"edge\" d=\"M 0 0 V -46.1804 H -18.75\"/><rect class=\"sym\" height=\"6\" width=\"6\" x=\"-3\" y=\"-3\"/><text class=\"lab\" transform=\"translate(0 11)\">3</text></g><path class=\"edge\" d=\"M 0 0 V -4.66762 H -37.5\"/><circle class=\"sym\" cx=\"0\" cy=\"0\" r=\"3\"/><text class=\"lab rgt\" transform=\"translate(3 -7.0)\">6</text></g><circle class=\"sym\" cx=\"0\" cy=\"0\" r=\"3\"/><text class=\"lab\" transform=\"translate(0 -11)\">7</text></g></g></g><g class=\"tree t1\" transform=\"translate(210 0)\"><g class=\"plotbox\"><g class=\"c2 node n8 p0 root\" transform=\"translate(95 54.7163)\"><g class=\"a8 c2 node n4 p0\" transform=\"translate(-37.5 59.8448)\"><g class=\"a4 i0 leaf node n0 p0 sample\" transform=\"translate(-18.75 6.83891)\"><path class=\"edge\" d=\"M 0 0 V -6.83891 H 18.75\"/><rect class=\"sym\" height=\"6\" width=\"6\" x=\"-3\" y=\"-3\"/><text class=\"lab\" transform=\"translate(0 11)\">0</text></g><g class=\"a4 i0 leaf node n1 p0 sample\" transform=\"translate(18.75 6.83891)\"><path class=\"edge\" d=\"M 0 0 V -6.83891 H -18.75\"/><rect class=\"sym\" height=\"6\" width=\"6\" x=\"-3\" y=\"-3\"/><text class=\"lab\" transform=\"translate(0 11)\">1</text></g><path class=\"edge\" d=\"M 0 0 V -59.8448 H 37.5\"/><circle class=\"sym\" cx=\"0\" cy=\"0\" r=\"3\"/><text class=\"lab lft\" transform=\"translate(-3 -7.0)\">4</text></g><g class=\"a8 c2 node n6 p0\" transform=\"translate(37.5 20.5033)\"><g class=\"a6 i1 leaf node n2 p0 sample\" transform=\"translate(-18.75 46.1804)\"><path class=\"edge\" d=\"M 0 0 V -46.1804 H 18.75\"/><rect class=\"sym\" height=\"6\" width=\"6\" x=\"-3\" y=\"-3\"/><text class=\"lab\" transform=\"translate(0 11)\">2</text></g><g class=\"a6 i1 leaf node n3 p0 sample\" transform=\"translate(18.75 46.1804)\"><path class=\"edge\" d=\"M 0 0 V -46.1804 H -18.75\"/><rect class=\"sym\" height=\"6\" width=\"6\" x=\"-3\" y=\"-3\"/><text class=\"lab\" transform=\"translate(0 11)\">3</text></g><path class=\"edge\" d=\"M 0 0 V -20.5033 H -37.5\"/><circle class=\"sym\" cx=\"0\" cy=\"0\" r=\"3\"/><text class=\"lab rgt\" transform=\"translate(3 -7.0)\">6</text></g><circle class=\"sym\" cx=\"0\" cy=\"0\" r=\"3\"/><text class=\"lab\" transform=\"translate(0 -11)\">8</text></g></g></g><g class=\"tree t2\" transform=\"translate(400 0)\"><g class=\"plotbox\"><g class=\"c2 node n8 p0 root\" transform=\"translate(95 54.7163)\"><g class=\"a8 c2 node n6 p0\" transform=\"translate(37.5 20.5033)\"><g class=\"a6 i1 leaf node n2 p0 sample\" transform=\"translate(-18.75 46.1804)\"><path class=\"edge\" d=\"M 0 0 V -46.1804 H 18.75\"/><rect class=\"sym\" height=\"6\" width=\"6\" x=\"-3\" y=\"-3\"/><text class=\"lab\" transform=\"translate(0 11)\">2</text></g><g class=\"a6 i1 leaf node n3 p0 sample\" transform=\"translate(18.75 46.1804)\"><path class=\"edge\" d=\"M 0 0 V -46.1804 H -18.75\"/><rect class=\"sym\" height=\"6\" width=\"6\" x=\"-3\" y=\"-3\"/><text class=\"lab\" transform=\"translate(0 11)\">3</text></g><path class=\"edge\" d=\"M 0 0 V -20.5033 H -37.5\"/><circle class=\"sym\" cx=\"0\" cy=\"0\" r=\"3\"/><text class=\"lab rgt\" transform=\"translate(3 -7.0)\">6</text></g><g class=\"a8 c2 node n5 p0\" transform=\"translate(-37.5 41.4416)\"><g class=\"a5 i0 leaf node n0 p0 sample\" transform=\"translate(-18.75 25.2421)\"><path class=\"edge\" d=\"M 0 0 V -25.2421 H 18.75\"/><rect class=\"sym\" height=\"6\" width=\"6\" x=\"-3\" y=\"-3\"/><text class=\"lab\" transform=\"translate(0 11)\">0</text></g><g class=\"a5 i0 leaf node n1 p0 sample\" transform=\"translate(18.75 25.2421)\"><path class=\"edge\" d=\"M 0 0 V -25.2421 H -18.75\"/><rect class=\"sym\" height=\"6\" width=\"6\" x=\"-3\" y=\"-3\"/><text class=\"lab\" transform=\"translate(0 11)\">1</text></g><path class=\"edge\" d=\"M 0 0 V -41.4416 H 37.5\"/><circle class=\"sym\" cx=\"0\" cy=\"0\" r=\"3\"/><text class=\"lab lft\" transform=\"translate(-3 -7.0)\">5</text></g><circle class=\"sym\" cx=\"0\" cy=\"0\" r=\"3\"/><text class=\"lab\" transform=\"translate(0 -11)\">8</text></g></g></g><g class=\"tree t3\" transform=\"translate(590 0)\"><g class=\"plotbox\"><g class=\"c2 node n9 p0 root\" transform=\"translate(71.5625 26.8)\"><g class=\"a9 i0 leaf node n0 p0 sample\" transform=\"translate(-32.8125 94.6)\"><path class=\"edge\" d=\"M 0 0 V -94.6 H 32.8125\"/><rect class=\"sym\" height=\"6\" width=\"6\" x=\"-3\" y=\"-3\"/><text class=\"lab\" transform=\"translate(0 11)\">0</text></g><g class=\"a9 c2 node n8 p0\" transform=\"translate(32.8125 27.9163)\"><g class=\"a8 c2 node n6 p0\" transform=\"translate(28.125 20.5033)\"><g class=\"a6 i1 leaf node n2 p0 sample\" transform=\"translate(-18.75 46.1804)\"><path class=\"edge\" d=\"M 0 0 V -46.1804 H 18.75\"/><rect class=\"sym\" height=\"6\" width=\"6\" x=\"-3\" y=\"-3\"/><text class=\"lab\" transform=\"translate(0 11)\">2</text></g><g class=\"a6 i1 leaf node n3 p0 sample\" transform=\"translate(18.75 46.1804)\"><path class=\"edge\" d=\"M 0 0 V -46.1804 H -18.75\"/><rect class=\"sym\" height=\"6\" width=\"6\" x=\"-3\" y=\"-3\"/><text class=\"lab\" transform=\"translate(0 11)\">3</text></g><path class=\"edge\" d=\"M 0 0 V -20.5033 H -28.125\"/><circle class=\"sym\" cx=\"0\" cy=\"0\" r=\"3\"/><text class=\"lab rgt\" transform=\"translate(3 -7.0)\">6</text></g><g class=\"a8 i0 leaf node n1 p0 sample\" transform=\"translate(-28.125 66.6837)\"><path class=\"edge\" d=\"M 0 0 V -66.6837 H 28.125\"/><rect class=\"sym\" height=\"6\" width=\"6\" x=\"-3\" y=\"-3\"/><text class=\"lab\" transform=\"translate(0 11)\">1</text></g><path class=\"edge\" d=\"M 0 0 V -27.9163 H -32.8125\"/><circle class=\"sym\" cx=\"0\" cy=\"0\" r=\"3\"/><text class=\"lab rgt\" transform=\"translate(3 -7.0)\">8</text></g><circle class=\"sym\" cx=\"0\" cy=\"0\" r=\"3\"/><text class=\"lab\" transform=\"translate(0 -11)\">9</text></g></g></g></g></g></svg>"
      ],
      "text/plain": [
       "<IPython.core.display.SVG object>"
      ]
     },
     "execution_count": 28,
     "metadata": {},
     "output_type": "execute_result"
    }
   ],
   "source": [
    "SVG(ts.draw_svg(y_axis=False))"
   ]
  },
  {
   "cell_type": "code",
   "execution_count": 29,
   "id": "4293fcd1",
   "metadata": {},
   "outputs": [],
   "source": [
    "mts = msprime.sim_mutations(ts, rate=2e-6, random_seed=5678)"
   ]
  },
  {
   "cell_type": "code",
   "execution_count": 30,
   "id": "7761761f",
   "metadata": {},
   "outputs": [
    {
     "data": {
      "image/svg+xml": [
       "<svg xmlns=\"http://www.w3.org/2000/svg\" xmlns:ev=\"http://www.w3.org/2001/xml-events\" xmlns:xlink=\"http://www.w3.org/1999/xlink\" baseProfile=\"full\" height=\"200\" version=\"1.1\" width=\"800\"><defs><style type=\"text/css\"><![CDATA[.background path {fill: #808080; fill-opacity: 0}.background path:nth-child(odd) {fill-opacity: .1}.axes {font-size: 14px}.x-axis .tick .lab {font-weight: bold; dominant-baseline: hanging}.axes, .tree {font-size: 14px; text-anchor: middle}.axes line, .edge {stroke: black; fill: none}.y-axis .grid {stroke: #FAFAFA}.node > .sym {fill: black; stroke: none}.site > .sym {stroke: black}.mut text {fill: red; font-style: italic}.mut.extra text {fill: hotpink}.mut line {fill: none; stroke: none}.mut .sym {fill: none; stroke: red}.mut.extra .sym {stroke: hotpink}.node .mut .sym {stroke-width: 1.5px}.tree text, .tree-sequence text {dominant-baseline: central}.plotbox .lab.lft {text-anchor: end}.plotbox .lab.rgt {text-anchor: start}]]></style></defs><g class=\"tree-sequence\"><g class=\"background\"><path d=\"M20,0 l190,0 l0,138.2 l101.004,25 l0,5 l-291.004,0 l0,-5 l0,-25 l0,-138.2z\"/><path d=\"M210,0 l190,0 l0,138.2 l-8.816,25 l0,5 l-80.18,0 l0,-5 l-101.004,-25 l0,-138.2z\"/><path d=\"M400,0 l190,0 l0,138.2 l-181.868,25 l0,5 l-16.948,0 l0,-5 l8.816,-25 l0,-138.2z\"/><path d=\"M590,0 l190,0 l0,138.2 l0,25 l0,5 l-371.868,0 l0,-5 l181.868,-25 l0,-138.2z\"/></g><g class=\"axes\"><g class=\"x-axis\"><g transform=\"translate(400,200)\"><text class=\"lab\" text-anchor=\"middle\" transform=\"translate(0 -11)\">Genome position</text></g><line x1=\"20\" x2=\"780\" y1=\"163.2\" y2=\"163.2\"/><g class=\"ticks\"><g class=\"tick\" transform=\"translate(20 163.2)\"><line x1=\"0\" x2=\"0\" y1=\"0\" y2=\"5\"/><g transform=\"translate(0,6)\"><text class=\"lab\">0</text></g></g><g class=\"tick\" transform=\"translate(311.004 163.2)\"><line x1=\"0\" x2=\"0\" y1=\"0\" y2=\"5\"/><g transform=\"translate(0,6)\"><text class=\"lab\">3829</text></g></g><g class=\"tick\" transform=\"translate(391.184 163.2)\"><line x1=\"0\" x2=\"0\" y1=\"0\" y2=\"5\"/><g transform=\"translate(0,6)\"><text class=\"lab\">4884</text></g></g><g class=\"tick\" transform=\"translate(408.132 163.2)\"><line x1=\"0\" x2=\"0\" y1=\"0\" y2=\"5\"/><g transform=\"translate(0,6)\"><text class=\"lab\">5107</text></g></g><g class=\"tick\" transform=\"translate(780 163.2)\"><line x1=\"0\" x2=\"0\" y1=\"0\" y2=\"5\"/><g transform=\"translate(0,6)\"><text class=\"lab\">10000</text></g></g></g><g class=\"site s0\" transform=\"translate(74.264 163.2)\"><line class=\"sym\" x1=\"0\" x2=\"0\" y1=\"0\" y2=\"-10\"/><g class=\"mut m0\"><polyline class=\"sym\" points=\"2.5,-6.5 0,-1.5 -2.5,-6.5\"/></g></g><g class=\"site s1\" transform=\"translate(101.928 163.2)\"><line class=\"sym\" x1=\"0\" x2=\"0\" y1=\"0\" y2=\"-10\"/><g class=\"mut m1\"><polyline class=\"sym\" points=\"2.5,-6.5 0,-1.5 -2.5,-6.5\"/></g></g><g class=\"site s2\" transform=\"translate(155.736 163.2)\"><line class=\"sym\" x1=\"0\" x2=\"0\" y1=\"0\" y2=\"-10\"/><g class=\"mut m2\"><polyline class=\"sym\" points=\"2.5,-6.5 0,-1.5 -2.5,-6.5\"/></g></g><g class=\"site s3\" transform=\"translate(347.256 163.2)\"><line class=\"sym\" x1=\"0\" x2=\"0\" y1=\"0\" y2=\"-10\"/><g class=\"mut m3\"><polyline class=\"sym\" points=\"2.5,-6.5 0,-1.5 -2.5,-6.5\"/></g></g><g class=\"site s4\" transform=\"translate(446.36 163.2)\"><line class=\"sym\" x1=\"0\" x2=\"0\" y1=\"0\" y2=\"-10\"/><g class=\"mut m4\"><polyline class=\"sym\" points=\"2.5,-6.5 0,-1.5 -2.5,-6.5\"/></g></g><g class=\"site s5\" transform=\"translate(458.976 163.2)\"><line class=\"sym\" x1=\"0\" x2=\"0\" y1=\"0\" y2=\"-10\"/><g class=\"mut m5\"><polyline class=\"sym\" points=\"2.5,-6.5 0,-1.5 -2.5,-6.5\"/></g></g><g class=\"site s6\" transform=\"translate(464.828 163.2)\"><line class=\"sym\" x1=\"0\" x2=\"0\" y1=\"0\" y2=\"-10\"/><g class=\"mut m6\"><polyline class=\"sym\" points=\"2.5,-6.5 0,-1.5 -2.5,-6.5\"/></g></g><g class=\"site s7\" transform=\"translate(474.632 163.2)\"><line class=\"sym\" x1=\"0\" x2=\"0\" y1=\"0\" y2=\"-10\"/><g class=\"mut m7\"><polyline class=\"sym\" points=\"2.5,-6.5 0,-1.5 -2.5,-6.5\"/></g></g><g class=\"site s8\" transform=\"translate(592.736 163.2)\"><line class=\"sym\" x1=\"0\" x2=\"0\" y1=\"0\" y2=\"-10\"/><g class=\"mut m8\"><polyline class=\"sym\" points=\"2.5,-6.5 0,-1.5 -2.5,-6.5\"/></g></g><g class=\"site s9\" transform=\"translate(692.98 163.2)\"><line class=\"sym\" x1=\"0\" x2=\"0\" y1=\"0\" y2=\"-10\"/><g class=\"mut m9\"><polyline class=\"sym\" points=\"2.5,-6.5 0,-1.5 -2.5,-6.5\"/></g></g><g class=\"site s10\" transform=\"translate(701.34 163.2)\"><line class=\"sym\" x1=\"0\" x2=\"0\" y1=\"0\" y2=\"-10\"/><g class=\"mut m10\"><polyline class=\"sym\" points=\"2.5,-6.5 0,-1.5 -2.5,-6.5\"/></g></g><g class=\"site s11\" transform=\"translate(766.624 163.2)\"><line class=\"sym\" x1=\"0\" x2=\"0\" y1=\"0\" y2=\"-10\"/><g class=\"mut m11\"><polyline class=\"sym\" points=\"2.5,-6.5 0,-1.5 -2.5,-6.5\"/></g></g></g></g><g class=\"plotbox trees\"><g class=\"tree t0\" transform=\"translate(20 0)\"><g class=\"plotbox\"><g class=\"c2 node n7 p0 root\" transform=\"translate(95 70.552)\"><g class=\"a7 c2 node n4 p0\" transform=\"translate(-37.5 44.0091)\"><g class=\"a4 i0 leaf node n0 p0 sample\" transform=\"translate(-18.75 6.83891)\"><path class=\"edge\" d=\"M 0 0 V -6.83891 H 18.75\"/><rect class=\"sym\" height=\"6\" width=\"6\" x=\"-3\" y=\"-3\"/><text class=\"lab\" transform=\"translate(0 11)\">0</text></g><g class=\"a4 i0 leaf node n1 p0 sample\" transform=\"translate(18.75 6.83891)\"><path class=\"edge\" d=\"M 0 0 V -6.83891 H -18.75\"/><rect class=\"sym\" height=\"6\" width=\"6\" x=\"-3\" y=\"-3\"/><text class=\"lab\" transform=\"translate(0 11)\">1</text></g><path class=\"edge\" d=\"M 0 0 V -44.0091 H 37.5\"/><circle class=\"sym\" cx=\"0\" cy=\"0\" r=\"3\"/><text class=\"lab lft\" transform=\"translate(-3 -7.0)\">4</text></g><g class=\"a7 c2 m1 node n6 p0 s1\" transform=\"translate(37.5 4.66762)\"><g class=\"a6 i1 leaf m2 node n2 p0 s2 sample\" transform=\"translate(-18.75 46.1804)\"><path class=\"edge\" d=\"M 0 0 V -46.1804 H 18.75\"/><g class=\"mut m2 s2\" transform=\"translate(0 -32.2141)\"><line x1=\"0\" x2=\"0\" y1=\"0\" y2=\"32.2141\"/><path class=\"sym\" d=\"M -3,-3 l 6,6 M -3,3 l 6,-6\"/><text class=\"lab lft\" transform=\"translate(-5 0)\">2</text></g><rect class=\"sym\" height=\"6\" width=\"6\" x=\"-3\" y=\"-3\"/><text class=\"lab\" transform=\"translate(0 11)\">2</text></g><g class=\"a6 i1 leaf m0 node n3 p0 s0 sample\" transform=\"translate(18.75 46.1804)\"><path class=\"edge\" d=\"M 0 0 V -46.1804 H -18.75\"/><g class=\"mut m0 s0\" transform=\"translate(0 -27.7339)\"><line x1=\"0\" x2=\"0\" y1=\"0\" y2=\"27.7339\"/><path class=\"sym\" d=\"M -3,-3 l 6,6 M -3,3 l 6,-6\"/><text class=\"lab rgt\" transform=\"translate(5 0)\">0</text></g><rect class=\"sym\" height=\"6\" width=\"6\" x=\"-3\" y=\"-3\"/><text class=\"lab\" transform=\"translate(0 11)\">3</text></g><path class=\"edge\" d=\"M 0 0 V -4.66762 H -37.5\"/><g class=\"mut m1 s1\" transform=\"translate(0 -3.43755)\"><line x1=\"0\" x2=\"0\" y1=\"0\" y2=\"3.43755\"/><path class=\"sym\" d=\"M -3,-3 l 6,6 M -3,3 l 6,-6\"/><text class=\"lab rgt\" transform=\"translate(5 0)\">1</text></g><circle class=\"sym\" cx=\"0\" cy=\"0\" r=\"3\"/><text class=\"lab rgt\" transform=\"translate(3 -7.0)\">6</text></g><circle class=\"sym\" cx=\"0\" cy=\"0\" r=\"3\"/><text class=\"lab\" transform=\"translate(0 -11)\">7</text></g></g></g><g class=\"tree t1\" transform=\"translate(210 0)\"><g class=\"plotbox\"><g class=\"c2 node n8 p0 root\" transform=\"translate(95 54.7163)\"><g class=\"a8 c2 node n4 p0\" transform=\"translate(-37.5 59.8448)\"><g class=\"a4 i0 leaf node n0 p0 sample\" transform=\"translate(-18.75 6.83891)\"><path class=\"edge\" d=\"M 0 0 V -6.83891 H 18.75\"/><rect class=\"sym\" height=\"6\" width=\"6\" x=\"-3\" y=\"-3\"/><text class=\"lab\" transform=\"translate(0 11)\">0</text></g><g class=\"a4 i0 leaf node n1 p0 sample\" transform=\"translate(18.75 6.83891)\"><path class=\"edge\" d=\"M 0 0 V -6.83891 H -18.75\"/><rect class=\"sym\" height=\"6\" width=\"6\" x=\"-3\" y=\"-3\"/><text class=\"lab\" transform=\"translate(0 11)\">1</text></g><path class=\"edge\" d=\"M 0 0 V -59.8448 H 37.5\"/><circle class=\"sym\" cx=\"0\" cy=\"0\" r=\"3\"/><text class=\"lab lft\" transform=\"translate(-3 -7.0)\">4</text></g><g class=\"a8 c2 node n6 p0\" transform=\"translate(37.5 20.5033)\"><g class=\"a6 i1 leaf m3 node n2 p0 s3 sample\" transform=\"translate(-18.75 46.1804)\"><path class=\"edge\" d=\"M 0 0 V -46.1804 H 18.75\"/><g class=\"mut m3 s3\" transform=\"translate(0 -41.6782)\"><line x1=\"0\" x2=\"0\" y1=\"0\" y2=\"41.6782\"/><path class=\"sym\" d=\"M -3,-3 l 6,6 M -3,3 l 6,-6\"/><text class=\"lab lft\" transform=\"translate(-5 0)\">3</text></g><rect class=\"sym\" height=\"6\" width=\"6\" x=\"-3\" y=\"-3\"/><text class=\"lab\" transform=\"translate(0 11)\">2</text></g><g class=\"a6 i1 leaf node n3 p0 sample\" transform=\"translate(18.75 46.1804)\"><path class=\"edge\" d=\"M 0 0 V -46.1804 H -18.75\"/><rect class=\"sym\" height=\"6\" width=\"6\" x=\"-3\" y=\"-3\"/><text class=\"lab\" transform=\"translate(0 11)\">3</text></g><path class=\"edge\" d=\"M 0 0 V -20.5033 H -37.5\"/><circle class=\"sym\" cx=\"0\" cy=\"0\" r=\"3\"/><text class=\"lab rgt\" transform=\"translate(3 -7.0)\">6</text></g><circle class=\"sym\" cx=\"0\" cy=\"0\" r=\"3\"/><text class=\"lab\" transform=\"translate(0 -11)\">8</text></g></g></g><g class=\"tree t2\" transform=\"translate(400 0)\"><g class=\"plotbox\"><g class=\"c2 node n8 p0 root\" transform=\"translate(95 54.7163)\"><g class=\"a8 c2 node n6 p0\" transform=\"translate(37.5 20.5033)\"><g class=\"a6 i1 leaf node n2 p0 sample\" transform=\"translate(-18.75 46.1804)\"><path class=\"edge\" d=\"M 0 0 V -46.1804 H 18.75\"/><rect class=\"sym\" height=\"6\" width=\"6\" x=\"-3\" y=\"-3\"/><text class=\"lab\" transform=\"translate(0 11)\">2</text></g><g class=\"a6 i1 leaf node n3 p0 sample\" transform=\"translate(18.75 46.1804)\"><path class=\"edge\" d=\"M 0 0 V -46.1804 H -18.75\"/><rect class=\"sym\" height=\"6\" width=\"6\" x=\"-3\" y=\"-3\"/><text class=\"lab\" transform=\"translate(0 11)\">3</text></g><path class=\"edge\" d=\"M 0 0 V -20.5033 H -37.5\"/><circle class=\"sym\" cx=\"0\" cy=\"0\" r=\"3\"/><text class=\"lab rgt\" transform=\"translate(3 -7.0)\">6</text></g><g class=\"a8 c2 node n5 p0\" transform=\"translate(-37.5 41.4416)\"><g class=\"a5 i0 leaf node n0 p0 sample\" transform=\"translate(-18.75 25.2421)\"><path class=\"edge\" d=\"M 0 0 V -25.2421 H 18.75\"/><rect class=\"sym\" height=\"6\" width=\"6\" x=\"-3\" y=\"-3\"/><text class=\"lab\" transform=\"translate(0 11)\">0</text></g><g class=\"a5 i0 leaf node n1 p0 sample\" transform=\"translate(18.75 25.2421)\"><path class=\"edge\" d=\"M 0 0 V -25.2421 H -18.75\"/><rect class=\"sym\" height=\"6\" width=\"6\" x=\"-3\" y=\"-3\"/><text class=\"lab\" transform=\"translate(0 11)\">1</text></g><path class=\"edge\" d=\"M 0 0 V -41.4416 H 37.5\"/><circle class=\"sym\" cx=\"0\" cy=\"0\" r=\"3\"/><text class=\"lab lft\" transform=\"translate(-3 -7.0)\">5</text></g><circle class=\"sym\" cx=\"0\" cy=\"0\" r=\"3\"/><text class=\"lab\" transform=\"translate(0 -11)\">8</text></g></g></g><g class=\"tree t3\" transform=\"translate(590 0)\"><g class=\"plotbox\"><g class=\"c2 node n9 p0 root\" transform=\"translate(71.5625 26.8)\"><g class=\"a9 i0 leaf m10 m11 m4 m5 m8 node n0 p0 s10 s11 s4 s5 s8 sample\" transform=\"translate(-32.8125 94.6)\"><path class=\"edge\" d=\"M 0 0 V -94.6 H 32.8125\"/><g class=\"mut m4 s4\" transform=\"translate(0 -77.5078)\"><line x1=\"0\" x2=\"0\" y1=\"0\" y2=\"77.5078\"/><path class=\"sym\" d=\"M -3,-3 l 6,6 M -3,3 l 6,-6\"/><text class=\"lab lft\" transform=\"translate(-5 0)\">4</text></g><g class=\"mut m10 s10\" transform=\"translate(0 -65.3483)\"><line x1=\"0\" x2=\"0\" y1=\"0\" y2=\"65.3483\"/><path class=\"sym\" d=\"M -3,-3 l 6,6 M -3,3 l 6,-6\"/><text class=\"lab lft\" transform=\"translate(-5 0)\">10</text></g><g class=\"mut m8 s8\" transform=\"translate(0 -38.3505)\"><line x1=\"0\" x2=\"0\" y1=\"0\" y2=\"38.3505\"/><path class=\"sym\" d=\"M -3,-3 l 6,6 M -3,3 l 6,-6\"/><text class=\"lab lft\" transform=\"translate(-5 0)\">8</text></g><g class=\"mut m5 s5\" transform=\"translate(0 -5.5096)\"><line x1=\"0\" x2=\"0\" y1=\"0\" y2=\"5.5096\"/><path class=\"sym\" d=\"M -3,-3 l 6,6 M -3,3 l 6,-6\"/><text class=\"lab lft\" transform=\"translate(-5 0)\">5</text></g><g class=\"mut m11 s11\" transform=\"translate(0 -2.01425)\"><line x1=\"0\" x2=\"0\" y1=\"0\" y2=\"2.01425\"/><path class=\"sym\" d=\"M -3,-3 l 6,6 M -3,3 l 6,-6\"/><text class=\"lab lft\" transform=\"translate(-5 0)\">11</text></g><rect class=\"sym\" height=\"6\" width=\"6\" x=\"-3\" y=\"-3\"/><text class=\"lab\" transform=\"translate(0 11)\">0</text></g><g class=\"a9 c2 m9 node n8 p0 s9\" transform=\"translate(32.8125 27.9163)\"><g class=\"a8 c2 node n6 p0\" transform=\"translate(28.125 20.5033)\"><g class=\"a6 i1 leaf m7 node n2 p0 s7 sample\" transform=\"translate(-18.75 46.1804)\"><path class=\"edge\" d=\"M 0 0 V -46.1804 H 18.75\"/><g class=\"mut m7 s7\" transform=\"translate(0 -38.8531)\"><line x1=\"0\" x2=\"0\" y1=\"0\" y2=\"38.8531\"/><path class=\"sym\" d=\"M -3,-3 l 6,6 M -3,3 l 6,-6\"/><text class=\"lab lft\" transform=\"translate(-5 0)\">7</text></g><rect class=\"sym\" height=\"6\" width=\"6\" x=\"-3\" y=\"-3\"/><text class=\"lab\" transform=\"translate(0 11)\">2</text></g><g class=\"a6 i1 leaf node n3 p0 sample\" transform=\"translate(18.75 46.1804)\"><path class=\"edge\" d=\"M 0 0 V -46.1804 H -18.75\"/><rect class=\"sym\" height=\"6\" width=\"6\" x=\"-3\" y=\"-3\"/><text class=\"lab\" transform=\"translate(0 11)\">3</text></g><path class=\"edge\" d=\"M 0 0 V -20.5033 H -28.125\"/><circle class=\"sym\" cx=\"0\" cy=\"0\" r=\"3\"/><text class=\"lab rgt\" transform=\"translate(3 -7.0)\">6</text></g><g class=\"a8 i0 leaf m6 node n1 p0 s6 sample\" transform=\"translate(-28.125 66.6837)\"><path class=\"edge\" d=\"M 0 0 V -66.6837 H 28.125\"/><g class=\"mut m6 s6\" transform=\"translate(0 -51.2358)\"><line x1=\"0\" x2=\"0\" y1=\"0\" y2=\"51.2358\"/><path class=\"sym\" d=\"M -3,-3 l 6,6 M -3,3 l 6,-6\"/><text class=\"lab lft\" transform=\"translate(-5 0)\">6</text></g><rect class=\"sym\" height=\"6\" width=\"6\" x=\"-3\" y=\"-3\"/><text class=\"lab\" transform=\"translate(0 11)\">1</text></g><path class=\"edge\" d=\"M 0 0 V -27.9163 H -32.8125\"/><g class=\"mut m9 s9\" transform=\"translate(0 -24.3442)\"><line x1=\"0\" x2=\"0\" y1=\"0\" y2=\"24.3442\"/><path class=\"sym\" d=\"M -3,-3 l 6,6 M -3,3 l 6,-6\"/><text class=\"lab rgt\" transform=\"translate(5 0)\">9</text></g><circle class=\"sym\" cx=\"0\" cy=\"0\" r=\"3\"/><text class=\"lab rgt\" transform=\"translate(3 -7.0)\">8</text></g><circle class=\"sym\" cx=\"0\" cy=\"0\" r=\"3\"/><text class=\"lab\" transform=\"translate(0 -11)\">9</text></g></g></g></g></g></svg>"
      ],
      "text/plain": [
       "<IPython.core.display.SVG object>"
      ]
     },
     "execution_count": 30,
     "metadata": {},
     "output_type": "execute_result"
    }
   ],
   "source": [
    "SVG(mts.draw_svg(y_axis=False))"
   ]
  },
  {
   "cell_type": "markdown",
   "id": "652abe1b",
   "metadata": {},
   "source": [
    "## Look at marginal tree(s)"
   ]
  },
  {
   "cell_type": "code",
   "execution_count": 41,
   "id": "b7b0c657",
   "metadata": {},
   "outputs": [
    {
     "name": "stdout",
     "output_type": "stream",
     "text": [
      "Interval(left=0.0, right=3829.0) 3829.0\n",
      "Interval(left=3829.0, right=4884.0) 1055.0\n",
      "Interval(left=4884.0, right=5107.0) 223.0\n",
      "Interval(left=5107.0, right=10000.0) 4893.0\n"
     ]
    }
   ],
   "source": [
    "for tree in mts.trees():\n",
    "    print(tree.interval, tree.span)"
   ]
  },
  {
   "cell_type": "code",
   "execution_count": 31,
   "id": "a0209246",
   "metadata": {},
   "outputs": [
    {
     "data": {
      "image/svg+xml": [
       "<svg xmlns=\"http://www.w3.org/2000/svg\" xmlns:ev=\"http://www.w3.org/2001/xml-events\" xmlns:xlink=\"http://www.w3.org/1999/xlink\" baseProfile=\"full\" height=\"200\" version=\"1.1\" width=\"200\"><defs><style type=\"text/css\"><![CDATA[.background path {fill: #808080; fill-opacity: 0}.background path:nth-child(odd) {fill-opacity: .1}.axes {font-size: 14px}.x-axis .tick .lab {font-weight: bold; dominant-baseline: hanging}.axes, .tree {font-size: 14px; text-anchor: middle}.axes line, .edge {stroke: black; fill: none}.y-axis .grid {stroke: #FAFAFA}.node > .sym {fill: black; stroke: none}.site > .sym {stroke: black}.mut text {fill: red; font-style: italic}.mut.extra text {fill: hotpink}.mut line {fill: none; stroke: none}.mut .sym {fill: none; stroke: red}.mut.extra .sym {stroke: hotpink}.node .mut .sym {stroke-width: 1.5px}.tree text, .tree-sequence text {dominant-baseline: central}.plotbox .lab.lft {text-anchor: end}.plotbox .lab.rgt {text-anchor: start}]]></style></defs><g class=\"tree t0\"><g class=\"plotbox\"><g class=\"c2 node n7 p0 root\" transform=\"translate(100 26.8)\"><g class=\"a7 c2 node n4 p0\" transform=\"translate(-40 122.382)\"><g class=\"a4 i0 leaf node n0 p0 sample\" transform=\"translate(-20 19.0179)\"><path class=\"edge\" d=\"M 0 0 V -19.0179 H 20\"/><rect class=\"sym\" height=\"6\" width=\"6\" x=\"-3\" y=\"-3\"/><text class=\"lab\" transform=\"translate(0 11)\">0</text></g><g class=\"a4 i0 leaf node n1 p0 sample\" transform=\"translate(20 19.0179)\"><path class=\"edge\" d=\"M 0 0 V -19.0179 H -20\"/><rect class=\"sym\" height=\"6\" width=\"6\" x=\"-3\" y=\"-3\"/><text class=\"lab\" transform=\"translate(0 11)\">1</text></g><path class=\"edge\" d=\"M 0 0 V -122.382 H 40\"/><circle class=\"sym\" cx=\"0\" cy=\"0\" r=\"3\"/><text class=\"lab lft\" transform=\"translate(-3 -7.0)\">4</text></g><g class=\"a7 c2 m1 node n6 p0 s1\" transform=\"translate(40 12.9799)\"><g class=\"a6 i1 leaf m2 node n2 p0 s2 sample\" transform=\"translate(-20 128.42)\"><path class=\"edge\" d=\"M 0 0 V -128.42 H 20\"/><g class=\"mut m2 s2\" transform=\"translate(0 -89.5822)\"><line x1=\"0\" x2=\"0\" y1=\"0\" y2=\"89.5822\"/><path class=\"sym\" d=\"M -3,-3 l 6,6 M -3,3 l 6,-6\"/><text class=\"lab lft\" transform=\"translate(-5 0)\">2</text></g><rect class=\"sym\" height=\"6\" width=\"6\" x=\"-3\" y=\"-3\"/><text class=\"lab\" transform=\"translate(0 11)\">2</text></g><g class=\"a6 i1 leaf m0 node n3 p0 s0 sample\" transform=\"translate(20 128.42)\"><path class=\"edge\" d=\"M 0 0 V -128.42 H -20\"/><g class=\"mut m0 s0\" transform=\"translate(0 -77.1235)\"><line x1=\"0\" x2=\"0\" y1=\"0\" y2=\"77.1235\"/><path class=\"sym\" d=\"M -3,-3 l 6,6 M -3,3 l 6,-6\"/><text class=\"lab rgt\" transform=\"translate(5 0)\">0</text></g><rect class=\"sym\" height=\"6\" width=\"6\" x=\"-3\" y=\"-3\"/><text class=\"lab\" transform=\"translate(0 11)\">3</text></g><path class=\"edge\" d=\"M 0 0 V -12.9799 H -40\"/><g class=\"mut m1 s1\" transform=\"translate(0 -9.55927)\"><line x1=\"0\" x2=\"0\" y1=\"0\" y2=\"9.55927\"/><path class=\"sym\" d=\"M -3,-3 l 6,6 M -3,3 l 6,-6\"/><text class=\"lab rgt\" transform=\"translate(5 0)\">1</text></g><circle class=\"sym\" cx=\"0\" cy=\"0\" r=\"3\"/><text class=\"lab rgt\" transform=\"translate(3 -7.0)\">6</text></g><circle class=\"sym\" cx=\"0\" cy=\"0\" r=\"3\"/><text class=\"lab\" transform=\"translate(0 -11)\">7</text></g></g></g></svg>"
      ],
      "text/plain": [
       "<IPython.core.display.SVG object>"
      ]
     },
     "execution_count": 31,
     "metadata": {},
     "output_type": "execute_result"
    }
   ],
   "source": [
    "tree = mts.at(3000)\n",
    "SVG(tree.draw_svg(y_axis = False))"
   ]
  },
  {
   "cell_type": "code",
   "execution_count": 32,
   "id": "e684da8f",
   "metadata": {},
   "outputs": [
    {
     "data": {
      "image/svg+xml": [
       "<svg xmlns=\"http://www.w3.org/2000/svg\" xmlns:ev=\"http://www.w3.org/2001/xml-events\" xmlns:xlink=\"http://www.w3.org/1999/xlink\" baseProfile=\"full\" height=\"200\" version=\"1.1\" width=\"200\"><defs><style type=\"text/css\"><![CDATA[.background path {fill: #808080; fill-opacity: 0}.background path:nth-child(odd) {fill-opacity: .1}.axes {font-size: 14px}.x-axis .tick .lab {font-weight: bold; dominant-baseline: hanging}.axes, .tree {font-size: 14px; text-anchor: middle}.axes line, .edge {stroke: black; fill: none}.y-axis .grid {stroke: #FAFAFA}.node > .sym {fill: black; stroke: none}.site > .sym {stroke: black}.mut text {fill: red; font-style: italic}.mut.extra text {fill: hotpink}.mut line {fill: none; stroke: none}.mut .sym {fill: none; stroke: red}.mut.extra .sym {stroke: hotpink}.node .mut .sym {stroke-width: 1.5px}.tree text, .tree-sequence text {dominant-baseline: central}.plotbox .lab.lft {text-anchor: end}.plotbox .lab.rgt {text-anchor: start}]]></style></defs><g class=\"tree t3\"><g class=\"plotbox\"><g class=\"c2 node n9 p0 root\" transform=\"translate(75 26.8)\"><g class=\"a9 i0 leaf m10 m11 m4 m5 m8 node n0 p0 s10 s11 s4 s5 s8 sample\" transform=\"translate(-35 141.4)\"><path class=\"edge\" d=\"M 0 0 V -141.4 H 35\"/><g class=\"mut m4 s4\" transform=\"translate(0 -115.852)\"><line x1=\"0\" x2=\"0\" y1=\"0\" y2=\"115.852\"/><path class=\"sym\" d=\"M -3,-3 l 6,6 M -3,3 l 6,-6\"/><text class=\"lab lft\" transform=\"translate(-5 0)\">4</text></g><g class=\"mut m10 s10\" transform=\"translate(0 -97.677)\"><line x1=\"0\" x2=\"0\" y1=\"0\" y2=\"97.677\"/><path class=\"sym\" d=\"M -3,-3 l 6,6 M -3,3 l 6,-6\"/><text class=\"lab lft\" transform=\"translate(-5 0)\">10</text></g><g class=\"mut m8 s8\" transform=\"translate(0 -57.3231)\"><line x1=\"0\" x2=\"0\" y1=\"0\" y2=\"57.3231\"/><path class=\"sym\" d=\"M -3,-3 l 6,6 M -3,3 l 6,-6\"/><text class=\"lab lft\" transform=\"translate(-5 0)\">8</text></g><g class=\"mut m5 s5\" transform=\"translate(0 -8.23528)\"><line x1=\"0\" x2=\"0\" y1=\"0\" y2=\"8.23528\"/><path class=\"sym\" d=\"M -3,-3 l 6,6 M -3,3 l 6,-6\"/><text class=\"lab lft\" transform=\"translate(-5 0)\">5</text></g><g class=\"mut m11 s11\" transform=\"translate(0 -3.01073)\"><line x1=\"0\" x2=\"0\" y1=\"0\" y2=\"3.01073\"/><path class=\"sym\" d=\"M -3,-3 l 6,6 M -3,3 l 6,-6\"/><text class=\"lab lft\" transform=\"translate(-5 0)\">11</text></g><rect class=\"sym\" height=\"6\" width=\"6\" x=\"-3\" y=\"-3\"/><text class=\"lab\" transform=\"translate(0 11)\">0</text></g><g class=\"a9 c2 m9 node n8 p0 s9\" transform=\"translate(35 41.7269)\"><g class=\"a8 c2 node n6 p0\" transform=\"translate(30 30.6466)\"><g class=\"a6 i1 leaf m7 node n2 p0 s7 sample\" transform=\"translate(-20 69.0265)\"><path class=\"edge\" d=\"M 0 0 V -69.0265 H 20\"/><g class=\"mut m7 s7\" transform=\"translate(0 -58.0743)\"><line x1=\"0\" x2=\"0\" y1=\"0\" y2=\"58.0743\"/><path class=\"sym\" d=\"M -3,-3 l 6,6 M -3,3 l 6,-6\"/><text class=\"lab lft\" transform=\"translate(-5 0)\">7</text></g><rect class=\"sym\" height=\"6\" width=\"6\" x=\"-3\" y=\"-3\"/><text class=\"lab\" transform=\"translate(0 11)\">2</text></g><g class=\"a6 i1 leaf node n3 p0 sample\" transform=\"translate(20 69.0265)\"><path class=\"edge\" d=\"M 0 0 V -69.0265 H -20\"/><rect class=\"sym\" height=\"6\" width=\"6\" x=\"-3\" y=\"-3\"/><text class=\"lab\" transform=\"translate(0 11)\">3</text></g><path class=\"edge\" d=\"M 0 0 V -30.6466 H -30\"/><circle class=\"sym\" cx=\"0\" cy=\"0\" r=\"3\"/><text class=\"lab rgt\" transform=\"translate(3 -7.0)\">6</text></g><g class=\"a8 i0 leaf m6 node n1 p0 s6 sample\" transform=\"translate(-30 99.6731)\"><path class=\"edge\" d=\"M 0 0 V -99.6731 H 30\"/><g class=\"mut m6 s6\" transform=\"translate(0 -76.5829)\"><line x1=\"0\" x2=\"0\" y1=\"0\" y2=\"76.5829\"/><path class=\"sym\" d=\"M -3,-3 l 6,6 M -3,3 l 6,-6\"/><text class=\"lab lft\" transform=\"translate(-5 0)\">6</text></g><rect class=\"sym\" height=\"6\" width=\"6\" x=\"-3\" y=\"-3\"/><text class=\"lab\" transform=\"translate(0 11)\">1</text></g><path class=\"edge\" d=\"M 0 0 V -41.7269 H -35\"/><g class=\"mut m9 s9\" transform=\"translate(0 -36.3876)\"><line x1=\"0\" x2=\"0\" y1=\"0\" y2=\"36.3876\"/><path class=\"sym\" d=\"M -3,-3 l 6,6 M -3,3 l 6,-6\"/><text class=\"lab rgt\" transform=\"translate(5 0)\">9</text></g><circle class=\"sym\" cx=\"0\" cy=\"0\" r=\"3\"/><text class=\"lab rgt\" transform=\"translate(3 -7.0)\">8</text></g><circle class=\"sym\" cx=\"0\" cy=\"0\" r=\"3\"/><text class=\"lab\" transform=\"translate(0 -11)\">9</text></g></g></g></svg>"
      ],
      "text/plain": [
       "<IPython.core.display.SVG object>"
      ]
     },
     "execution_count": 32,
     "metadata": {},
     "output_type": "execute_result"
    }
   ],
   "source": [
    "tree = mts.at_index(3)\n",
    "SVG(tree.draw_svg(y_axis = False))"
   ]
  },
  {
   "cell_type": "markdown",
   "id": "352886ce",
   "metadata": {},
   "source": [
    "## Tree sequence simplification"
   ]
  },
  {
   "cell_type": "code",
   "execution_count": 33,
   "id": "aa2851a0",
   "metadata": {},
   "outputs": [
    {
     "data": {
      "image/svg+xml": [
       "<svg xmlns=\"http://www.w3.org/2000/svg\" xmlns:ev=\"http://www.w3.org/2001/xml-events\" xmlns:xlink=\"http://www.w3.org/1999/xlink\" baseProfile=\"full\" height=\"200\" version=\"1.1\" width=\"800\"><defs><style type=\"text/css\"><![CDATA[.background path {fill: #808080; fill-opacity: 0}.background path:nth-child(odd) {fill-opacity: .1}.axes {font-size: 14px}.x-axis .tick .lab {font-weight: bold; dominant-baseline: hanging}.axes, .tree {font-size: 14px; text-anchor: middle}.axes line, .edge {stroke: black; fill: none}.y-axis .grid {stroke: #FAFAFA}.node > .sym {fill: black; stroke: none}.site > .sym {stroke: black}.mut text {fill: red; font-style: italic}.mut.extra text {fill: hotpink}.mut line {fill: none; stroke: none}.mut .sym {fill: none; stroke: red}.mut.extra .sym {stroke: hotpink}.node .mut .sym {stroke-width: 1.5px}.tree text, .tree-sequence text {dominant-baseline: central}.plotbox .lab.lft {text-anchor: end}.plotbox .lab.rgt {text-anchor: start}]]></style></defs><g class=\"tree-sequence\"><g class=\"background\"><path d=\"M56.8,0 l180.8,0 l0,138.2 l96.1133,25 l0,5 l-276.913,0 l0,-5 l0,-25 l0,-138.2z\"/><path d=\"M237.6,0 l180.8,0 l0,138.2 l-8.38912,25 l0,5 l-76.2976,0 l0,-5 l-96.1133,-25 l0,-138.2z\"/><path d=\"M418.4,0 l180.8,0 l0,138.2 l-173.062,25 l0,5 l-16.1274,0 l0,-5 l8.38912,-25 l0,-138.2z\"/><path d=\"M599.2,0 l180.8,0 l0,138.2 l0,25 l0,5 l-353.862,0 l0,-5 l173.062,-25 l0,-138.2z\"/></g><g class=\"axes\"><g class=\"x-axis\"><g transform=\"translate(418.4,200)\"><text class=\"lab\" text-anchor=\"middle\" transform=\"translate(0 -11)\">Genome position</text></g><line x1=\"56.8\" x2=\"780\" y1=\"163.2\" y2=\"163.2\"/><g class=\"ticks\"><g class=\"tick\" transform=\"translate(56.8 163.2)\"><line x1=\"0\" x2=\"0\" y1=\"0\" y2=\"5\"/><g transform=\"translate(0,6)\"><text class=\"lab\">0</text></g></g><g class=\"tick\" transform=\"translate(333.713 163.2)\"><line x1=\"0\" x2=\"0\" y1=\"0\" y2=\"5\"/><g transform=\"translate(0,6)\"><text class=\"lab\">3829</text></g></g><g class=\"tick\" transform=\"translate(410.011 163.2)\"><line x1=\"0\" x2=\"0\" y1=\"0\" y2=\"5\"/><g transform=\"translate(0,6)\"><text class=\"lab\">4884</text></g></g><g class=\"tick\" transform=\"translate(426.138 163.2)\"><line x1=\"0\" x2=\"0\" y1=\"0\" y2=\"5\"/><g transform=\"translate(0,6)\"><text class=\"lab\">5107</text></g></g><g class=\"tick\" transform=\"translate(780 163.2)\"><line x1=\"0\" x2=\"0\" y1=\"0\" y2=\"5\"/><g transform=\"translate(0,6)\"><text class=\"lab\">10000</text></g></g></g><g class=\"site s0\" transform=\"translate(108.436 163.2)\"><line class=\"sym\" x1=\"0\" x2=\"0\" y1=\"0\" y2=\"-10\"/><g class=\"mut m0\"><polyline class=\"sym\" points=\"2.5,-6.5 0,-1.5 -2.5,-6.5\"/></g></g><g class=\"site s1\" transform=\"translate(134.761 163.2)\"><line class=\"sym\" x1=\"0\" x2=\"0\" y1=\"0\" y2=\"-10\"/><g class=\"mut m1\"><polyline class=\"sym\" points=\"2.5,-6.5 0,-1.5 -2.5,-6.5\"/></g></g><g class=\"site s2\" transform=\"translate(185.964 163.2)\"><line class=\"sym\" x1=\"0\" x2=\"0\" y1=\"0\" y2=\"-10\"/><g class=\"mut m2\"><polyline class=\"sym\" points=\"2.5,-6.5 0,-1.5 -2.5,-6.5\"/></g></g><g class=\"site s3\" transform=\"translate(368.21 163.2)\"><line class=\"sym\" x1=\"0\" x2=\"0\" y1=\"0\" y2=\"-10\"/><g class=\"mut m3\"><polyline class=\"sym\" points=\"2.5,-6.5 0,-1.5 -2.5,-6.5\"/></g></g><g class=\"site s4\" transform=\"translate(462.515 163.2)\"><line class=\"sym\" x1=\"0\" x2=\"0\" y1=\"0\" y2=\"-10\"/><g class=\"mut m4\"><polyline class=\"sym\" points=\"2.5,-6.5 0,-1.5 -2.5,-6.5\"/></g></g><g class=\"site s5\" transform=\"translate(474.52 163.2)\"><line class=\"sym\" x1=\"0\" x2=\"0\" y1=\"0\" y2=\"-10\"/><g class=\"mut m5\"><polyline class=\"sym\" points=\"2.5,-6.5 0,-1.5 -2.5,-6.5\"/></g></g><g class=\"site s6\" transform=\"translate(480.089 163.2)\"><line class=\"sym\" x1=\"0\" x2=\"0\" y1=\"0\" y2=\"-10\"/><g class=\"mut m6\"><polyline class=\"sym\" points=\"2.5,-6.5 0,-1.5 -2.5,-6.5\"/></g></g><g class=\"site s7\" transform=\"translate(489.418 163.2)\"><line class=\"sym\" x1=\"0\" x2=\"0\" y1=\"0\" y2=\"-10\"/><g class=\"mut m7\"><polyline class=\"sym\" points=\"2.5,-6.5 0,-1.5 -2.5,-6.5\"/></g></g><g class=\"site s8\" transform=\"translate(601.804 163.2)\"><line class=\"sym\" x1=\"0\" x2=\"0\" y1=\"0\" y2=\"-10\"/><g class=\"mut m8\"><polyline class=\"sym\" points=\"2.5,-6.5 0,-1.5 -2.5,-6.5\"/></g></g><g class=\"site s9\" transform=\"translate(697.194 163.2)\"><line class=\"sym\" x1=\"0\" x2=\"0\" y1=\"0\" y2=\"-10\"/><g class=\"mut m9\"><polyline class=\"sym\" points=\"2.5,-6.5 0,-1.5 -2.5,-6.5\"/></g></g><g class=\"site s10\" transform=\"translate(705.149 163.2)\"><line class=\"sym\" x1=\"0\" x2=\"0\" y1=\"0\" y2=\"-10\"/><g class=\"mut m10\"><polyline class=\"sym\" points=\"2.5,-6.5 0,-1.5 -2.5,-6.5\"/></g></g><g class=\"site s11\" transform=\"translate(767.272 163.2)\"><line class=\"sym\" x1=\"0\" x2=\"0\" y1=\"0\" y2=\"-10\"/><g class=\"mut m11\"><polyline class=\"sym\" points=\"2.5,-6.5 0,-1.5 -2.5,-6.5\"/></g></g></g><g class=\"y-axis\"><g transform=\"translate(0,65.7)\"><text class=\"lab\" text-anchor=\"middle\" transform=\"translate(11) rotate(-90)\">Time</text></g><line x1=\"56.8\" x2=\"56.8\" y1=\"121.4\" y2=\"10\"/><g class=\"ticks\"><g class=\"tick\" transform=\"translate(56.8 121.4)\"><line x1=\"0\" x2=\"-5\" y1=\"0\" y2=\"0\"/><g transform=\"translate(-6,0)\"><text class=\"lab\" text-anchor=\"end\">0.00</text></g></g><g class=\"tick\" transform=\"translate(56.8 114.561)\"><line x1=\"0\" x2=\"-5\" y1=\"0\" y2=\"0\"/><g transform=\"translate(-6,0)\"><text class=\"lab\" text-anchor=\"end\">16.83</text></g></g><g class=\"tick\" transform=\"translate(56.8 96.1579)\"><line x1=\"0\" x2=\"-5\" y1=\"0\" y2=\"0\"/><g transform=\"translate(-6,0)\"><text class=\"lab\" text-anchor=\"end\">62.12</text></g></g><g class=\"tick\" transform=\"translate(56.8 75.2196)\"><line x1=\"0\" x2=\"-5\" y1=\"0\" y2=\"0\"/><g transform=\"translate(-6,0)\"><text class=\"lab\" text-anchor=\"end\">113.65</text></g></g><g class=\"tick\" transform=\"translate(56.8 70.552)\"><line x1=\"0\" x2=\"-5\" y1=\"0\" y2=\"0\"/><g transform=\"translate(-6,0)\"><text class=\"lab\" text-anchor=\"end\">125.14</text></g></g><g class=\"tick\" transform=\"translate(56.8 54.7163)\"><line x1=\"0\" x2=\"-5\" y1=\"0\" y2=\"0\"/><g transform=\"translate(-6,0)\"><text class=\"lab\" text-anchor=\"end\">164.11</text></g></g><g class=\"tick\" transform=\"translate(56.8 26.8)\"><line x1=\"0\" x2=\"-5\" y1=\"0\" y2=\"0\"/><g transform=\"translate(-6,0)\"><text class=\"lab\" text-anchor=\"end\">232.82</text></g></g></g></g></g><g class=\"plotbox trees\"><g class=\"tree t0\" transform=\"translate(56.8 0)\"><g class=\"plotbox\"><g class=\"c2 node n7 p0 root\" transform=\"translate(90.4 70.552)\"><g class=\"a7 c2 node n4 p0\" transform=\"translate(-35.2 44.0091)\"><g class=\"a4 i0 leaf node n0 p0 sample\" transform=\"translate(-17.6 6.83891)\"><path class=\"edge\" d=\"M 0 0 V -6.83891 H 17.6\"/><rect class=\"sym\" height=\"6\" width=\"6\" x=\"-3\" y=\"-3\"/><text class=\"lab\" transform=\"translate(0 11)\">0</text></g><g class=\"a4 i0 leaf node n1 p0 sample\" transform=\"translate(17.6 6.83891)\"><path class=\"edge\" d=\"M 0 0 V -6.83891 H -17.6\"/><rect class=\"sym\" height=\"6\" width=\"6\" x=\"-3\" y=\"-3\"/><text class=\"lab\" transform=\"translate(0 11)\">1</text></g><path class=\"edge\" d=\"M 0 0 V -44.0091 H 35.2\"/><circle class=\"sym\" cx=\"0\" cy=\"0\" r=\"3\"/><text class=\"lab lft\" transform=\"translate(-3 -7.0)\">4</text></g><g class=\"a7 c2 m1 node n6 p0 s1\" transform=\"translate(35.2 4.66762)\"><g class=\"a6 i1 leaf m2 node n2 p0 s2 sample\" transform=\"translate(-17.6 46.1804)\"><path class=\"edge\" d=\"M 0 0 V -46.1804 H 17.6\"/><g class=\"mut m2 s2\" transform=\"translate(0 -32.2141)\"><line x1=\"0\" x2=\"0\" y1=\"0\" y2=\"32.2141\"/><path class=\"sym\" d=\"M -3,-3 l 6,6 M -3,3 l 6,-6\"/><text class=\"lab lft\" transform=\"translate(-5 0)\">2</text></g><rect class=\"sym\" height=\"6\" width=\"6\" x=\"-3\" y=\"-3\"/><text class=\"lab\" transform=\"translate(0 11)\">2</text></g><g class=\"a6 i1 leaf m0 node n3 p0 s0 sample\" transform=\"translate(17.6 46.1804)\"><path class=\"edge\" d=\"M 0 0 V -46.1804 H -17.6\"/><g class=\"mut m0 s0\" transform=\"translate(0 -27.7339)\"><line x1=\"0\" x2=\"0\" y1=\"0\" y2=\"27.7339\"/><path class=\"sym\" d=\"M -3,-3 l 6,6 M -3,3 l 6,-6\"/><text class=\"lab rgt\" transform=\"translate(5 0)\">0</text></g><rect class=\"sym\" height=\"6\" width=\"6\" x=\"-3\" y=\"-3\"/><text class=\"lab\" transform=\"translate(0 11)\">3</text></g><path class=\"edge\" d=\"M 0 0 V -4.66762 H -35.2\"/><g class=\"mut m1 s1\" transform=\"translate(0 -3.43755)\"><line x1=\"0\" x2=\"0\" y1=\"0\" y2=\"3.43755\"/><path class=\"sym\" d=\"M -3,-3 l 6,6 M -3,3 l 6,-6\"/><text class=\"lab rgt\" transform=\"translate(5 0)\">1</text></g><circle class=\"sym\" cx=\"0\" cy=\"0\" r=\"3\"/><text class=\"lab rgt\" transform=\"translate(3 -7.0)\">6</text></g><circle class=\"sym\" cx=\"0\" cy=\"0\" r=\"3\"/><text class=\"lab\" transform=\"translate(0 -11)\">7</text></g></g></g><g class=\"tree t1\" transform=\"translate(237.6 0)\"><g class=\"plotbox\"><g class=\"c2 node n8 p0 root\" transform=\"translate(90.4 54.7163)\"><g class=\"a8 c2 node n4 p0\" transform=\"translate(-35.2 59.8448)\"><g class=\"a4 i0 leaf node n0 p0 sample\" transform=\"translate(-17.6 6.83891)\"><path class=\"edge\" d=\"M 0 0 V -6.83891 H 17.6\"/><rect class=\"sym\" height=\"6\" width=\"6\" x=\"-3\" y=\"-3\"/><text class=\"lab\" transform=\"translate(0 11)\">0</text></g><g class=\"a4 i0 leaf node n1 p0 sample\" transform=\"translate(17.6 6.83891)\"><path class=\"edge\" d=\"M 0 0 V -6.83891 H -17.6\"/><rect class=\"sym\" height=\"6\" width=\"6\" x=\"-3\" y=\"-3\"/><text class=\"lab\" transform=\"translate(0 11)\">1</text></g><path class=\"edge\" d=\"M 0 0 V -59.8448 H 35.2\"/><circle class=\"sym\" cx=\"0\" cy=\"0\" r=\"3\"/><text class=\"lab lft\" transform=\"translate(-3 -7.0)\">4</text></g><g class=\"a8 c2 node n6 p0\" transform=\"translate(35.2 20.5033)\"><g class=\"a6 i1 leaf m3 node n2 p0 s3 sample\" transform=\"translate(-17.6 46.1804)\"><path class=\"edge\" d=\"M 0 0 V -46.1804 H 17.6\"/><g class=\"mut m3 s3\" transform=\"translate(0 -41.6782)\"><line x1=\"0\" x2=\"0\" y1=\"0\" y2=\"41.6782\"/><path class=\"sym\" d=\"M -3,-3 l 6,6 M -3,3 l 6,-6\"/><text class=\"lab lft\" transform=\"translate(-5 0)\">3</text></g><rect class=\"sym\" height=\"6\" width=\"6\" x=\"-3\" y=\"-3\"/><text class=\"lab\" transform=\"translate(0 11)\">2</text></g><g class=\"a6 i1 leaf node n3 p0 sample\" transform=\"translate(17.6 46.1804)\"><path class=\"edge\" d=\"M 0 0 V -46.1804 H -17.6\"/><rect class=\"sym\" height=\"6\" width=\"6\" x=\"-3\" y=\"-3\"/><text class=\"lab\" transform=\"translate(0 11)\">3</text></g><path class=\"edge\" d=\"M 0 0 V -20.5033 H -35.2\"/><circle class=\"sym\" cx=\"0\" cy=\"0\" r=\"3\"/><text class=\"lab rgt\" transform=\"translate(3 -7.0)\">6</text></g><circle class=\"sym\" cx=\"0\" cy=\"0\" r=\"3\"/><text class=\"lab\" transform=\"translate(0 -11)\">8</text></g></g></g><g class=\"tree t2\" transform=\"translate(418.4 0)\"><g class=\"plotbox\"><g class=\"c2 node n8 p0 root\" transform=\"translate(90.4 54.7163)\"><g class=\"a8 c2 node n6 p0\" transform=\"translate(35.2 20.5033)\"><g class=\"a6 i1 leaf node n2 p0 sample\" transform=\"translate(-17.6 46.1804)\"><path class=\"edge\" d=\"M 0 0 V -46.1804 H 17.6\"/><rect class=\"sym\" height=\"6\" width=\"6\" x=\"-3\" y=\"-3\"/><text class=\"lab\" transform=\"translate(0 11)\">2</text></g><g class=\"a6 i1 leaf node n3 p0 sample\" transform=\"translate(17.6 46.1804)\"><path class=\"edge\" d=\"M 0 0 V -46.1804 H -17.6\"/><rect class=\"sym\" height=\"6\" width=\"6\" x=\"-3\" y=\"-3\"/><text class=\"lab\" transform=\"translate(0 11)\">3</text></g><path class=\"edge\" d=\"M 0 0 V -20.5033 H -35.2\"/><circle class=\"sym\" cx=\"0\" cy=\"0\" r=\"3\"/><text class=\"lab rgt\" transform=\"translate(3 -7.0)\">6</text></g><g class=\"a8 c2 node n5 p0\" transform=\"translate(-35.2 41.4416)\"><g class=\"a5 i0 leaf node n0 p0 sample\" transform=\"translate(-17.6 25.2421)\"><path class=\"edge\" d=\"M 0 0 V -25.2421 H 17.6\"/><rect class=\"sym\" height=\"6\" width=\"6\" x=\"-3\" y=\"-3\"/><text class=\"lab\" transform=\"translate(0 11)\">0</text></g><g class=\"a5 i0 leaf node n1 p0 sample\" transform=\"translate(17.6 25.2421)\"><path class=\"edge\" d=\"M 0 0 V -25.2421 H -17.6\"/><rect class=\"sym\" height=\"6\" width=\"6\" x=\"-3\" y=\"-3\"/><text class=\"lab\" transform=\"translate(0 11)\">1</text></g><path class=\"edge\" d=\"M 0 0 V -41.4416 H 35.2\"/><circle class=\"sym\" cx=\"0\" cy=\"0\" r=\"3\"/><text class=\"lab lft\" transform=\"translate(-3 -7.0)\">5</text></g><circle class=\"sym\" cx=\"0\" cy=\"0\" r=\"3\"/><text class=\"lab\" transform=\"translate(0 -11)\">8</text></g></g></g><g class=\"tree t3\" transform=\"translate(599.2 0)\"><g class=\"plotbox\"><g class=\"c2 node n9 p0 root\" transform=\"translate(68.4 26.8)\"><g class=\"a9 i0 leaf m10 m11 m4 m5 m8 node n0 p0 s10 s11 s4 s5 s8 sample\" transform=\"translate(-30.8 94.6)\"><path class=\"edge\" d=\"M 0 0 V -94.6 H 30.8\"/><g class=\"mut m4 s4\" transform=\"translate(0 -77.5078)\"><line x1=\"0\" x2=\"0\" y1=\"0\" y2=\"77.5078\"/><path class=\"sym\" d=\"M -3,-3 l 6,6 M -3,3 l 6,-6\"/><text class=\"lab lft\" transform=\"translate(-5 0)\">4</text></g><g class=\"mut m10 s10\" transform=\"translate(0 -65.3483)\"><line x1=\"0\" x2=\"0\" y1=\"0\" y2=\"65.3483\"/><path class=\"sym\" d=\"M -3,-3 l 6,6 M -3,3 l 6,-6\"/><text class=\"lab lft\" transform=\"translate(-5 0)\">10</text></g><g class=\"mut m8 s8\" transform=\"translate(0 -38.3505)\"><line x1=\"0\" x2=\"0\" y1=\"0\" y2=\"38.3505\"/><path class=\"sym\" d=\"M -3,-3 l 6,6 M -3,3 l 6,-6\"/><text class=\"lab lft\" transform=\"translate(-5 0)\">8</text></g><g class=\"mut m5 s5\" transform=\"translate(0 -5.5096)\"><line x1=\"0\" x2=\"0\" y1=\"0\" y2=\"5.5096\"/><path class=\"sym\" d=\"M -3,-3 l 6,6 M -3,3 l 6,-6\"/><text class=\"lab lft\" transform=\"translate(-5 0)\">5</text></g><g class=\"mut m11 s11\" transform=\"translate(0 -2.01425)\"><line x1=\"0\" x2=\"0\" y1=\"0\" y2=\"2.01425\"/><path class=\"sym\" d=\"M -3,-3 l 6,6 M -3,3 l 6,-6\"/><text class=\"lab lft\" transform=\"translate(-5 0)\">11</text></g><rect class=\"sym\" height=\"6\" width=\"6\" x=\"-3\" y=\"-3\"/><text class=\"lab\" transform=\"translate(0 11)\">0</text></g><g class=\"a9 c2 m9 node n8 p0 s9\" transform=\"translate(30.8 27.9163)\"><g class=\"a8 c2 node n6 p0\" transform=\"translate(26.4 20.5033)\"><g class=\"a6 i1 leaf m7 node n2 p0 s7 sample\" transform=\"translate(-17.6 46.1804)\"><path class=\"edge\" d=\"M 0 0 V -46.1804 H 17.6\"/><g class=\"mut m7 s7\" transform=\"translate(0 -38.8531)\"><line x1=\"0\" x2=\"0\" y1=\"0\" y2=\"38.8531\"/><path class=\"sym\" d=\"M -3,-3 l 6,6 M -3,3 l 6,-6\"/><text class=\"lab lft\" transform=\"translate(-5 0)\">7</text></g><rect class=\"sym\" height=\"6\" width=\"6\" x=\"-3\" y=\"-3\"/><text class=\"lab\" transform=\"translate(0 11)\">2</text></g><g class=\"a6 i1 leaf node n3 p0 sample\" transform=\"translate(17.6 46.1804)\"><path class=\"edge\" d=\"M 0 0 V -46.1804 H -17.6\"/><rect class=\"sym\" height=\"6\" width=\"6\" x=\"-3\" y=\"-3\"/><text class=\"lab\" transform=\"translate(0 11)\">3</text></g><path class=\"edge\" d=\"M 0 0 V -20.5033 H -26.4\"/><circle class=\"sym\" cx=\"0\" cy=\"0\" r=\"3\"/><text class=\"lab rgt\" transform=\"translate(3 -7.0)\">6</text></g><g class=\"a8 i0 leaf m6 node n1 p0 s6 sample\" transform=\"translate(-26.4 66.6837)\"><path class=\"edge\" d=\"M 0 0 V -66.6837 H 26.4\"/><g class=\"mut m6 s6\" transform=\"translate(0 -51.2358)\"><line x1=\"0\" x2=\"0\" y1=\"0\" y2=\"51.2358\"/><path class=\"sym\" d=\"M -3,-3 l 6,6 M -3,3 l 6,-6\"/><text class=\"lab lft\" transform=\"translate(-5 0)\">6</text></g><rect class=\"sym\" height=\"6\" width=\"6\" x=\"-3\" y=\"-3\"/><text class=\"lab\" transform=\"translate(0 11)\">1</text></g><path class=\"edge\" d=\"M 0 0 V -27.9163 H -30.8\"/><g class=\"mut m9 s9\" transform=\"translate(0 -24.3442)\"><line x1=\"0\" x2=\"0\" y1=\"0\" y2=\"24.3442\"/><path class=\"sym\" d=\"M -3,-3 l 6,6 M -3,3 l 6,-6\"/><text class=\"lab rgt\" transform=\"translate(5 0)\">9</text></g><circle class=\"sym\" cx=\"0\" cy=\"0\" r=\"3\"/><text class=\"lab rgt\" transform=\"translate(3 -7.0)\">8</text></g><circle class=\"sym\" cx=\"0\" cy=\"0\" r=\"3\"/><text class=\"lab\" transform=\"translate(0 -11)\">9</text></g></g></g></g></g></svg>"
      ],
      "text/plain": [
       "<IPython.core.display.SVG object>"
      ]
     },
     "execution_count": 33,
     "metadata": {},
     "output_type": "execute_result"
    }
   ],
   "source": [
    "SVG(mts.draw_svg(y_axis=True))"
   ]
  },
  {
   "cell_type": "code",
   "execution_count": 34,
   "id": "e27f3492",
   "metadata": {},
   "outputs": [],
   "source": [
    "simplified_mts = mts.simplify([0, 1])"
   ]
  },
  {
   "cell_type": "code",
   "execution_count": 35,
   "id": "63e1cda6",
   "metadata": {},
   "outputs": [
    {
     "data": {
      "image/svg+xml": [
       "<svg xmlns=\"http://www.w3.org/2000/svg\" xmlns:ev=\"http://www.w3.org/2001/xml-events\" xmlns:xlink=\"http://www.w3.org/1999/xlink\" baseProfile=\"full\" height=\"200\" version=\"1.1\" width=\"600\"><defs><style type=\"text/css\"><![CDATA[.background path {fill: #808080; fill-opacity: 0}.background path:nth-child(odd) {fill-opacity: .1}.axes {font-size: 14px}.x-axis .tick .lab {font-weight: bold; dominant-baseline: hanging}.axes, .tree {font-size: 14px; text-anchor: middle}.axes line, .edge {stroke: black; fill: none}.y-axis .grid {stroke: #FAFAFA}.node > .sym {fill: black; stroke: none}.site > .sym {stroke: black}.mut text {fill: red; font-style: italic}.mut.extra text {fill: hotpink}.mut line {fill: none; stroke: none}.mut .sym {fill: none; stroke: red}.mut.extra .sym {stroke: hotpink}.node .mut .sym {stroke-width: 1.5px}.tree text, .tree-sequence text {dominant-baseline: central}.plotbox .lab.lft {text-anchor: end}.plotbox .lab.rgt {text-anchor: start}]]></style></defs><g class=\"tree-sequence\"><g class=\"background\"><path d=\"M56.8,0 l174.4,0 l0,138.2 l81.1309,25 l0,5 l-255.531,0 l0,-5 l0,-25 l0,-138.2z\"/><path d=\"M231.2,0 l174.4,0 l0,138.2 l-81.6018,25 l0,5 l-11.6674,0 l0,-5 l-81.1309,-25 l0,-138.2z\"/><path d=\"M405.6,0 l174.4,0 l0,138.2 l0,25 l0,5 l-256.002,0 l0,-5 l81.6018,-25 l0,-138.2z\"/></g><g class=\"axes\"><g class=\"x-axis\"><g transform=\"translate(318.4,200)\"><text class=\"lab\" text-anchor=\"middle\" transform=\"translate(0 -11)\">Genome position</text></g><line x1=\"56.8\" x2=\"580\" y1=\"163.2\" y2=\"163.2\"/><g class=\"ticks\"><g class=\"tick\" transform=\"translate(56.8 163.2)\"><line x1=\"0\" x2=\"0\" y1=\"0\" y2=\"5\"/><g transform=\"translate(0,6)\"><text class=\"lab\">0</text></g></g><g class=\"tick\" transform=\"translate(312.331 163.2)\"><line x1=\"0\" x2=\"0\" y1=\"0\" y2=\"5\"/><g transform=\"translate(0,6)\"><text class=\"lab\">4884</text></g></g><g class=\"tick\" transform=\"translate(323.998 163.2)\"><line x1=\"0\" x2=\"0\" y1=\"0\" y2=\"5\"/><g transform=\"translate(0,6)\"><text class=\"lab\">5107</text></g></g><g class=\"tick\" transform=\"translate(580 163.2)\"><line x1=\"0\" x2=\"0\" y1=\"0\" y2=\"5\"/><g transform=\"translate(0,6)\"><text class=\"lab\">10000</text></g></g></g><g class=\"site s0\" transform=\"translate(350.315 163.2)\"><line class=\"sym\" x1=\"0\" x2=\"0\" y1=\"0\" y2=\"-10\"/><g class=\"mut m0\"><polyline class=\"sym\" points=\"2.5,-6.5 0,-1.5 -2.5,-6.5\"/></g></g><g class=\"site s1\" transform=\"translate(359 163.2)\"><line class=\"sym\" x1=\"0\" x2=\"0\" y1=\"0\" y2=\"-10\"/><g class=\"mut m1\"><polyline class=\"sym\" points=\"2.5,-6.5 0,-1.5 -2.5,-6.5\"/></g></g><g class=\"site s2\" transform=\"translate(363.029 163.2)\"><line class=\"sym\" x1=\"0\" x2=\"0\" y1=\"0\" y2=\"-10\"/><g class=\"mut m2\"><polyline class=\"sym\" points=\"2.5,-6.5 0,-1.5 -2.5,-6.5\"/></g></g><g class=\"site s3\" transform=\"translate(451.084 163.2)\"><line class=\"sym\" x1=\"0\" x2=\"0\" y1=\"0\" y2=\"-10\"/><g class=\"mut m3\"><polyline class=\"sym\" points=\"2.5,-6.5 0,-1.5 -2.5,-6.5\"/></g></g><g class=\"site s4\" transform=\"translate(520.094 163.2)\"><line class=\"sym\" x1=\"0\" x2=\"0\" y1=\"0\" y2=\"-10\"/><g class=\"mut m4\"><polyline class=\"sym\" points=\"2.5,-6.5 0,-1.5 -2.5,-6.5\"/></g></g><g class=\"site s5\" transform=\"translate(525.849 163.2)\"><line class=\"sym\" x1=\"0\" x2=\"0\" y1=\"0\" y2=\"-10\"/><g class=\"mut m5\"><polyline class=\"sym\" points=\"2.5,-6.5 0,-1.5 -2.5,-6.5\"/></g></g><g class=\"site s6\" transform=\"translate(570.792 163.2)\"><line class=\"sym\" x1=\"0\" x2=\"0\" y1=\"0\" y2=\"-10\"/><g class=\"mut m6\"><polyline class=\"sym\" points=\"2.5,-6.5 0,-1.5 -2.5,-6.5\"/></g></g></g><g class=\"y-axis\"><g transform=\"translate(0,65.7)\"><text class=\"lab\" text-anchor=\"middle\" transform=\"translate(11) rotate(-90)\">Time</text></g><line x1=\"56.8\" x2=\"56.8\" y1=\"121.4\" y2=\"10\"/><g class=\"ticks\"><g class=\"tick\" transform=\"translate(56.8 121.4)\"><line x1=\"0\" x2=\"-5\" y1=\"0\" y2=\"0\"/><g transform=\"translate(-6,0)\"><text class=\"lab\" text-anchor=\"end\">0.00</text></g></g><g class=\"tick\" transform=\"translate(56.8 114.561)\"><line x1=\"0\" x2=\"-5\" y1=\"0\" y2=\"0\"/><g transform=\"translate(-6,0)\"><text class=\"lab\" text-anchor=\"end\">16.83</text></g></g><g class=\"tick\" transform=\"translate(56.8 96.1579)\"><line x1=\"0\" x2=\"-5\" y1=\"0\" y2=\"0\"/><g transform=\"translate(-6,0)\"><text class=\"lab\" text-anchor=\"end\">62.12</text></g></g><g class=\"tick\" transform=\"translate(56.8 26.8)\"><line x1=\"0\" x2=\"-5\" y1=\"0\" y2=\"0\"/><g transform=\"translate(-6,0)\"><text class=\"lab\" text-anchor=\"end\">232.82</text></g></g></g></g></g><g class=\"plotbox trees\"><g class=\"tree t0\" transform=\"translate(56.8 0)\"><g class=\"plotbox\"><g class=\"c2 node n2 p0 root\" transform=\"translate(87.2 114.561)\"><g class=\"a2 i0 leaf node n0 p0 sample\" transform=\"translate(-33.6 6.83891)\"><path class=\"edge\" d=\"M 0 0 V -6.83891 H 33.6\"/><rect class=\"sym\" height=\"6\" width=\"6\" x=\"-3\" y=\"-3\"/><text class=\"lab\" transform=\"translate(0 11)\">0</text></g><g class=\"a2 i0 leaf node n1 p0 sample\" transform=\"translate(33.6 6.83891)\"><path class=\"edge\" d=\"M 0 0 V -6.83891 H -33.6\"/><rect class=\"sym\" height=\"6\" width=\"6\" x=\"-3\" y=\"-3\"/><text class=\"lab\" transform=\"translate(0 11)\">1</text></g><circle class=\"sym\" cx=\"0\" cy=\"0\" r=\"3\"/><text class=\"lab\" transform=\"translate(0 -11)\">2</text></g></g></g><g class=\"tree t1\" transform=\"translate(231.2 0)\"><g class=\"plotbox\"><g class=\"c2 node n3 p0 root\" transform=\"translate(87.2 96.1579)\"><g class=\"a3 i0 leaf node n0 p0 sample\" transform=\"translate(-33.6 25.2421)\"><path class=\"edge\" d=\"M 0 0 V -25.2421 H 33.6\"/><rect class=\"sym\" height=\"6\" width=\"6\" x=\"-3\" y=\"-3\"/><text class=\"lab\" transform=\"translate(0 11)\">0</text></g><g class=\"a3 i0 leaf node n1 p0 sample\" transform=\"translate(33.6 25.2421)\"><path class=\"edge\" d=\"M 0 0 V -25.2421 H -33.6\"/><rect class=\"sym\" height=\"6\" width=\"6\" x=\"-3\" y=\"-3\"/><text class=\"lab\" transform=\"translate(0 11)\">1</text></g><circle class=\"sym\" cx=\"0\" cy=\"0\" r=\"3\"/><text class=\"lab\" transform=\"translate(0 -11)\">3</text></g></g></g><g class=\"tree t2\" transform=\"translate(405.6 0)\"><g class=\"plotbox\"><g class=\"c2 node n4 p0 root\" transform=\"translate(87.2 26.8)\"><g class=\"a4 i0 leaf m0 m1 m3 m5 m6 node n0 p0 s0 s1 s3 s5 s6 sample\" transform=\"translate(-33.6 94.6)\"><path class=\"edge\" d=\"M 0 0 V -94.6 H 33.6\"/><g class=\"mut m0 s0\" transform=\"translate(0 -77.5078)\"><line x1=\"0\" x2=\"0\" y1=\"0\" y2=\"77.5078\"/><path class=\"sym\" d=\"M -3,-3 l 6,6 M -3,3 l 6,-6\"/><text class=\"lab lft\" transform=\"translate(-5 0)\">0</text></g><g class=\"mut m5 s5\" transform=\"translate(0 -65.3483)\"><line x1=\"0\" x2=\"0\" y1=\"0\" y2=\"65.3483\"/><path class=\"sym\" d=\"M -3,-3 l 6,6 M -3,3 l 6,-6\"/><text class=\"lab lft\" transform=\"translate(-5 0)\">5</text></g><g class=\"mut m3 s3\" transform=\"translate(0 -38.3505)\"><line x1=\"0\" x2=\"0\" y1=\"0\" y2=\"38.3505\"/><path class=\"sym\" d=\"M -3,-3 l 6,6 M -3,3 l 6,-6\"/><text class=\"lab lft\" transform=\"translate(-5 0)\">3</text></g><g class=\"mut m1 s1\" transform=\"translate(0 -5.5096)\"><line x1=\"0\" x2=\"0\" y1=\"0\" y2=\"5.5096\"/><path class=\"sym\" d=\"M -3,-3 l 6,6 M -3,3 l 6,-6\"/><text class=\"lab lft\" transform=\"translate(-5 0)\">1</text></g><g class=\"mut m6 s6\" transform=\"translate(0 -2.01425)\"><line x1=\"0\" x2=\"0\" y1=\"0\" y2=\"2.01425\"/><path class=\"sym\" d=\"M -3,-3 l 6,6 M -3,3 l 6,-6\"/><text class=\"lab lft\" transform=\"translate(-5 0)\">6</text></g><rect class=\"sym\" height=\"6\" width=\"6\" x=\"-3\" y=\"-3\"/><text class=\"lab\" transform=\"translate(0 11)\">0</text></g><g class=\"a4 i0 leaf m2 m4 node n1 p0 s2 s4 sample\" transform=\"translate(33.6 94.6)\"><path class=\"edge\" d=\"M 0 0 V -94.6 H -33.6\"/><g class=\"mut m4 s4\" transform=\"translate(0 -91.0279)\"><line x1=\"0\" x2=\"0\" y1=\"0\" y2=\"91.0279\"/><path class=\"sym\" d=\"M -3,-3 l 6,6 M -3,3 l 6,-6\"/><text class=\"lab rgt\" transform=\"translate(5 0)\">4</text></g><g class=\"mut m2 s2\" transform=\"translate(0 -51.2358)\"><line x1=\"0\" x2=\"0\" y1=\"0\" y2=\"51.2358\"/><path class=\"sym\" d=\"M -3,-3 l 6,6 M -3,3 l 6,-6\"/><text class=\"lab rgt\" transform=\"translate(5 0)\">2</text></g><rect class=\"sym\" height=\"6\" width=\"6\" x=\"-3\" y=\"-3\"/><text class=\"lab\" transform=\"translate(0 11)\">1</text></g><circle class=\"sym\" cx=\"0\" cy=\"0\" r=\"3\"/><text class=\"lab\" transform=\"translate(0 -11)\">4</text></g></g></g></g></g></svg>"
      ],
      "text/plain": [
       "<IPython.core.display.SVG object>"
      ]
     },
     "execution_count": 35,
     "metadata": {},
     "output_type": "execute_result"
    }
   ],
   "source": [
    "SVG(simplified_mts.draw_svg(y_axis=True))"
   ]
  },
  {
   "cell_type": "markdown",
   "id": "f545bb9a",
   "metadata": {},
   "source": [
    "# Extensions to standard coalescent"
   ]
  },
  {
   "cell_type": "markdown",
   "id": "7a400cb5",
   "metadata": {},
   "source": [
    "## Rate heterogeneity"
   ]
  },
  {
   "cell_type": "code",
   "execution_count": 105,
   "id": "de0d3f29",
   "metadata": {},
   "outputs": [
    {
     "data": {
      "text/html": [
       "<div><style scoped=\"\">\n",
       "            .tskit-table thead tr th:only-of-type {vertical-align: middle;}\n",
       "            .tskit-table thead tr th {text-align: center;vertical-align: top;}\n",
       "            .tskit-table tbody td {text-align: right;padding: 0.5em 0.5em;}\n",
       "            .tskit-table tbody th {padding: 0.5em 0.5em;}\n",
       "        </style><b></b><table border=\"1\" class=\"tskit-table\"><thead><tr><th>left</th><th>right</th><th>mid</th><th>span</th><th>rate</th></tr></thead><tbody><tr><td>0</td><td>5000</td><td>2500</td><td>5000</td><td>0.00</td></tr><tr><td>5000</td><td>10000</td><td>7500</td><td>5000</td><td>0.00</td></tr></tbody></table></div>"
      ],
      "text/plain": [
       "RateMap(position=array([    0.,  5000., 10000.]), rate=array([0.e+00, 2.e-06]))"
      ]
     },
     "execution_count": 105,
     "metadata": {},
     "output_type": "execute_result"
    }
   ],
   "source": [
    "rate_map = msprime.RateMap(position=[0, 5000, 10000], rate=[0, 2e-6])\n",
    "rate_map"
   ]
  },
  {
   "cell_type": "code",
   "execution_count": 90,
   "id": "50f8ac31",
   "metadata": {},
   "outputs": [],
   "source": [
    "ts = msprime.sim_ancestry(samples=2, population_size=100, sequence_length = 1e4, recombination_rate=rate_map, random_seed = 1234)"
   ]
  },
  {
   "cell_type": "code",
   "execution_count": 91,
   "id": "35e41607",
   "metadata": {},
   "outputs": [
    {
     "data": {
      "image/svg+xml": [
       "<svg xmlns=\"http://www.w3.org/2000/svg\" xmlns:ev=\"http://www.w3.org/2001/xml-events\" xmlns:xlink=\"http://www.w3.org/1999/xlink\" baseProfile=\"full\" height=\"200\" version=\"1.1\" width=\"800\"><defs><style type=\"text/css\"><![CDATA[.background path {fill: #808080; fill-opacity: 0}.background path:nth-child(odd) {fill-opacity: .1}.axes {font-size: 14px}.x-axis .tick .lab {font-weight: bold; dominant-baseline: hanging}.axes, .tree {font-size: 14px; text-anchor: middle}.axes line, .edge {stroke: black; fill: none}.y-axis .grid {stroke: #FAFAFA}.node > .sym {fill: black; stroke: none}.site > .sym {stroke: black}.mut text {fill: red; font-style: italic}.mut.extra text {fill: hotpink}.mut line {fill: none; stroke: none}.mut .sym {fill: none; stroke: red}.mut.extra .sym {stroke: hotpink}.node .mut .sym {stroke-width: 1.5px}.tree text, .tree-sequence text {dominant-baseline: central}.plotbox .lab.lft {text-anchor: end}.plotbox .lab.rgt {text-anchor: start}]]></style></defs><g class=\"tree-sequence\"><g class=\"background\"><path d=\"M20,0 l190,0 l0,138.2 l335.54,25 l0,5 l-525.54,0 l0,-5 l0,-25 l0,-138.2z\"/><path d=\"M210,0 l190,0 l0,138.2 l185.592,25 l0,5 l-40.052,0 l0,-5 l-335.54,-25 l0,-138.2z\"/><path d=\"M400,0 l190,0 l0,138.2 l4.028,25 l0,5 l-8.436,0 l0,-5 l-185.592,-25 l0,-138.2z\"/><path d=\"M590,0 l190,0 l0,138.2 l0,25 l0,5 l-185.972,0 l0,-5 l-4.028,-25 l0,-138.2z\"/></g><g class=\"axes\"><g class=\"x-axis\"><g transform=\"translate(400,200)\"><text class=\"lab\" text-anchor=\"middle\" transform=\"translate(0 -11)\">Genome position</text></g><line x1=\"20\" x2=\"780\" y1=\"163.2\" y2=\"163.2\"/><g class=\"ticks\"><g class=\"tick\" transform=\"translate(20 163.2)\"><line x1=\"0\" x2=\"0\" y1=\"0\" y2=\"5\"/><g transform=\"translate(0,6)\"><text class=\"lab\">0</text></g></g><g class=\"tick\" transform=\"translate(545.54 163.2)\"><line x1=\"0\" x2=\"0\" y1=\"0\" y2=\"5\"/><g transform=\"translate(0,6)\"><text class=\"lab\">6915</text></g></g><g class=\"tick\" transform=\"translate(585.592 163.2)\"><line x1=\"0\" x2=\"0\" y1=\"0\" y2=\"5\"/><g transform=\"translate(0,6)\"><text class=\"lab\">7442</text></g></g><g class=\"tick\" transform=\"translate(594.028 163.2)\"><line x1=\"0\" x2=\"0\" y1=\"0\" y2=\"5\"/><g transform=\"translate(0,6)\"><text class=\"lab\">7553</text></g></g><g class=\"tick\" transform=\"translate(780 163.2)\"><line x1=\"0\" x2=\"0\" y1=\"0\" y2=\"5\"/><g transform=\"translate(0,6)\"><text class=\"lab\">10000</text></g></g></g></g></g><g class=\"plotbox trees\"><g class=\"tree t0\" transform=\"translate(20 0)\"><g class=\"plotbox\"><g class=\"c2 node n7 p0 root\" transform=\"translate(95 70.5533)\"><g class=\"a7 c2 node n4 p0\" transform=\"translate(-37.5 44.0077)\"><g class=\"a4 i0 leaf node n0 p0 sample\" transform=\"translate(-18.75 6.83891)\"><path class=\"edge\" d=\"M 0 0 V -6.83891 H 18.75\"/><rect class=\"sym\" height=\"6\" width=\"6\" x=\"-3\" y=\"-3\"/><text class=\"lab\" transform=\"translate(0 11)\">0</text></g><g class=\"a4 i0 leaf node n1 p0 sample\" transform=\"translate(18.75 6.83891)\"><path class=\"edge\" d=\"M 0 0 V -6.83891 H -18.75\"/><rect class=\"sym\" height=\"6\" width=\"6\" x=\"-3\" y=\"-3\"/><text class=\"lab\" transform=\"translate(0 11)\">1</text></g><path class=\"edge\" d=\"M 0 0 V -44.0077 H 37.5\"/><circle class=\"sym\" cx=\"0\" cy=\"0\" r=\"3\"/><text class=\"lab lft\" transform=\"translate(-3 -7.0)\">4</text></g><g class=\"a7 c2 node n6 p0\" transform=\"translate(37.5 4.66776)\"><g class=\"a6 i1 leaf node n2 p0 sample\" transform=\"translate(-18.75 46.1789)\"><path class=\"edge\" d=\"M 0 0 V -46.1789 H 18.75\"/><rect class=\"sym\" height=\"6\" width=\"6\" x=\"-3\" y=\"-3\"/><text class=\"lab\" transform=\"translate(0 11)\">2</text></g><g class=\"a6 i1 leaf node n3 p0 sample\" transform=\"translate(18.75 46.1789)\"><path class=\"edge\" d=\"M 0 0 V -46.1789 H -18.75\"/><rect class=\"sym\" height=\"6\" width=\"6\" x=\"-3\" y=\"-3\"/><text class=\"lab\" transform=\"translate(0 11)\">3</text></g><path class=\"edge\" d=\"M 0 0 V -4.66776 H -37.5\"/><circle class=\"sym\" cx=\"0\" cy=\"0\" r=\"3\"/><text class=\"lab rgt\" transform=\"translate(3 -7.0)\">6</text></g><circle class=\"sym\" cx=\"0\" cy=\"0\" r=\"3\"/><text class=\"lab\" transform=\"translate(0 -11)\">7</text></g></g></g><g class=\"tree t1\" transform=\"translate(210 0)\"><g class=\"plotbox\"><g class=\"c2 node n8 p0 root\" transform=\"translate(95 54.7172)\"><g class=\"a8 c2 node n4 p0\" transform=\"translate(-37.5 59.8439)\"><g class=\"a4 i0 leaf node n0 p0 sample\" transform=\"translate(-18.75 6.83891)\"><path class=\"edge\" d=\"M 0 0 V -6.83891 H 18.75\"/><rect class=\"sym\" height=\"6\" width=\"6\" x=\"-3\" y=\"-3\"/><text class=\"lab\" transform=\"translate(0 11)\">0</text></g><g class=\"a4 i0 leaf node n1 p0 sample\" transform=\"translate(18.75 6.83891)\"><path class=\"edge\" d=\"M 0 0 V -6.83891 H -18.75\"/><rect class=\"sym\" height=\"6\" width=\"6\" x=\"-3\" y=\"-3\"/><text class=\"lab\" transform=\"translate(0 11)\">1</text></g><path class=\"edge\" d=\"M 0 0 V -59.8439 H 37.5\"/><circle class=\"sym\" cx=\"0\" cy=\"0\" r=\"3\"/><text class=\"lab lft\" transform=\"translate(-3 -7.0)\">4</text></g><g class=\"a8 c2 node n6 p0\" transform=\"translate(37.5 20.5039)\"><g class=\"a6 i1 leaf node n2 p0 sample\" transform=\"translate(-18.75 46.1789)\"><path class=\"edge\" d=\"M 0 0 V -46.1789 H 18.75\"/><rect class=\"sym\" height=\"6\" width=\"6\" x=\"-3\" y=\"-3\"/><text class=\"lab\" transform=\"translate(0 11)\">2</text></g><g class=\"a6 i1 leaf node n3 p0 sample\" transform=\"translate(18.75 46.1789)\"><path class=\"edge\" d=\"M 0 0 V -46.1789 H -18.75\"/><rect class=\"sym\" height=\"6\" width=\"6\" x=\"-3\" y=\"-3\"/><text class=\"lab\" transform=\"translate(0 11)\">3</text></g><path class=\"edge\" d=\"M 0 0 V -20.5039 H -37.5\"/><circle class=\"sym\" cx=\"0\" cy=\"0\" r=\"3\"/><text class=\"lab rgt\" transform=\"translate(3 -7.0)\">6</text></g><circle class=\"sym\" cx=\"0\" cy=\"0\" r=\"3\"/><text class=\"lab\" transform=\"translate(0 -11)\">8</text></g></g></g><g class=\"tree t2\" transform=\"translate(400 0)\"><g class=\"plotbox\"><g class=\"c2 node n8 p0 root\" transform=\"translate(95 54.7172)\"><g class=\"a8 c2 node n6 p0\" transform=\"translate(37.5 20.5039)\"><g class=\"a6 i1 leaf node n2 p0 sample\" transform=\"translate(-18.75 46.1789)\"><path class=\"edge\" d=\"M 0 0 V -46.1789 H 18.75\"/><rect class=\"sym\" height=\"6\" width=\"6\" x=\"-3\" y=\"-3\"/><text class=\"lab\" transform=\"translate(0 11)\">2</text></g><g class=\"a6 i1 leaf node n3 p0 sample\" transform=\"translate(18.75 46.1789)\"><path class=\"edge\" d=\"M 0 0 V -46.1789 H -18.75\"/><rect class=\"sym\" height=\"6\" width=\"6\" x=\"-3\" y=\"-3\"/><text class=\"lab\" transform=\"translate(0 11)\">3</text></g><path class=\"edge\" d=\"M 0 0 V -20.5039 H -37.5\"/><circle class=\"sym\" cx=\"0\" cy=\"0\" r=\"3\"/><text class=\"lab rgt\" transform=\"translate(3 -7.0)\">6</text></g><g class=\"a8 c2 node n5 p0\" transform=\"translate(-37.5 41.4411)\"><g class=\"a5 i0 leaf node n0 p0 sample\" transform=\"translate(-18.75 25.2417)\"><path class=\"edge\" d=\"M 0 0 V -25.2417 H 18.75\"/><rect class=\"sym\" height=\"6\" width=\"6\" x=\"-3\" y=\"-3\"/><text class=\"lab\" transform=\"translate(0 11)\">0</text></g><g class=\"a5 i0 leaf node n1 p0 sample\" transform=\"translate(18.75 25.2417)\"><path class=\"edge\" d=\"M 0 0 V -25.2417 H -18.75\"/><rect class=\"sym\" height=\"6\" width=\"6\" x=\"-3\" y=\"-3\"/><text class=\"lab\" transform=\"translate(0 11)\">1</text></g><path class=\"edge\" d=\"M 0 0 V -41.4411 H 37.5\"/><circle class=\"sym\" cx=\"0\" cy=\"0\" r=\"3\"/><text class=\"lab lft\" transform=\"translate(-3 -7.0)\">5</text></g><circle class=\"sym\" cx=\"0\" cy=\"0\" r=\"3\"/><text class=\"lab\" transform=\"translate(0 -11)\">8</text></g></g></g><g class=\"tree t3\" transform=\"translate(590 0)\"><g class=\"plotbox\"><g class=\"c2 node n9 p0 root\" transform=\"translate(71.5625 26.8)\"><g class=\"a9 i0 leaf node n0 p0 sample\" transform=\"translate(-32.8125 94.6)\"><path class=\"edge\" d=\"M 0 0 V -94.6 H 32.8125\"/><rect class=\"sym\" height=\"6\" width=\"6\" x=\"-3\" y=\"-3\"/><text class=\"lab\" transform=\"translate(0 11)\">0</text></g><g class=\"a9 c2 node n8 p0\" transform=\"translate(32.8125 27.9172)\"><g class=\"a8 c2 node n6 p0\" transform=\"translate(28.125 20.5039)\"><g class=\"a6 i1 leaf node n2 p0 sample\" transform=\"translate(-18.75 46.1789)\"><path class=\"edge\" d=\"M 0 0 V -46.1789 H 18.75\"/><rect class=\"sym\" height=\"6\" width=\"6\" x=\"-3\" y=\"-3\"/><text class=\"lab\" transform=\"translate(0 11)\">2</text></g><g class=\"a6 i1 leaf node n3 p0 sample\" transform=\"translate(18.75 46.1789)\"><path class=\"edge\" d=\"M 0 0 V -46.1789 H -18.75\"/><rect class=\"sym\" height=\"6\" width=\"6\" x=\"-3\" y=\"-3\"/><text class=\"lab\" transform=\"translate(0 11)\">3</text></g><path class=\"edge\" d=\"M 0 0 V -20.5039 H -28.125\"/><circle class=\"sym\" cx=\"0\" cy=\"0\" r=\"3\"/><text class=\"lab rgt\" transform=\"translate(3 -7.0)\">6</text></g><g class=\"a8 i0 leaf node n1 p0 sample\" transform=\"translate(-28.125 66.6828)\"><path class=\"edge\" d=\"M 0 0 V -66.6828 H 28.125\"/><rect class=\"sym\" height=\"6\" width=\"6\" x=\"-3\" y=\"-3\"/><text class=\"lab\" transform=\"translate(0 11)\">1</text></g><path class=\"edge\" d=\"M 0 0 V -27.9172 H -32.8125\"/><circle class=\"sym\" cx=\"0\" cy=\"0\" r=\"3\"/><text class=\"lab rgt\" transform=\"translate(3 -7.0)\">8</text></g><circle class=\"sym\" cx=\"0\" cy=\"0\" r=\"3\"/><text class=\"lab\" transform=\"translate(0 -11)\">9</text></g></g></g></g></g></svg>"
      ],
      "text/plain": [
       "<IPython.core.display.SVG object>"
      ]
     },
     "execution_count": 91,
     "metadata": {},
     "output_type": "execute_result"
    }
   ],
   "source": [
    "SVG(ts.draw_svg(y_axis=False))"
   ]
  },
  {
   "cell_type": "markdown",
   "id": "fe6d09a8",
   "metadata": {},
   "source": [
    "## Mutation models"
   ]
  },
  {
   "cell_type": "code",
   "execution_count": 94,
   "id": "23fd78cc",
   "metadata": {},
   "outputs": [],
   "source": [
    "model = msprime.JC69()\n",
    "mts = msprime.sim_mutations(ts, rate = 2e-6, model = model, random_seed = 5678)"
   ]
  },
  {
   "cell_type": "code",
   "execution_count": 95,
   "id": "96440c58",
   "metadata": {
    "scrolled": true
   },
   "outputs": [
    {
     "name": "stdout",
     "output_type": "stream",
     "text": [
      "Variant(site=Site(id=0, position=714.0, ancestral_state='A', mutations=[Mutation(id=0, site=0, node=3, derived_state='T', parent=-1, metadata=b'', time=68.25016156236117)], metadata=b''), alleles=('A', 'T'), genotypes=array([0, 0, 0, 1], dtype=int8))\n",
      "Variant(site=Site(id=1, position=1786.0, ancestral_state='T', mutations=[Mutation(id=1, site=1, node=2, derived_state='A', parent=-1, metadata=b'', time=79.27543024570147)], metadata=b''), alleles=('T', 'A'), genotypes=array([0, 0, 1, 0], dtype=int8))\n",
      "Variant(site=Site(id=2, position=1946.0, ancestral_state='A', mutations=[Mutation(id=2, site=2, node=6, derived_state='C', parent=-1, metadata=b'', time=122.10487666342334)], metadata=b''), alleles=('A', 'C'), genotypes=array([0, 0, 1, 1], dtype=int8))\n",
      "Variant(site=Site(id=3, position=4306.0, ancestral_state='C', mutations=[Mutation(id=3, site=3, node=2, derived_state='G', parent=-1, metadata=b'', time=102.56540921302496)], metadata=b''), alleles=('C', 'G'), genotypes=array([0, 0, 1, 0], dtype=int8))\n",
      "Variant(site=Site(id=4, position=5982.0, ancestral_state='T', mutations=[Mutation(id=4, site=4, node=2, derived_state='C', parent=-1, metadata=b'', time=95.61316426426593)], metadata=b''), alleles=('T', 'C'), genotypes=array([0, 0, 1, 0], dtype=int8))\n",
      "Variant(site=Site(id=5, position=7926.0, ancestral_state='T', mutations=[Mutation(id=5, site=5, node=1, derived_state='G', parent=-1, metadata=b'', time=126.08816531269409)], metadata=b''), alleles=('T', 'G'), genotypes=array([0, 1, 0, 0], dtype=int8))\n",
      "Variant(site=Site(id=6, position=9206.0, ancestral_state='A', mutations=[Mutation(id=6, site=6, node=0, derived_state='C', parent=-1, metadata=b'', time=183.60210513371226)], metadata=b''), alleles=('A', 'C'), genotypes=array([1, 0, 0, 0], dtype=int8))\n",
      "Variant(site=Site(id=7, position=9971.0, ancestral_state='C', mutations=[Mutation(id=7, site=7, node=0, derived_state='G', parent=-1, metadata=b'', time=97.05225292158964)], metadata=b''), alleles=('C', 'G'), genotypes=array([1, 0, 0, 0], dtype=int8))\n"
     ]
    }
   ],
   "source": [
    "for v in mts.variants():\n",
    "    print(v)"
   ]
  },
  {
   "cell_type": "code",
   "execution_count": 96,
   "id": "3c66647e",
   "metadata": {},
   "outputs": [],
   "source": [
    "model = msprime.BinaryMutationModel()\n",
    "mts = msprime.sim_mutations(ts, rate = 2e-6, model = model, random_seed = 5678)"
   ]
  },
  {
   "cell_type": "code",
   "execution_count": 97,
   "id": "b8e5ed6a",
   "metadata": {
    "scrolled": true
   },
   "outputs": [
    {
     "name": "stdout",
     "output_type": "stream",
     "text": [
      "Variant(site=Site(id=0, position=714.0, ancestral_state='0', mutations=[Mutation(id=0, site=0, node=3, derived_state='1', parent=-1, metadata=b'', time=68.25016156236117)], metadata=b''), alleles=('0', '1'), genotypes=array([0, 0, 0, 1], dtype=int8))\n",
      "Variant(site=Site(id=1, position=1786.0, ancestral_state='0', mutations=[Mutation(id=1, site=1, node=2, derived_state='1', parent=-1, metadata=b'', time=79.27543024570147)], metadata=b''), alleles=('0', '1'), genotypes=array([0, 0, 1, 0], dtype=int8))\n",
      "Variant(site=Site(id=2, position=1946.0, ancestral_state='0', mutations=[Mutation(id=2, site=2, node=6, derived_state='1', parent=-1, metadata=b'', time=122.10487666342334)], metadata=b''), alleles=('0', '1'), genotypes=array([0, 0, 1, 1], dtype=int8))\n",
      "Variant(site=Site(id=3, position=4306.0, ancestral_state='0', mutations=[Mutation(id=3, site=3, node=2, derived_state='1', parent=-1, metadata=b'', time=102.56540921302496)], metadata=b''), alleles=('0', '1'), genotypes=array([0, 0, 1, 0], dtype=int8))\n",
      "Variant(site=Site(id=4, position=5982.0, ancestral_state='0', mutations=[Mutation(id=4, site=4, node=2, derived_state='1', parent=-1, metadata=b'', time=95.61316426426593)], metadata=b''), alleles=('0', '1'), genotypes=array([0, 0, 1, 0], dtype=int8))\n",
      "Variant(site=Site(id=5, position=7926.0, ancestral_state='0', mutations=[Mutation(id=5, site=5, node=1, derived_state='1', parent=-1, metadata=b'', time=126.08816531269409)], metadata=b''), alleles=('0', '1'), genotypes=array([0, 1, 0, 0], dtype=int8))\n",
      "Variant(site=Site(id=6, position=9206.0, ancestral_state='0', mutations=[Mutation(id=6, site=6, node=0, derived_state='1', parent=-1, metadata=b'', time=183.60210513371226)], metadata=b''), alleles=('0', '1'), genotypes=array([1, 0, 0, 0], dtype=int8))\n",
      "Variant(site=Site(id=7, position=9971.0, ancestral_state='0', mutations=[Mutation(id=7, site=7, node=0, derived_state='1', parent=-1, metadata=b'', time=97.05225292158964)], metadata=b''), alleles=('0', '1'), genotypes=array([1, 0, 0, 0], dtype=int8))\n"
     ]
    }
   ],
   "source": [
    "for v in mts.variants():\n",
    "    print(v)"
   ]
  },
  {
   "cell_type": "markdown",
   "id": "9d88d5b8",
   "metadata": {},
   "source": [
    "## Demography models"
   ]
  },
  {
   "cell_type": "markdown",
   "id": "2fd90645",
   "metadata": {},
   "source": [
    "### Population splits"
   ]
  },
  {
   "cell_type": "code",
   "execution_count": 69,
   "id": "1f0fde3a",
   "metadata": {},
   "outputs": [],
   "source": [
    "demography = msprime.Demography()\n",
    "demography.add_population(name=\"A\", initial_size=1000)\n",
    "demography.add_population(name=\"B\", initial_size=1000)\n",
    "demography.add_population(name=\"C\", initial_size=1000)\n",
    "demography.add_population_split(time=20000, derived=[\"A\", \"B\"], ancestral=\"C\")\n",
    "ts = msprime.sim_ancestry(samples={\"A\": 2, \"B\": 2}, demography=demography, random_seed=1234)"
   ]
  },
  {
   "cell_type": "code",
   "execution_count": 110,
   "id": "a10cc0c4",
   "metadata": {},
   "outputs": [
    {
     "data": {
      "text/html": [
       "<div style=\"margin-left:20px\"><div><style scoped=\"\">\n",
       "            .tskit-table thead tr th:only-of-type {vertical-align: middle;}\n",
       "            .tskit-table thead tr th {text-align: center;vertical-align: top;}\n",
       "            .tskit-table tbody td {text-align: right;padding: 0.5em 0.5em;}\n",
       "            .tskit-table tbody th {padding: 0.5em 0.5em;}\n",
       "        </style><b>Populations (3)</b><table border=\"1\" class=\"tskit-table\"><thead><tr><th>id</th><th>name</th><th>description</th><th>initial_size</th><th>growth_rate</th><th>default_sampling_time</th><th>extra_metadata</th></tr></thead><tbody><tr><td>0</td><td>A</td><td></td><td>1000.0</td><td>0</td><td>0</td><td>{}</td></tr><tr><td>1</td><td>B</td><td></td><td>1000.0</td><td>0</td><td>0</td><td>{}</td></tr><tr><td>2</td><td>C</td><td></td><td>1000.0</td><td>0</td><td>2e+04</td><td>{}</td></tr></tbody></table></div><div><style scoped=\"\">\n",
       "            .tskit-table thead tr th:only-of-type {vertical-align: middle;}\n",
       "            .tskit-table thead tr th {text-align: center;vertical-align: top;}\n",
       "            .tskit-table tbody td {text-align: right;padding: 0.5em 0.5em;}\n",
       "            .tskit-table tbody th {padding: 0.5em 0.5em;}\n",
       "        </style><b>Migration matrix (all zero)</b><table border=\"1\" class=\"tskit-table\"><thead><tr></tr></thead><tbody></tbody></table></div><div><style scoped=\"\">\n",
       "            .tskit-table thead tr th:only-of-type {vertical-align: middle;}\n",
       "            .tskit-table thead tr th {text-align: center;vertical-align: top;}\n",
       "            .tskit-table tbody td {text-align: right;padding: 0.5em 0.5em;}\n",
       "            .tskit-table tbody th {padding: 0.5em 0.5em;}\n",
       "        </style><b>Events (1)</b><table border=\"1\" class=\"tskit-table\"><thead><tr><th>time</th><th>type</th><th>parameters</th><th>effect</th></tr></thead><tbody><tr><td>2e+04</td><td><a href='https://tskit.dev/msprime/docs/latest/api.html#msprime.Demography.add_population_split'>Population Split</a></td><td>derived=[A, B], ancestral=C</td><td>Moves all lineages from derived populations &#x27;A&#x27; and &#x27;B&#x27; to the ancestral &#x27;C&#x27; population. Also set the derived populations to inactive, and all migration rates to and from the derived populations to zero.</td></tr></tbody></table></div></div>"
      ],
      "text/plain": [
       "Demography(populations=[Population(initial_size=1000, growth_rate=0, name='A', description='', extra_metadata={}, default_sampling_time=None, initially_active=None, id=0), Population(initial_size=1000, growth_rate=0, name='B', description='', extra_metadata={}, default_sampling_time=None, initially_active=None, id=1), Population(initial_size=1000, growth_rate=0, name='C', description='', extra_metadata={}, default_sampling_time=20000, initially_active=False, id=2)], events=[PopulationSplit(time=20000, derived=['A', 'B'], ancestral='C')], migration_matrix=array([[0., 0., 0.],\n",
       "       [0., 0., 0.],\n",
       "       [0., 0., 0.]]))"
      ]
     },
     "execution_count": 110,
     "metadata": {},
     "output_type": "execute_result"
    }
   ],
   "source": [
    "demography"
   ]
  },
  {
   "cell_type": "code",
   "execution_count": 70,
   "id": "036b03ec",
   "metadata": {},
   "outputs": [
    {
     "data": {
      "image/svg+xml": [
       "<svg xmlns=\"http://www.w3.org/2000/svg\" xmlns:ev=\"http://www.w3.org/2001/xml-events\" xmlns:xlink=\"http://www.w3.org/1999/xlink\" baseProfile=\"full\" height=\"200\" version=\"1.1\" width=\"200\"><defs><style type=\"text/css\"><![CDATA[.background path {fill: #808080; fill-opacity: 0}.background path:nth-child(odd) {fill-opacity: .1}.axes {font-size: 14px}.x-axis .tick .lab {font-weight: bold; dominant-baseline: hanging}.axes, .tree {font-size: 14px; text-anchor: middle}.axes line, .edge {stroke: black; fill: none}.y-axis .grid {stroke: #FAFAFA}.node > .sym {fill: black; stroke: none}.site > .sym {stroke: black}.mut text {fill: red; font-style: italic}.mut.extra text {fill: hotpink}.mut line {fill: none; stroke: none}.mut .sym {fill: none; stroke: red}.mut.extra .sym {stroke: hotpink}.node .mut .sym {stroke-width: 1.5px}.tree text, .tree-sequence text {dominant-baseline: central}.plotbox .lab.lft {text-anchor: end}.plotbox .lab.rgt {text-anchor: start}]]></style></defs><g class=\"tree-sequence\"><g class=\"background\"><path d=\"M56.8,0 l123.2,0 l0,138.2 l0,25 l0,5 l-123.2,0 l0,-5 l0,-25 l0,-138.2z\"/></g><g class=\"axes\"><g class=\"x-axis\"><g transform=\"translate(118.4,200)\"><text class=\"lab\" text-anchor=\"middle\" transform=\"translate(0 -11)\">Genome position</text></g><line x1=\"56.8\" x2=\"180\" y1=\"163.2\" y2=\"163.2\"/><g class=\"ticks\"><g class=\"tick\" transform=\"translate(56.8 163.2)\"><line x1=\"0\" x2=\"0\" y1=\"0\" y2=\"5\"/><g transform=\"translate(0,6)\"><text class=\"lab\">0</text></g></g><g class=\"tick\" transform=\"translate(180 163.2)\"><line x1=\"0\" x2=\"0\" y1=\"0\" y2=\"5\"/><g transform=\"translate(0,6)\"><text class=\"lab\">1</text></g></g></g></g><g class=\"y-axis\"><g transform=\"translate(0,65.7)\"><text class=\"lab\" text-anchor=\"middle\" transform=\"translate(11) rotate(-90)\">Time</text></g><line x1=\"56.8\" x2=\"56.8\" y1=\"121.4\" y2=\"10\"/><g class=\"ticks\"><g class=\"tick\" transform=\"translate(56.8 121.4)\"><line x1=\"0\" x2=\"-5\" y1=\"0\" y2=\"0\"/><g transform=\"translate(-6,0)\"><text class=\"lab\" text-anchor=\"end\">0.00</text></g></g><g class=\"tick\" transform=\"translate(56.8 121.078)\"><line x1=\"0\" x2=\"-5\" y1=\"0\" y2=\"0\"/><g transform=\"translate(-6,0)\"><text class=\"lab\" text-anchor=\"end\">70.87</text></g></g><g class=\"tick\" transform=\"translate(56.8 119.642)\"><line x1=\"0\" x2=\"-5\" y1=\"0\" y2=\"0\"/><g transform=\"translate(-6,0)\"><text class=\"lab\" text-anchor=\"end\">386.55</text></g></g><g class=\"tick\" transform=\"translate(56.8 115.053)\"><line x1=\"0\" x2=\"-5\" y1=\"0\" y2=\"0\"/><g transform=\"translate(-6,0)\"><text class=\"lab\" text-anchor=\"end\">1395.89</text></g></g><g class=\"tick\" transform=\"translate(56.8 114.382)\"><line x1=\"0\" x2=\"-5\" y1=\"0\" y2=\"0\"/><g transform=\"translate(-6,0)\"><text class=\"lab\" text-anchor=\"end\">1543.42</text></g></g><g class=\"tick\" transform=\"translate(56.8 112.809)\"><line x1=\"0\" x2=\"-5\" y1=\"0\" y2=\"0\"/><g transform=\"translate(-6,0)\"><text class=\"lab\" text-anchor=\"end\">1889.31</text></g></g><g class=\"tick\" transform=\"translate(56.8 108.781)\"><line x1=\"0\" x2=\"-5\" y1=\"0\" y2=\"0\"/><g transform=\"translate(-6,0)\"><text class=\"lab\" text-anchor=\"end\">2775.07</text></g></g><g class=\"tick\" transform=\"translate(56.8 26.8)\"><line x1=\"0\" x2=\"-5\" y1=\"0\" y2=\"0\"/><g transform=\"translate(-6,0)\"><text class=\"lab\" text-anchor=\"end\">20803.99</text></g></g></g></g></g><g class=\"plotbox trees\"><g class=\"tree t0\" transform=\"translate(56.8 0)\"><g class=\"plotbox\"><g class=\"c2 node n14 p2 root\" transform=\"translate(66.8 26.8)\"><g class=\"a14 c2 node n12 p1\" transform=\"translate(22.1 86.0089)\"><g class=\"a12 i3 leaf node n6 p1 sample\" transform=\"translate(9.1 8.59107)\"><path class=\"edge\" d=\"M 0 0 V -8.59107 H -9.1\"/><rect class=\"sym\" height=\"6\" width=\"6\" x=\"-3\" y=\"-3\"/><text class=\"lab\" transform=\"translate(0 11)\">6</text></g><g class=\"a12 c2 node n11 p1\" transform=\"translate(-9.1 1.57282)\"><g class=\"a11 i2 leaf node n5 p1 sample\" transform=\"translate(7.8 7.01825)\"><path class=\"edge\" d=\"M 0 0 V -7.01825 H -7.8\"/><rect class=\"sym\" height=\"6\" width=\"6\" x=\"-3\" y=\"-3\"/><text class=\"lab\" transform=\"translate(0 11)\">5</text></g><g class=\"a11 c2 node n9 p1\" transform=\"translate(-7.8 5.26054)\"><g class=\"a9 i2 leaf node n4 p1 sample\" transform=\"translate(-5.2 1.7577)\"><path class=\"edge\" d=\"M 0 0 V -1.7577 H 5.2\"/><rect class=\"sym\" height=\"6\" width=\"6\" x=\"-3\" y=\"-3\"/><text class=\"lab\" transform=\"translate(0 11)\">4</text></g><g class=\"a9 i3 leaf node n7 p1 sample\" transform=\"translate(5.2 1.7577)\"><path class=\"edge\" d=\"M 0 0 V -1.7577 H -5.2\"/><rect class=\"sym\" height=\"6\" width=\"6\" x=\"-3\" y=\"-3\"/><text class=\"lab\" transform=\"translate(0 11)\">7</text></g><path class=\"edge\" d=\"M 0 0 V -5.26054 H 7.8\"/><circle class=\"sym\" cx=\"0\" cy=\"0\" r=\"3\"/><text class=\"lab lft\" transform=\"translate(-3 -7.0)\">9</text></g><path class=\"edge\" d=\"M 0 0 V -1.57282 H 9.1\"/><circle class=\"sym\" cx=\"0\" cy=\"0\" r=\"3\"/><text class=\"lab lft\" transform=\"translate(-3 -7.0)\">11</text></g><path class=\"edge\" d=\"M 0 0 V -86.0089 H -22.1\"/><circle class=\"sym\" cx=\"0\" cy=\"0\" r=\"3\"/><text class=\"lab rgt\" transform=\"translate(3 -7.0)\">12</text></g><g class=\"a14 c2 node n13 p0\" transform=\"translate(-22.1 81.9812)\"><g class=\"a13 i1 leaf node n3 p0 sample\" transform=\"translate(11.7 12.6188)\"><path class=\"edge\" d=\"M 0 0 V -12.6188 H -11.7\"/><rect class=\"sym\" height=\"6\" width=\"6\" x=\"-3\" y=\"-3\"/><text class=\"lab\" transform=\"translate(0 11)\">3</text></g><g class=\"a13 c2 node n10 p0\" transform=\"translate(-11.7 6.27142)\"><g class=\"a10 i0 leaf node n0 p0 sample\" transform=\"translate(-7.8 6.3474)\"><path class=\"edge\" d=\"M 0 0 V -6.3474 H 7.8\"/><rect class=\"sym\" height=\"6\" width=\"6\" x=\"-3\" y=\"-3\"/><text class=\"lab\" transform=\"translate(0 11)\">0</text></g><g class=\"a10 c2 node n8 p0\" transform=\"translate(7.8 6.02516)\"><g class=\"a8 i0 leaf node n1 p0 sample\" transform=\"translate(-5.2 0.322243)\"><path class=\"edge\" d=\"M 0 0 V -0.322243 H 5.2\"/><rect class=\"sym\" height=\"6\" width=\"6\" x=\"-3\" y=\"-3\"/><text class=\"lab\" transform=\"translate(0 11)\">1</text></g><g class=\"a8 i1 leaf node n2 p0 sample\" transform=\"translate(5.2 0.322243)\"><path class=\"edge\" d=\"M 0 0 V -0.322243 H -5.2\"/><rect class=\"sym\" height=\"6\" width=\"6\" x=\"-3\" y=\"-3\"/><text class=\"lab\" transform=\"translate(0 11)\">2</text></g><path class=\"edge\" d=\"M 0 0 V -6.02516 H -7.8\"/><circle class=\"sym\" cx=\"0\" cy=\"0\" r=\"3\"/><text class=\"lab rgt\" transform=\"translate(3 -7.0)\">8</text></g><path class=\"edge\" d=\"M 0 0 V -6.27142 H 11.7\"/><circle class=\"sym\" cx=\"0\" cy=\"0\" r=\"3\"/><text class=\"lab lft\" transform=\"translate(-3 -7.0)\">10</text></g><path class=\"edge\" d=\"M 0 0 V -81.9812 H 22.1\"/><circle class=\"sym\" cx=\"0\" cy=\"0\" r=\"3\"/><text class=\"lab lft\" transform=\"translate(-3 -7.0)\">13</text></g><circle class=\"sym\" cx=\"0\" cy=\"0\" r=\"3\"/><text class=\"lab\" transform=\"translate(0 -11)\">14</text></g></g></g></g></g></svg>"
      ],
      "text/plain": [
       "<IPython.core.display.SVG object>"
      ]
     },
     "execution_count": 70,
     "metadata": {},
     "output_type": "execute_result"
    }
   ],
   "source": [
    "SVG(ts.draw_svg(y_axis=True))"
   ]
  },
  {
   "cell_type": "markdown",
   "id": "8e774199",
   "metadata": {},
   "source": [
    "# Population growth"
   ]
  },
  {
   "cell_type": "code",
   "execution_count": 116,
   "id": "a784e721",
   "metadata": {},
   "outputs": [
    {
     "data": {
      "text/plain": [
       "Population(initial_size=1000, growth_rate=0.01, name='A', description='', extra_metadata={}, default_sampling_time=None, initially_active=None, id=0)"
      ]
     },
     "execution_count": 116,
     "metadata": {},
     "output_type": "execute_result"
    }
   ],
   "source": [
    "demography = msprime.Demography()\n",
    "demography.add_population(name=\"A\", initial_size=1000, growth_rate=0.01)"
   ]
  },
  {
   "cell_type": "code",
   "execution_count": 117,
   "id": "863b689a",
   "metadata": {},
   "outputs": [
    {
     "data": {
      "text/html": [
       "<div style=\"margin-left:20px\"><div><style scoped=\"\">\n",
       "            .tskit-table thead tr th:only-of-type {vertical-align: middle;}\n",
       "            .tskit-table thead tr th {text-align: center;vertical-align: top;}\n",
       "            .tskit-table tbody td {text-align: right;padding: 0.5em 0.5em;}\n",
       "            .tskit-table tbody th {padding: 0.5em 0.5em;}\n",
       "        </style><b>Populations (1)</b><table border=\"1\" class=\"tskit-table\"><thead><tr><th>id</th><th>name</th><th>description</th><th>initial_size</th><th>growth_rate</th><th>default_sampling_time</th><th>extra_metadata</th></tr></thead><tbody><tr><td>0</td><td>A</td><td></td><td>1000.0</td><td>0.01</td><td>0</td><td>{}</td></tr></tbody></table></div><div><style scoped=\"\">\n",
       "            .tskit-table thead tr th:only-of-type {vertical-align: middle;}\n",
       "            .tskit-table thead tr th {text-align: center;vertical-align: top;}\n",
       "            .tskit-table tbody td {text-align: right;padding: 0.5em 0.5em;}\n",
       "            .tskit-table tbody th {padding: 0.5em 0.5em;}\n",
       "        </style><b>Migration matrix (all zero)</b><table border=\"1\" class=\"tskit-table\"><thead><tr></tr></thead><tbody></tbody></table></div><div><style scoped=\"\">\n",
       "            .tskit-table thead tr th:only-of-type {vertical-align: middle;}\n",
       "            .tskit-table thead tr th {text-align: center;vertical-align: top;}\n",
       "            .tskit-table tbody td {text-align: right;padding: 0.5em 0.5em;}\n",
       "            .tskit-table tbody th {padding: 0.5em 0.5em;}\n",
       "        </style><b>Events (0)</b><table border=\"1\" class=\"tskit-table\"><thead><tr></tr></thead><tbody></tbody></table></div></div>"
      ],
      "text/plain": [
       "Demography(populations=[Population(initial_size=1000, growth_rate=0.01, name='A', description='', extra_metadata={}, default_sampling_time=None, initially_active=None, id=0)], events=[], migration_matrix=array([[0.]]))"
      ]
     },
     "execution_count": 117,
     "metadata": {},
     "output_type": "execute_result"
    }
   ],
   "source": [
    "demography"
   ]
  },
  {
   "cell_type": "markdown",
   "id": "237d1ffa",
   "metadata": {},
   "source": [
    "## Admixture"
   ]
  },
  {
   "cell_type": "code",
   "execution_count": 111,
   "id": "8ae8412c",
   "metadata": {},
   "outputs": [
    {
     "data": {
      "text/plain": [
       "PopulationSplit(time=20, derived=['A', 'B'], ancestral='ANC')"
      ]
     },
     "execution_count": 111,
     "metadata": {},
     "output_type": "execute_result"
    }
   ],
   "source": [
    "demography = msprime.Demography()\n",
    "demography.add_population(name=\"A\", initial_size=100)\n",
    "demography.add_population(name=\"B\", initial_size=100)\n",
    "demography.add_population(name=\"ADMIX\", initial_size=100)\n",
    "demography.add_population(name=\"ANC\", initial_size=100)\n",
    "demography.add_admixture(\n",
    "    time=10, derived=\"ADMIX\", ancestral=[\"A\", \"B\"], proportions=[0.25, 0.75])\n",
    "demography.add_population_split(time=20, derived=[\"A\", \"B\"], ancestral=\"ANC\")"
   ]
  },
  {
   "cell_type": "code",
   "execution_count": 112,
   "id": "1c015111",
   "metadata": {},
   "outputs": [
    {
     "data": {
      "text/html": [
       "<div style=\"margin-left:20px\"><div><style scoped=\"\">\n",
       "            .tskit-table thead tr th:only-of-type {vertical-align: middle;}\n",
       "            .tskit-table thead tr th {text-align: center;vertical-align: top;}\n",
       "            .tskit-table tbody td {text-align: right;padding: 0.5em 0.5em;}\n",
       "            .tskit-table tbody th {padding: 0.5em 0.5em;}\n",
       "        </style><b>Populations (4)</b><table border=\"1\" class=\"tskit-table\"><thead><tr><th>id</th><th>name</th><th>description</th><th>initial_size</th><th>growth_rate</th><th>default_sampling_time</th><th>extra_metadata</th></tr></thead><tbody><tr><td>0</td><td>A</td><td></td><td>100.0</td><td>0</td><td>0</td><td>{}</td></tr><tr><td>1</td><td>B</td><td></td><td>100.0</td><td>0</td><td>0</td><td>{}</td></tr><tr><td>2</td><td>ADMIX</td><td></td><td>100.0</td><td>0</td><td>0</td><td>{}</td></tr><tr><td>3</td><td>ANC</td><td></td><td>100.0</td><td>0</td><td>20</td><td>{}</td></tr></tbody></table></div><div><style scoped=\"\">\n",
       "            .tskit-table thead tr th:only-of-type {vertical-align: middle;}\n",
       "            .tskit-table thead tr th {text-align: center;vertical-align: top;}\n",
       "            .tskit-table tbody td {text-align: right;padding: 0.5em 0.5em;}\n",
       "            .tskit-table tbody th {padding: 0.5em 0.5em;}\n",
       "        </style><b>Migration matrix (all zero)</b><table border=\"1\" class=\"tskit-table\"><thead><tr></tr></thead><tbody></tbody></table></div><div><style scoped=\"\">\n",
       "            .tskit-table thead tr th:only-of-type {vertical-align: middle;}\n",
       "            .tskit-table thead tr th {text-align: center;vertical-align: top;}\n",
       "            .tskit-table tbody td {text-align: right;padding: 0.5em 0.5em;}\n",
       "            .tskit-table tbody th {padding: 0.5em 0.5em;}\n",
       "        </style><b>Events (2)</b><table border=\"1\" class=\"tskit-table\"><thead><tr><th>time</th><th>type</th><th>parameters</th><th>effect</th></tr></thead><tbody><tr><td>10</td><td><a href='https://tskit.dev/msprime/docs/latest/api.html#msprime.Demography.add_admixture'>Admixture</a></td><td>derived=ADMIX ancestral=[A, B] proportions=[0.25, 0.75]</td><td>Moves all lineages from admixed population &#x27;ADMIX&#x27; to ancestral populations. Lineages move to &#x27;A&#x27; with proba 0.25; &#x27;B&#x27; with proba 0.75. Set &#x27;ADMIX&#x27; to inactive, and all migration rates to and from &#x27;ADMIX&#x27; to zero.</td></tr><tr><td>20</td><td><a href='https://tskit.dev/msprime/docs/latest/api.html#msprime.Demography.add_population_split'>Population Split</a></td><td>derived=[A, B], ancestral=ANC</td><td>Moves all lineages from derived populations &#x27;A&#x27; and &#x27;B&#x27; to the ancestral &#x27;ANC&#x27; population. Also set the derived populations to inactive, and all migration rates to and from the derived populations to zero.</td></tr></tbody></table></div></div>"
      ],
      "text/plain": [
       "Demography(populations=[Population(initial_size=100, growth_rate=0, name='A', description='', extra_metadata={}, default_sampling_time=None, initially_active=None, id=0), Population(initial_size=100, growth_rate=0, name='B', description='', extra_metadata={}, default_sampling_time=None, initially_active=None, id=1), Population(initial_size=100, growth_rate=0, name='ADMIX', description='', extra_metadata={}, default_sampling_time=None, initially_active=None, id=2), Population(initial_size=100, growth_rate=0, name='ANC', description='', extra_metadata={}, default_sampling_time=20, initially_active=False, id=3)], events=[Admixture(time=10, derived='ADMIX', ancestral=['A', 'B'], proportions=[0.25, 0.75]), PopulationSplit(time=20, derived=['A', 'B'], ancestral='ANC')], migration_matrix=array([[0., 0., 0., 0.],\n",
       "       [0., 0., 0., 0.],\n",
       "       [0., 0., 0., 0.],\n",
       "       [0., 0., 0., 0.]]))"
      ]
     },
     "execution_count": 112,
     "metadata": {},
     "output_type": "execute_result"
    }
   ],
   "source": [
    "demography"
   ]
  },
  {
   "cell_type": "markdown",
   "id": "e7532717",
   "metadata": {},
   "source": [
    "## Migration"
   ]
  },
  {
   "cell_type": "code",
   "execution_count": 118,
   "id": "9c792297",
   "metadata": {},
   "outputs": [],
   "source": [
    "demography = msprime.Demography.isolated_model([100, 100])\n",
    "demography.set_migration_rate(source=0, dest=1, rate=0.1)"
   ]
  },
  {
   "cell_type": "code",
   "execution_count": 119,
   "id": "55d2b916",
   "metadata": {},
   "outputs": [
    {
     "data": {
      "text/html": [
       "<div style=\"margin-left:20px\"><div><style scoped=\"\">\n",
       "            .tskit-table thead tr th:only-of-type {vertical-align: middle;}\n",
       "            .tskit-table thead tr th {text-align: center;vertical-align: top;}\n",
       "            .tskit-table tbody td {text-align: right;padding: 0.5em 0.5em;}\n",
       "            .tskit-table tbody th {padding: 0.5em 0.5em;}\n",
       "        </style><b>Populations (2)</b><table border=\"1\" class=\"tskit-table\"><thead><tr><th>id</th><th>name</th><th>description</th><th>initial_size</th><th>growth_rate</th><th>default_sampling_time</th><th>extra_metadata</th></tr></thead><tbody><tr><td>0</td><td>pop_0</td><td></td><td>100.0</td><td>0</td><td>0</td><td>{}</td></tr><tr><td>1</td><td>pop_1</td><td></td><td>100.0</td><td>0</td><td>0</td><td>{}</td></tr></tbody></table></div><div><style scoped=\"\">\n",
       "            .tskit-table thead tr th:only-of-type {vertical-align: middle;}\n",
       "            .tskit-table thead tr th {text-align: center;vertical-align: top;}\n",
       "            .tskit-table tbody td {text-align: right;padding: 0.5em 0.5em;}\n",
       "            .tskit-table tbody th {padding: 0.5em 0.5em;}\n",
       "        </style><b>Migration matrix</b><table border=\"1\" class=\"tskit-table\"><thead><tr><th></th><th>pop_0</th><th>pop_1</th></tr></thead><tbody><tr><td>pop_0</td><td>0</td><td title='Backwards in time migration rate from population pop_0 to pop_1 = 0.1 per\n",
       "generation. Forwards in time, this is the expected number of migrants moving\n",
       "from pop_1 to pop_0 per generation, divided by the size of pop_0.'>0.1</td></tr><tr><td>pop_1</td><td title='Backwards in time migration rate from population pop_1 to pop_0 = 0.0 per\n",
       "generation. Forwards in time, this is the expected number of migrants moving\n",
       "from pop_0 to pop_1 per generation, divided by the size of pop_1.'>0</td><td>0</td></tr></tbody></table></div><div><style scoped=\"\">\n",
       "            .tskit-table thead tr th:only-of-type {vertical-align: middle;}\n",
       "            .tskit-table thead tr th {text-align: center;vertical-align: top;}\n",
       "            .tskit-table tbody td {text-align: right;padding: 0.5em 0.5em;}\n",
       "            .tskit-table tbody th {padding: 0.5em 0.5em;}\n",
       "        </style><b>Events (0)</b><table border=\"1\" class=\"tskit-table\"><thead><tr></tr></thead><tbody></tbody></table></div></div>"
      ],
      "text/plain": [
       "Demography(populations=[Population(initial_size=100.0, growth_rate=0.0, name='pop_0', description='', extra_metadata={}, default_sampling_time=None, initially_active=None, id=0), Population(initial_size=100.0, growth_rate=0.0, name='pop_1', description='', extra_metadata={}, default_sampling_time=None, initially_active=None, id=1)], events=[], migration_matrix=array([[0. , 0.1],\n",
       "       [0. , 0. ]]))"
      ]
     },
     "execution_count": 119,
     "metadata": {},
     "output_type": "execute_result"
    }
   ],
   "source": [
    "demography"
   ]
  }
 ],
 "metadata": {
  "kernelspec": {
   "display_name": "Python 3",
   "language": "python",
   "name": "python3"
  },
  "language_info": {
   "codemirror_mode": {
    "name": "ipython",
    "version": 3
   },
   "file_extension": ".py",
   "mimetype": "text/x-python",
   "name": "python",
   "nbconvert_exporter": "python",
   "pygments_lexer": "ipython3",
   "version": "3.8.8"
  }
 },
 "nbformat": 4,
 "nbformat_minor": 5
}
